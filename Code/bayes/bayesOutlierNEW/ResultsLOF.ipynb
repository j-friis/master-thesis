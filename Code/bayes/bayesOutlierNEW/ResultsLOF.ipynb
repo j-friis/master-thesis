{
 "cells": [
  {
   "cell_type": "code",
   "execution_count": 14,
   "id": "51f40102",
   "metadata": {},
   "outputs": [],
   "source": [
    "import pandas as pd\n",
    "import numpy as np\n",
    "import csv\n",
    "import re\n",
    "\n",
    "import matplotlib.pyplot as plt\n",
    "\n",
    "import numpy as np\n",
    "import pandas as pd\n",
    "import cv2\n",
    "import json\n",
    "\n",
    "import skimage.measure\n",
    "\n",
    "import rasterio\n",
    "from rasterio.features import shapes\n",
    "\n",
    "import matplotlib.patches as mpatches\n",
    "from shapely.geometry import Point, Polygon, shape, mapping\n",
    "import shapely\n",
    "import geopandas as gpd\n",
    "\n",
    "from matplotlib.path import Path\n",
    "import laspy\n",
    "import open3d as o3d\n",
    "import os\n",
    "\n",
    "from skopt import BayesSearchCV\n",
    "from sklearn.neighbors import LocalOutlierFactor\n",
    "import glob\n"
   ]
  },
  {
   "cell_type": "code",
   "execution_count": 15,
   "id": "d6fcefc6",
   "metadata": {},
   "outputs": [],
   "source": [
    "path_to_folder = 'lof/'\n",
    "results_name = \"results_outliers_lof.txt\""
   ]
  },
  {
   "cell_type": "code",
   "execution_count": 16,
   "id": "83cfbd6d",
   "metadata": {},
   "outputs": [],
   "source": [
    "cols = [\"file_id\",\n",
    "        \"filepath\",\n",
    "        \"pct_kept_powerline\",\n",
    "        \"pct_lost_datapoints\",\n",
    "        \"total_amount_points\",\n",
    "        \"total_amount_wire\",\n",
    "        \"new_total_amount_points\",\n",
    "        \"lost_wire\",\n",
    "        \"params\"]\n",
    "\n",
    "with open(path_to_folder+results_name, 'r') as f:\n",
    "    lines = f.read()\n",
    "lines = lines.split('\\n')[:-1]\n",
    "\n",
    "# Find the dictionary\n",
    "results = []\n",
    "for line in lines:\n",
    "    match = re.search(\"\\{.*\\}\", line)\n",
    "    start, end = match.span()\n",
    "    params = line[start:end]\n",
    "    data = line[:start-1].split(',')\n",
    "    results.append(data+[params])\n",
    "\n",
    "df = pd.DataFrame(results, columns=cols)\n",
    "\n",
    "df['file_id'] = df['file_id'].astype(int)\n",
    "df['pct_kept_powerline'] = df['pct_kept_powerline'].astype(float)\n",
    "df['pct_lost_datapoints'] = df['pct_lost_datapoints'].astype(float)\n",
    "\n",
    "df['total_amount_points'] = df['total_amount_points'].astype(int)\n",
    "df['total_amount_wire'] = df['total_amount_wire'].astype(int)\n",
    "df['new_total_amount_points'] = df['new_total_amount_points'].astype(int)\n",
    "df['lost_wire'] = df['lost_wire'].astype(int)"
   ]
  },
  {
   "cell_type": "code",
   "execution_count": 17,
   "id": "b492ba52",
   "metadata": {},
   "outputs": [
    {
     "data": {
      "text/plain": [
       "\"{'contamination': 0.05309688553104979, 'n_neighbors': 68, 'path': '/home/nxw500/data/'}\""
      ]
     },
     "execution_count": 17,
     "metadata": {},
     "output_type": "execute_result"
    }
   ],
   "source": [
    "df.params[0]"
   ]
  },
  {
   "cell_type": "code",
   "execution_count": null,
   "id": "480db91b",
   "metadata": {},
   "outputs": [],
   "source": []
  },
  {
   "cell_type": "code",
   "execution_count": 22,
   "id": "9f22f64b",
   "metadata": {},
   "outputs": [
    {
     "name": "stdout",
     "output_type": "stream",
     "text": [
      "0\n",
      "0.9950226086705853\n"
     ]
    }
   ],
   "source": [
    "runs = [] \n",
    "for i in df['params'].unique():\n",
    "    tmpDF = df[df['params'] == i]\n",
    "    runs.append(tmpDF)\n",
    "    \n",
    "LatexCodePre = r\"\"\"\n",
    "\\begin{table}[H]\n",
    "    {\\tiny\\tabcolsep=2pt\n",
    "    \\begin{adjustbox}{width=1.2\\linewidth,center}\n",
    "    \\begin{tabular}{clllllll}\n",
    "    \\multicolumn{1}{l}{\\textbf{}} &\n",
    "      \\multicolumn{1}{c}{\\textbf{Score1}} &\n",
    "      \\multicolumn{1}{c}{\\textbf{Score2}} &\n",
    "      \\multicolumn{1}{c}{\\textbf{Pct PL Rem}} &\n",
    "      \\multicolumn{1}{c}{\\textbf{Max PL Rem}} &\n",
    "      \\multicolumn{1}{c}{\\textbf{Pct DP Rem}} &\n",
    "      \\multicolumn{1}{c}{\\textbf{N Neighbors}} &\n",
    "      \\multicolumn{1}{c}{\\textbf{Contamination}}\\\\\n",
    "      \"\"\"\n",
    "\n",
    "LatexCodePost = \"\"\"    \n",
    "    \\end{tabular}\n",
    "    \\end{adjustbox}}\n",
    "    \\caption{Caption}\n",
    "    \\label{tab:my_label}\n",
    "\\end{table}\n",
    "\"\"\"\n",
    "\n",
    "epsilon = 0.0001\n",
    "alpha = 0.999\n",
    "\n",
    "middle = \"\"\n",
    "\n",
    "scores1 = []\n",
    "scores2 = []\n",
    "for iteration, run in enumerate(runs):\n",
    "    params = run.iloc[0].params.replace(\"'\", '\"')\n",
    "    params = json.loads(params)\n",
    "    \n",
    "    score1 = 0\n",
    "    if 1-np.mean(run['pct_kept_powerline']) <= epsilon:\n",
    "        score1 = np.mean(run['pct_lost_datapoints'])\n",
    "    scores1.append(score1)\n",
    "    \n",
    "    score2 = alpha * np.mean(run['pct_kept_powerline']) + (1-alpha)*np.mean(run['pct_lost_datapoints'])\n",
    "    scores2.append(score2)\n",
    "    \n",
    "    pctplrem = 1-np.mean(run['pct_kept_powerline'])\n",
    "    maxplrem = 1-np.min(run['pct_kept_powerline'])\n",
    "    pctdprem = np.mean(run['pct_lost_datapoints'])\n",
    "    \n",
    "    n_neighbors = params['n_neighbors']\n",
    "    contamination = params['contamination']\n",
    "    \n",
    "    tmp = r\"\\textbf{\"+str(iteration+1)+\"}\"+\" & \"\n",
    "    tmp += \"{:.8f}\".format(score1)+\" & \"\n",
    "    tmp += \"{:.8f}\".format(score2)+\" & \"\n",
    "    tmp += \"{:.8f}\".format(pctplrem)+\" & \"\n",
    "    tmp += \"{:.8f}\".format(maxplrem)+\" & \"\n",
    "    tmp += \"{:.8f}\".format(pctdprem)+\" & \"\n",
    "    tmp += str(n_neighbors)+\" & \"\n",
    "    tmp += str(contamination)+\"\\\\\\\\\\n\"\n",
    "    middle+=tmp\n",
    "    \n",
    "print(np.max(scores1))\n",
    "print(np.max(scores2))"
   ]
  },
  {
   "cell_type": "code",
   "execution_count": 23,
   "id": "ff6fa4b7",
   "metadata": {},
   "outputs": [
    {
     "name": "stdout",
     "output_type": "stream",
     "text": [
      "\n",
      "\\begin{table}[H]\n",
      "    {\\tiny\\tabcolsep=2pt\n",
      "    \\begin{adjustbox}{width=1.2\\linewidth,center}\n",
      "    \\begin{tabular}{clllllll}\n",
      "    \\multicolumn{1}{l}{\\textbf{}} &\n",
      "      \\multicolumn{1}{c}{\\textbf{Score1}} &\n",
      "      \\multicolumn{1}{c}{\\textbf{Score2}} &\n",
      "      \\multicolumn{1}{c}{\\textbf{Pct PL Rem}} &\n",
      "      \\multicolumn{1}{c}{\\textbf{Max PL Rem}} &\n",
      "      \\multicolumn{1}{c}{\\textbf{Pct DP Rem}} &\n",
      "      \\multicolumn{1}{c}{\\textbf{N Neighbors}} &\n",
      "      \\multicolumn{1}{c}{\\textbf{Contamination}}\\\\\n",
      "      \\textbf{1} & 0.00000000 & 0.99502261 & 0.00398147 & 0.02829452 & 0.00010025 & 68 & 0.05309688553104979\\\\\n",
      "\\textbf{2} & 0.00000000 & 0.99502261 & 0.00398147 & 0.02829452 & 0.00010025 & 98 & 0.025837907825612842\\\\\n",
      "\\textbf{3} & 0.00000000 & 0.99502261 & 0.00398147 & 0.02829452 & 0.00010025 & 7 & 0.05286964551580302\\\\\n",
      "\\textbf{4} & 0.00000000 & 0.99502261 & 0.00398147 & 0.02829452 & 0.00010025 & 79 & 0.014742833775305223\\\\\n",
      "\\textbf{5} & 0.00000000 & 0.99502261 & 0.00398147 & 0.02829452 & 0.00010025 & 25 & 0.023252170308998267\\\\\n",
      "\\textbf{6} & 0.00000000 & 0.99502261 & 0.00398147 & 0.02829452 & 0.00010025 & 99 & 0.08381680008893753\\\\\n",
      "\\textbf{7} & 0.00000000 & 0.99502261 & 0.00398147 & 0.02829452 & 0.00010025 & 76 & 0.09671315535720511\\\\\n",
      "\\textbf{8} & 0.00000000 & 0.99502261 & 0.00398147 & 0.02829452 & 0.00010025 & 53 & 0.05104939415280202\\\\\n",
      "\\textbf{9} & 0.00000000 & 0.99502261 & 0.00398147 & 0.02829452 & 0.00010025 & 90 & 0.00920635763602468\\\\\n",
      "\\textbf{10} & 0.00000000 & 0.99502261 & 0.00398147 & 0.02829452 & 0.00010025 & 45 & 0.03695432820307484\\\\\n",
      "\\textbf{11} & 0.00000000 & 0.99502261 & 0.00398147 & 0.02829452 & 0.00010025 & 1 & 0.09914058495458213\\\\\n",
      "\\textbf{12} & 0.00000000 & 0.99502261 & 0.00398147 & 0.02829452 & 0.00010025 & 1 & 0.002548992495679161\\\\\n",
      "\\textbf{13} & 0.00000000 & 0.99502261 & 0.00398147 & 0.02829452 & 0.00010025 & 1 & 0.1\\\\\n",
      "\\textbf{14} & 0.00000000 & 0.99502261 & 0.00398147 & 0.02829452 & 0.00010025 & 1 & 0.0004092584509607544\\\\\n",
      "\\textbf{15} & 0.00000000 & 0.99502261 & 0.00398147 & 0.02829452 & 0.00010025 & 98 & 0.09984774034722795\\\\\n",
      "\\textbf{16} & 0.00000000 & 0.99502261 & 0.00398147 & 0.02829452 & 0.00010025 & 100 & 1e-06\\\\\n",
      "\\textbf{17} & 0.00000000 & 0.99502261 & 0.00398147 & 0.02829452 & 0.00010025 & 1 & 0.09914262685890486\\\\\n",
      "\\textbf{18} & 0.00000000 & 0.99502261 & 0.00398147 & 0.02829452 & 0.00010025 & 100 & 0.09988145250309445\\\\\n",
      "\\textbf{19} & 0.00000000 & 0.99502261 & 0.00398147 & 0.02829452 & 0.00010025 & 1 & 0.00020142985939798424\\\\\n",
      "\\textbf{20} & 0.00000000 & 0.99502261 & 0.00398147 & 0.02829452 & 0.00010025 & 100 & 0.09943468515116514\\\\\n",
      "\\textbf{21} & 0.00000000 & 0.99502261 & 0.00398147 & 0.02829452 & 0.00010025 & 2 & 0.0004129696567265383\\\\\n",
      "\\textbf{22} & 0.00000000 & 0.99502261 & 0.00398147 & 0.02829452 & 0.00010025 & 100 & 0.001248546479866764\\\\\n",
      "\\textbf{23} & 0.00000000 & 0.99502261 & 0.00398147 & 0.02829452 & 0.00010025 & 2 & 0.09949576788347657\\\\\n",
      "\\textbf{24} & 0.00000000 & 0.99502261 & 0.00398147 & 0.02829452 & 0.00010025 & 99 & 0.09899506674057912\\\\\n",
      "\\textbf{25} & 0.00000000 & 0.99502261 & 0.00398147 & 0.02829452 & 0.00010025 & 1 & 1e-06\\\\\n",
      "\\textbf{26} & 0.00000000 & 0.99502261 & 0.00398147 & 0.02829452 & 0.00010025 & 100 & 7.580414310233629e-05\\\\\n",
      "\\textbf{27} & 0.00000000 & 0.99502261 & 0.00398147 & 0.02829452 & 0.00010025 & 1 & 0.09911273168847734\\\\\n",
      "\\textbf{28} & 0.00000000 & 0.99502261 & 0.00398147 & 0.02829452 & 0.00010025 & 98 & 0.09975596368067309\\\\\n",
      "\\textbf{29} & 0.00000000 & 0.99502261 & 0.00398147 & 0.02829452 & 0.00010025 & 99 & 0.00044416494872617914\\\\\n",
      "\\textbf{30} & 0.00000000 & 0.99502261 & 0.00398147 & 0.02829452 & 0.00010025 & 100 & 0.09975258132342843\\\\\n",
      "\\textbf{31} & 0.00000000 & 0.99502261 & 0.00398147 & 0.02829452 & 0.00010025 & 2 & 0.09975799475559366\\\\\n",
      "\\textbf{32} & 0.00000000 & 0.99502261 & 0.00398147 & 0.02829452 & 0.00010025 & 1 & 0.09991104059594436\\\\\n",
      "\\textbf{33} & 0.00000000 & 0.99502261 & 0.00398147 & 0.02829452 & 0.00010025 & 100 & 0.1\\\\\n",
      "\\textbf{34} & 0.00000000 & 0.99502261 & 0.00398147 & 0.02829452 & 0.00010025 & 100 & 0.0003971244136337991\\\\\n",
      "    \n",
      "    \\end{tabular}\n",
      "    \\end{adjustbox}}\n",
      "    \\caption{Caption}\n",
      "    \\label{tab:my_label}\n",
      "\\end{table}\n",
      "\n"
     ]
    }
   ],
   "source": [
    "print(LatexCodePre+middle+LatexCodePost)"
   ]
  },
  {
   "cell_type": "code",
   "execution_count": 24,
   "id": "aa13b94f",
   "metadata": {},
   "outputs": [],
   "source": [
    "runs = [] \n",
    "for i in df['params'].unique():\n",
    "    tmpDF = df[df['params'] == i]\n",
    "    runs.append(tmpDF)\n",
    "\n",
    "epsilon = 0.01\n",
    "best_score_1 = 0\n",
    "best_run_1 = None\n",
    "\n",
    "alpha = 0.95\n",
    "best_score_2 = 0\n",
    "best_run_2 = None\n",
    "\n",
    "for run in runs:\n",
    "    if 1-np.mean(run['pct_kept_powerline']) <= epsilon:\n",
    "        tmp_score_1 = np.mean(run['pct_lost_datapoints'])\n",
    "        if tmp_score_1 > best_score_1:\n",
    "            best_run_1 = run\n",
    "            best_score_1 = tmp_score_1    \n",
    "    \n",
    "    tmp_score_2 = alpha * np.mean(run['pct_kept_powerline']) + (1-alpha)*np.mean(run['pct_lost_datapoints'])\n",
    "    if tmp_score_2 > best_score_2:\n",
    "        best_run_2 = run\n",
    "        best_score_2 = tmp_score_2"
   ]
  },
  {
   "cell_type": "code",
   "execution_count": 25,
   "id": "f4419d7a",
   "metadata": {},
   "outputs": [
    {
     "name": "stdout",
     "output_type": "stream",
     "text": [
      "Minimum Kept Powerline:  0.9717054767789775\n",
      "Avg Kept Powerline:  0.9960185269450784\n",
      "Avg Data reduction:  0.00010025245202628744\n"
     ]
    },
    {
     "data": {
      "text/plain": [
       "0.00010025245202628744"
      ]
     },
     "execution_count": 25,
     "metadata": {},
     "output_type": "execute_result"
    }
   ],
   "source": [
    "print(\"Minimum Kept Powerline: \", np.min(best_run_1['pct_kept_powerline']))\n",
    "print(\"Avg Kept Powerline: \", np.mean(best_run_1['pct_kept_powerline']))\n",
    "print(\"Avg Data reduction: \", np.mean(best_run_1['pct_lost_datapoints']))\n",
    "best_score_1"
   ]
  },
  {
   "cell_type": "code",
   "execution_count": 26,
   "id": "54cfa998",
   "metadata": {},
   "outputs": [
    {
     "name": "stdout",
     "output_type": "stream",
     "text": [
      "Minimum Kept Powerline:  0.9717054767789775\n",
      "Avg Kept Powerline:  0.9960185269450784\n",
      "Avg Data reduction:  0.00010025245202628744\n"
     ]
    },
    {
     "data": {
      "text/plain": [
       "0.9462226132204258"
      ]
     },
     "execution_count": 26,
     "metadata": {},
     "output_type": "execute_result"
    }
   ],
   "source": [
    "print(\"Minimum Kept Powerline: \", np.min(best_run_2['pct_kept_powerline']))\n",
    "print(\"Avg Kept Powerline: \", np.mean(best_run_2['pct_kept_powerline']))\n",
    "print(\"Avg Data reduction: \", np.mean(best_run_2['pct_lost_datapoints']))\n",
    "best_score_2"
   ]
  },
  {
   "cell_type": "code",
   "execution_count": null,
   "id": "f9a870c8",
   "metadata": {},
   "outputs": [],
   "source": []
  }
 ],
 "metadata": {
  "kernelspec": {
   "display_name": "Python 3 (ipykernel)",
   "language": "python",
   "name": "python3"
  },
  "language_info": {
   "codemirror_mode": {
    "name": "ipython",
    "version": 3
   },
   "file_extension": ".py",
   "mimetype": "text/x-python",
   "name": "python",
   "nbconvert_exporter": "python",
   "pygments_lexer": "ipython3",
   "version": "3.8.16"
  }
 },
 "nbformat": 4,
 "nbformat_minor": 5
}
