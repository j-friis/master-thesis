{
 "cells": [
  {
   "cell_type": "code",
   "execution_count": null,
   "id": "41e1cdfc",
   "metadata": {},
   "outputs": [],
   "source": [
    "import matplotlib.pyplot as plt\n",
    "import matplotlib.image as mpimg\n",
    "import numpy as np\n",
    "import pandas as pd\n",
    "import cv2\n",
    "\n",
    "import skimage.measure\n",
    "\n",
    "import rasterio\n",
    "from rasterio.features import shapes\n",
    "\n",
    "import matplotlib.patches as mpatches\n",
    "from shapely.geometry import Point, Polygon, shape, mapping\n",
    "import shapely\n",
    "import geopandas as gpd\n",
    "\n",
    "from matplotlib.path import Path\n",
    "import laspy\n",
    "import open3d as o3d\n"
   ]
  },
  {
   "cell_type": "code",
   "execution_count": null,
   "id": "2297767d",
   "metadata": {
    "scrolled": false
   },
   "outputs": [],
   "source": [
    "image = cv2.imread('/home/frederik/data/TestData/meters_idw.tif', cv2.IMREAD_UNCHANGED)\n",
    "image = np.where(image >= 0, image, 0)\n",
    "image = image/np.max(image)\n",
    "\n",
    "image = (image*255).astype(np.uint8)\n",
    "plt.title(\"Original Image\")\n",
    "plt.imshow(image, cmap='gray')\n",
    "plt.show()\n",
    "\n",
    "kernel = np.ones((70,70),np.uint8)\n",
    "closing = cv2.morphologyEx(image, cv2.MORPH_CLOSE, kernel)\n",
    "\n",
    "plt.title(\"Closing\")\n",
    "plt.imshow(closing, cmap='gray')\n",
    "plt.show()\n",
    "\n",
    "\n",
    "#max_pooling = skimage.measure.block_reduce(closing, (10,10), np.max)\n",
    "\n",
    "#plt.title(\"Max Pooling\")\n",
    "#plt.imshow(max_pooling, cmap='gray')\n",
    "#plt.show()\n",
    "\n",
    "\n",
    "# Apply edge detection method on the image\n",
    "edges = cv2.Canny(closing, 4, 160, None, 3)\n",
    "\n",
    "plt.title(\"Edges\")\n",
    "plt.imshow(edges, cmap='gray')\n",
    "plt.show()\n",
    "\n",
    "# Probabilistic Line Transform\n",
    "# min_line_length, max_line_gap\n",
    "\n",
    "linesP = cv2.HoughLinesP(edges, 1, np.pi / 180, 100)\n",
    "\n",
    "lines_image = np.zeros_like(image)\n",
    "# Draw the lines\n",
    "if linesP is not None:\n",
    "    for i in range(0, len(linesP)):\n",
    "        l = linesP[i][0]\n",
    "        cv2.line(lines_image, (l[0], l[1]), (l[2], l[3]), (255,0,0), 3)\n",
    "\n",
    "plt.title(\"Hough Lines\")\n",
    "plt.imshow(lines_image, cmap='gray')\n",
    "plt.show()\n",
    "\n",
    "kernel = np.ones((5,5),np.uint8)\n",
    "dilation = cv2.dilate(lines_image, kernel, iterations = 7)\n",
    "plt.imshow(dilation, cmap='gray')\n",
    "plt.title(\"Dialation\")\n",
    "plt.show()\n",
    "\n",
    "\n",
    "# Pixels per kilometer\n",
    "x_pixels, y_pixels = image.shape\n",
    "\n",
    "# Pixels per meter\n",
    "x_pixels, y_pixels = x_pixels/1000, y_pixels/1000\n",
    "\n",
    "# Set kernel size to 1 meter around the each line\n",
    "kernel_size = int(2*np.ceil(x_pixels))*2\n",
    "\n",
    "# Create kernel\n",
    "circular_kernel = np.zeros((kernel_size, kernel_size), np.uint8)\n",
    "\n",
    "# Create a cirkular kernel using (image, center_coordinates, radius, color, thickness)\n",
    "cv2.circle(circular_kernel, (int(kernel_size/2), int(kernel_size/2)), int(kernel_size/2), 255, -1)\n",
    "\n",
    "# Perform dilation with the cirkular kernel\n",
    "dilation_cirkular_kernel = cv2.dilate(dilation, circular_kernel, iterations=1)\n",
    "\n",
    "plt.title(\"Dilation Cirkular Kernel\")\n",
    "plt.imshow(dilation_cirkular_kernel, cmap=\"gray\")\n",
    "plt.show()"
   ]
  },
  {
   "cell_type": "code",
   "execution_count": null,
   "id": "1f0aaf20",
   "metadata": {},
   "outputs": [],
   "source": [
    "# gdal_polygonize -f gpkg small_area.tif small.gpkg"
   ]
  },
  {
   "cell_type": "code",
   "execution_count": null,
   "id": "e2ae1dd3",
   "metadata": {},
   "outputs": [],
   "source": [
    "# Flipped Polygons\n",
    "\n",
    "mask = (dilation_cirkular_kernel == 0)\n",
    "output = rasterio.features.shapes(255-dilation_cirkular_kernel, mask=mask, connectivity=4)\n",
    "multipolygons_list = list(output)\n",
    "print(\"Amount of multipolygons: \", len(multipolygons_list))\n",
    "\n",
    "polygons = []\n",
    "for multi_polygons in multipolygons_list:\n",
    "    for polygon in multi_polygons[0]['coordinates']:\n",
    "        polygons.append(Path(polygon))\n",
    "\n",
    "print(\"Amount of polygons: \", len(polygons))"
   ]
  },
  {
   "cell_type": "code",
   "execution_count": null,
   "id": "689c2076",
   "metadata": {},
   "outputs": [],
   "source": [
    "mask = (dilation_cirkular_kernel == 255)\n",
    "output = rasterio.features.shapes(dilation_cirkular_kernel, mask=mask, connectivity=4)\n",
    "multipolygons_list = list(output)\n",
    "print(\"Amount of multipolygons: \", len(multipolygons_list))\n",
    "\n",
    "polygons = []\n",
    "for multi_polygons in multipolygons_list:\n",
    "    for polygon in multi_polygons[0]['coordinates']:\n",
    "        polygons.append(Path(polygon))\n",
    "\n",
    "print(\"Amount of polygons: \", len(polygons))"
   ]
  },
  {
   "cell_type": "code",
   "execution_count": null,
   "id": "857b111f",
   "metadata": {},
   "outputs": [],
   "source": []
  },
  {
   "cell_type": "code",
   "execution_count": null,
   "id": "a91a7d63",
   "metadata": {
    "scrolled": false
   },
   "outputs": [],
   "source": [
    "plt.figure()\n",
    "plt.imshow(dilation_cirkular_kernel, cmap='gray')\n",
    "\n",
    "for i in polygons:\n",
    "    x = i.vertices[:,0]\n",
    "    y = i.vertices[:,1]\n",
    "    plt.scatter(x,y, s=0.001, color='red')\n",
    "    \n",
    "plt.title(\"Polygons\")\n",
    "plt.show()"
   ]
  },
  {
   "cell_type": "code",
   "execution_count": null,
   "id": "b39fefe5",
   "metadata": {},
   "outputs": [],
   "source": [
    "polygons = []\n",
    "for multi_polygons in multipolygons_list:\n",
    "    for polygon in multi_polygons[0]['coordinates']:\n",
    "        polygons.append(Polygon(polygon))\n",
    "\n",
    "print(\"Amount of polygons: \", len(polygons))\n",
    "\n",
    "simplified_polygons = []\n",
    "for p in polygons:\n",
    "    simplified_polygons.append(shapely.simplify(p, tolerance=4, preserve_topology=True))\n",
    "    \n",
    "simplified_polygons  = [p for p in simplified_polygons if not p.is_empty]\n",
    "\n",
    "print(\"Amount of simplified polygons: \", len(simplified_polygons))\n",
    "    \n",
    "plt.figure()\n",
    "plt.imshow(dilation_cirkular_kernel, cmap='gray')\n",
    "\n",
    "for p in simplified_polygons:\n",
    "    x, y = p.exterior.coords.xy\n",
    "    plt.scatter(x,y, s=0.01, color='red')\n",
    "    \n",
    "plt.title(\"Simplified Polygons\")\n",
    "plt.show()\n",
    "\n"
   ]
  },
  {
   "cell_type": "code",
   "execution_count": null,
   "id": "aee8529e",
   "metadata": {},
   "outputs": [],
   "source": []
  },
  {
   "cell_type": "code",
   "execution_count": null,
   "id": "622fa6be",
   "metadata": {
    "scrolled": false
   },
   "outputs": [],
   "source": [
    "# Pixels per kilometer\n",
    "x_pixels, y_pixels = image.shape\n",
    "\n",
    "def MaxMinNormalize(arr):\n",
    "    return (arr - np.min(arr))/(np.max(arr)-np.min(arr))\n",
    "\n",
    "def CastAllXValuesToImage(arr, x_pixels):\n",
    "    return MaxMinNormalize(arr)*x_pixels\n",
    "\n",
    "def CastAllYValuesToImage(arr, y_pixels):\n",
    "    return (1-MaxMinNormalize(arr))*y_pixels"
   ]
  },
  {
   "cell_type": "code",
   "execution_count": null,
   "id": "4002dcc2",
   "metadata": {},
   "outputs": [],
   "source": [
    "# Create Path Polygons\n",
    "bbox_polygon = [p.bounds for p in polygons]\n",
    "\n",
    "simplified_path_polygons = []\n",
    "bbox_path_polygons = []\n",
    "\n",
    "for i in range(len(bbox_polygon)):\n",
    "    \n",
    "    tempBox = bbox_polygon[i]\n",
    "    #(minx, miny, maxx, maxy)\n",
    "    x_min = tempBox[0]\n",
    "    x_max = tempBox[2]\n",
    "    \n",
    "    y_min = tempBox[1]\n",
    "    y_max = tempBox[3]\n",
    "    \n",
    "    bb = [(x_min, y_min), (x_min, y_max), (x_max, y_max), (x_max, y_min)]\n",
    "    bbox_path_polygons.append(Path(bb))\n",
    "    \n",
    "    tempPolygon = simplified_polygons[i]\n",
    "    simplified_path_polygons.append(Path(mapping(simplified_polygons[i])['coordinates'][0]))"
   ]
  },
  {
   "cell_type": "code",
   "execution_count": null,
   "id": "e177c05a",
   "metadata": {},
   "outputs": [],
   "source": []
  },
  {
   "cell_type": "code",
   "execution_count": null,
   "id": "dcb789b3",
   "metadata": {},
   "outputs": [],
   "source": [
    "\n"
   ]
  },
  {
   "cell_type": "code",
   "execution_count": null,
   "id": "ad436927",
   "metadata": {},
   "outputs": [],
   "source": [
    "las = laspy.read(r'/home/frederik/data/denmark/raw/train/PUNKTSKY_00005_1km_6090_503.laz')"
   ]
  },
  {
   "cell_type": "code",
   "execution_count": null,
   "id": "ccd7a96b",
   "metadata": {
    "scrolled": true
   },
   "outputs": [],
   "source": [
    "x_values = CastAllXValuesToImage(las.X, x_pixels)\n",
    "y_values = CastAllXValuesToImage(las.Y, x_pixels)\n",
    "\n",
    "# Format: [(1,1), (3,5), (1,5), ...] with 30 mio samples\n",
    "list_zipped = np.array(list(zip(x_values,y_values)))\n",
    "\n",
    "# Mask to obtain the final indexes of the las file\n",
    "#indexes_needed_iter1 = np.zeros(len(x_values), dtype=bool)\n",
    "\n",
    "indexes_needed = np.zeros(len(x_values), dtype=bool)\n",
    "\n",
    "print(len(bbox_path_polygons))\n",
    "\n",
    "# Run through all polygons and check which points are inside the polygon\n",
    "for i in range(len(bbox_path_polygons)):\n",
    "    #indexes_in_bb = bbox_path_polygons[i].contains_points(list_zipped)\n",
    "    #indexes_needed = indexes_needed | indexes_in_bb\n",
    "    #coordinates_in_bb = list_zipped[indexes_in_bb]\n",
    "    \n",
    "    indexes_in_polygon = simplified_path_polygons[i].contains_points(list_zipped)\n",
    "    indexes_needed = indexes_needed | indexes_in_polygon\n",
    "    print(i)\n"
   ]
  },
  {
   "cell_type": "code",
   "execution_count": null,
   "id": "d158dfe5",
   "metadata": {},
   "outputs": [],
   "source": [
    "print(\"Point Cloud points: \", np.sum(indexes_needed))\n",
    "new_las = las[indexes_needed]\n",
    "\n",
    "point_data = np.stack([new_las.X, new_las.Y, new_las.Z], axis=0).transpose((1, 0))\n",
    "\n",
    "geom = o3d.geometry.PointCloud()\n",
    "geom.points = o3d.utility.Vector3dVector(point_data)\n",
    "o3d.visualization.draw_geometries([geom])"
   ]
  },
  {
   "cell_type": "code",
   "execution_count": null,
   "id": "fdb26caf",
   "metadata": {},
   "outputs": [],
   "source": []
  },
  {
   "cell_type": "code",
   "execution_count": null,
   "id": "177e778f",
   "metadata": {},
   "outputs": [],
   "source": [
    "print(\"Point Cloud points: \", np.sum(indexes_needed))"
   ]
  },
  {
   "cell_type": "code",
   "execution_count": null,
   "id": "8fed8a9a",
   "metadata": {},
   "outputs": [],
   "source": [
    "point_data"
   ]
  },
  {
   "cell_type": "code",
   "execution_count": null,
   "id": "335450b4",
   "metadata": {},
   "outputs": [],
   "source": [
    "gg = list(zip(x_values, y_values))"
   ]
  },
  {
   "cell_type": "code",
   "execution_count": null,
   "id": "22efb0df",
   "metadata": {},
   "outputs": [],
   "source": [
    "print(gg)"
   ]
  },
  {
   "cell_type": "code",
   "execution_count": null,
   "id": "948fef1e",
   "metadata": {},
   "outputs": [],
   "source": []
  },
  {
   "cell_type": "code",
   "execution_count": null,
   "id": "fc2a424d",
   "metadata": {
    "scrolled": false
   },
   "outputs": [],
   "source": [
    "\n",
    "#point_data = np.stack([las.X, las.Y, las.Z], axis=0).transpose((1, 0))\n",
    "\n",
    "#geom = o3d.geometry.PointCloud()\n",
    "#geom.points = o3d.utility.Vector3dVector(point_data)\n",
    "#o3d.visualization.draw_geometries([geom])"
   ]
  },
  {
   "cell_type": "code",
   "execution_count": null,
   "id": "c432dcf1",
   "metadata": {},
   "outputs": [],
   "source": []
  },
  {
   "cell_type": "code",
   "execution_count": null,
   "id": "27c70112",
   "metadata": {},
   "outputs": [],
   "source": []
  },
  {
   "cell_type": "code",
   "execution_count": null,
   "id": "d3dc2765",
   "metadata": {},
   "outputs": [],
   "source": []
  },
  {
   "cell_type": "code",
   "execution_count": null,
   "id": "8d0aab8a",
   "metadata": {},
   "outputs": [],
   "source": []
  }
 ],
 "metadata": {
  "kernelspec": {
   "display_name": "Python 3 (ipykernel)",
   "language": "python",
   "name": "python3"
  },
  "language_info": {
   "codemirror_mode": {
    "name": "ipython",
    "version": 3
   },
   "file_extension": ".py",
   "mimetype": "text/x-python",
   "name": "python",
   "nbconvert_exporter": "python",
   "pygments_lexer": "ipython3",
   "version": "3.8.16"
  }
 },
 "nbformat": 4,
 "nbformat_minor": 5
}
