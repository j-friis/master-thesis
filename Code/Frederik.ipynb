{
 "cells": [
  {
   "cell_type": "code",
   "execution_count": null,
   "id": "be501d4c",
   "metadata": {},
   "outputs": [],
   "source": [
    "#import pylas\n",
    "import numpy as np\n",
    "import laspy\n",
    "import open3d as o3d\n",
    "\n",
    "import matplotlib.pyplot as plt\n",
    "import numpy as np\n",
    "import cv2\n",
    "\n",
    "from skimage.transform import (hough_line, hough_line_peaks,\n",
    "                               probabilistic_hough_line)\n",
    "from skimage.feature import canny\n",
    "\n",
    "from matplotlib import cm"
   ]
  },
  {
   "cell_type": "code",
   "execution_count": null,
   "id": "55cc740d",
   "metadata": {},
   "outputs": [],
   "source": [
    "las.header\n",
    "las.header.point_format\n",
    "las.header.point_count\n",
    "las.vlrs"
   ]
  },
  {
   "cell_type": "code",
   "execution_count": null,
   "id": "42d7e5d7",
   "metadata": {},
   "outputs": [],
   "source": [
    "list(las.point_format.dimension_names)"
   ]
  },
  {
   "cell_type": "code",
   "execution_count": null,
   "id": "39d295e6",
   "metadata": {},
   "outputs": [],
   "source": [
    "las.classification"
   ]
  },
  {
   "cell_type": "code",
   "execution_count": null,
   "id": "9c98ccb5",
   "metadata": {},
   "outputs": [],
   "source": [
    "point_data = np.stack([las.X, las.Y, las.Z], axis=0).transpose((1, 0))\n",
    "point_data.shape"
   ]
  },
  {
   "cell_type": "code",
   "execution_count": null,
   "id": "35a63087",
   "metadata": {},
   "outputs": [],
   "source": []
  },
  {
   "cell_type": "code",
   "execution_count": null,
   "id": "113265c6",
   "metadata": {},
   "outputs": [],
   "source": []
  },
  {
   "cell_type": "code",
   "execution_count": null,
   "id": "1800868c",
   "metadata": {},
   "outputs": [],
   "source": [
    "distanceXperKM = (np.max(point_data[:,0]) - np.min(point_data[:,0]))\n",
    "distanceXperM = distanceXperKM/1000\n",
    "distanceXperCM = distanceXperM/100\n",
    "\n",
    "print(\"1 x distance per KM: \", distanceXperKM)\n",
    "print(\"1 x distance per M: \", distanceXperM)\n",
    "print(\"1 x distance per CM: \", distanceXperCM)\n",
    "\n",
    "print()\n",
    "\n",
    "distanceYperKM = (np.max(point_data[:,1]) - np.min(point_data[:,1]))\n",
    "distanceYperM = distanceYperKM/1000\n",
    "distanceYperCM = distanceYperM/100\n",
    "\n",
    "print(\"1 y distance per KM: \", distanceYperKM)\n",
    "print(\"1 y distance per M: \", distanceYperM)\n",
    "print(\"1 y distance per CM: \", distanceYperCM)\n",
    "\n",
    "(np.max(point_data[:,2]) - np.min(point_data[:,2]))"
   ]
  },
  {
   "cell_type": "code",
   "execution_count": null,
   "id": "692ba4f5",
   "metadata": {},
   "outputs": [],
   "source": [
    "f = open(\"testFile.txt\", \"a\")\n",
    "for i in range(point_data.shape[0]):\n",
    "    f.write(str(point_data[i,0]) + \",\" + str(point_data[i, 1]) + \",\" + str(point_data[i, 2]) + \"\\n\")\n",
    "f.close()"
   ]
  },
  {
   "cell_type": "code",
   "execution_count": null,
   "id": "684956fd",
   "metadata": {},
   "outputs": [],
   "source": [
    "point_data"
   ]
  },
  {
   "cell_type": "code",
   "execution_count": null,
   "id": "8394f72a",
   "metadata": {},
   "outputs": [],
   "source": [
    "geom = o3d.geometry.PointCloud()\n",
    "geom.points = o3d.utility.Vector3dVector(point_data)\n",
    "o3d.visualization.draw_geometries([geom])\n",
    "\n",
    "\n",
    "\n"
   ]
  },
  {
   "cell_type": "code",
   "execution_count": null,
   "id": "dc2cf74c",
   "metadata": {},
   "outputs": [],
   "source": [
    "# Seperate the classes from set(list(las.classification))\n",
    "\n",
    "print(set(list(las.classification)))\n",
    "\n",
    "buildings = laspy.create(point_format=las.header.point_format, file_version=las.header.version)\n",
    "buildings.points = las.points[las.classification == 6]\n",
    "buildings.write('buildings.las')\n",
    "\n",
    "\n",
    "\n",
    "\n",
    "#two.write('two.las')"
   ]
  },
  {
   "cell_type": "code",
   "execution_count": null,
   "id": "c9c6e250",
   "metadata": {},
   "outputs": [],
   "source": [
    "powerlines = laspy.create(point_format=las.header.point_format, file_version=las.header.version)\n",
    "powerlines.points = las.points[las.classification == 5]\n",
    "\n",
    "point_data = np.stack([powerlines.X, powerlines.Y, powerlines.Z], axis=0).transpose((1, 0))\n",
    "print(point_data.shape)\n",
    "\n",
    "\n",
    "geom = o3d.geometry.PointCloud()\n",
    "geom.points = o3d.utility.Vector3dVector(point_data)\n",
    "o3d.visualization.draw_geometries([geom])"
   ]
  },
  {
   "cell_type": "code",
   "execution_count": null,
   "id": "af4bbf04",
   "metadata": {},
   "outputs": [],
   "source": [
    "las = laspy.read(r'/home/frederik/data/denmark/raw/val/PUNKTSKY_00005_1km_6090_507.laz')\n",
    "\n",
    "powerlines = laspy.create(point_format=las.header.point_format, file_version=las.header.version)\n",
    "powerlines.points = las.points[las.classification == 14]\n",
    "\n",
    "point_data_powerlines = np.stack([powerlines.X, powerlines.Y, powerlines.Z], axis=0).transpose((1, 0))\n",
    "print(point_data_powerlines.shape)\n",
    "\n",
    "point_data_all = np.stack([las.X, las.Y, las.Z], axis=0).transpose((1, 0))\n",
    "\n",
    "\n",
    "    \n",
    "#geom = o3d.geometry.PointCloud()\n",
    "#geom.points = o3d.utility.Vector3dVector(point_data)\n",
    "#o3d.visualization.draw_geometries([geom])"
   ]
  },
  {
   "cell_type": "code",
   "execution_count": null,
   "id": "d9f2a757",
   "metadata": {},
   "outputs": [],
   "source": [
    "# Create Dictionary\n",
    "dictio = {}\n",
    "counter = 0\n",
    "for coordinate in point_data_all:\n",
    "    x, y, z = coordinate\n",
    "    \n",
    "    #round x and y to the nearest center.\n",
    "    meter=0.2\n",
    "    rounded = 100*meter\n",
    "    \n",
    "    center_x = np.round(x/rounded)*rounded\n",
    "    center_y = np.round(y/rounded)*rounded\n",
    "    \n",
    "    if (center_x, center_y) in dictio:\n",
    "        dictio[(center_x, center_y)].append([x, y, z])\n",
    "    else:\n",
    "        dictio[(center_x, center_y)] = [[x, y, z]]\n",
    "\n",
    "\n",
    "        final_coordinates = []\n",
    "        \n",
    "for value in dictio.values():\n",
    "    numpy_arr_value = np.array(value)\n",
    "    z_values = numpy_arr_value[:,2]\n",
    "\n",
    "    # Get the heights and difference\n",
    "    max_height = np.max(z_values)\n",
    "    min_height = np.min(z_values)\n",
    "    difference = max_height-min_height\n",
    "    \n",
    "    # meters in Z value\n",
    "    meter = 3\n",
    "    meter_criterion = meter*100\n",
    "    \n",
    "    # Set the minimum height criterion\n",
    "    minimum_height = min_height+meter_criterion\n",
    "    \n",
    "    # check is there are points higher than the specified meters from the ground.\n",
    "    if difference > meter_criterion:\n",
    "        \n",
    "        # For each coord, append if the coord is higher than 4 meters.\n",
    "        for coord in numpy_arr_value:\n",
    "            x, y, z = coord\n",
    "            if z >= minimum_height:\n",
    "                final_coordinates.append(coord)\n",
    "                counter += 1\n",
    "                \n",
    "final_coordinates = np.array(final_coordinates)"
   ]
  },
  {
   "cell_type": "code",
   "execution_count": null,
   "id": "6c8145ad",
   "metadata": {},
   "outputs": [],
   "source": [
    "\n",
    "geom = o3d.geometry.PointCloud()\n",
    "geom.points = o3d.utility.Vector3dVector(final_coordinates)\n",
    "o3d.visualization.draw_geometries([geom])\n",
    "\n",
    "\n",
    "\n",
    "\n"
   ]
  },
  {
   "cell_type": "code",
   "execution_count": null,
   "id": "886095dd",
   "metadata": {},
   "outputs": [],
   "source": [
    "final_coordinates.shape[0] - 5863951"
   ]
  },
  {
   "cell_type": "code",
   "execution_count": null,
   "id": "7cbaa0f2",
   "metadata": {},
   "outputs": [],
   "source": [
    "final_coordinates.shape[0] - 5863951"
   ]
  },
  {
   "cell_type": "code",
   "execution_count": null,
   "id": "2cbfb772",
   "metadata": {},
   "outputs": [],
   "source": [
    "counter = 0\n",
    "lst = []\n",
    "for key in dictio.keys():\n",
    "    # The list of Z values\n",
    "    value = dictio[key]\n",
    "    \n",
    "    # Get the heights and difference\n",
    "    max_height = np.max(value)\n",
    "    min_height = np.min(value)\n",
    "    difference = max_height-min_height\n",
    "    \n",
    "    # 4 meters in Z value\n",
    "    meter_criterion = 300\n",
    "    \n",
    "    # check is there are points higher than 4 meters from the ground\n",
    "    if difference > meter_criterion:\n",
    "        x, y = key\n",
    "        for z_val in value:\n",
    "            \n",
    "            minimum_height = min_height+meter_criterion\n",
    "            if z_val >= minimum_height:\n",
    "                lst.append([x, y, z_val])\n",
    "                counter += 1\n",
    "    if counter % 200 == 0:\n",
    "        print(counter)"
   ]
  },
  {
   "cell_type": "code",
   "execution_count": null,
   "id": "1ffe3357",
   "metadata": {},
   "outputs": [],
   "source": [
    "lst = np.array(lst)"
   ]
  },
  {
   "cell_type": "code",
   "execution_count": null,
   "id": "16a290df",
   "metadata": {},
   "outputs": [],
   "source": [
    "lst.shape"
   ]
  },
  {
   "cell_type": "code",
   "execution_count": null,
   "id": "1a1426d5",
   "metadata": {},
   "outputs": [],
   "source": [
    "geom = o3d.geometry.PointCloud()\n",
    "geom.points = o3d.utility.Vector3dVector(lst)\n",
    "o3d.visualization.draw_geometries([geom])"
   ]
  },
  {
   "cell_type": "code",
   "execution_count": null,
   "id": "5e9874ca",
   "metadata": {},
   "outputs": [],
   "source": [
    "geom = o3d.geometry.PointCloud()\n",
    "geom.points = o3d.utility.Vector3dVector(point_data_all)\n",
    "o3d.visualization.draw_geometries([geom])"
   ]
  },
  {
   "cell_type": "code",
   "execution_count": null,
   "id": "2128e9ca",
   "metadata": {},
   "outputs": [],
   "source": []
  },
  {
   "cell_type": "code",
   "execution_count": null,
   "id": "8b1200c1",
   "metadata": {},
   "outputs": [],
   "source": [
    "las = laspy.read(r'/home/frederik/data/TestData/meters.las')\n",
    "point_data = np.stack([las.X, las.Y, las.Z], axis=0).transpose((1, 0))\n",
    "print(point_data.shape)\n",
    "\n",
    "\n",
    "geom = o3d.geometry.PointCloud()\n",
    "geom.points = o3d.utility.Vector3dVector(point_data)\n",
    "o3d.visualization.draw_geometries([geom])"
   ]
  },
  {
   "cell_type": "code",
   "execution_count": null,
   "id": "e7412b69",
   "metadata": {},
   "outputs": [],
   "source": [
    "img = cv2.imread('/home/frederik/data/TestData/meters_idw.tif', cv2.IMREAD_UNCHANGED)\n",
    "plt.imshow(img, cmap='gray')\n",
    "plt.show()\n",
    "\n",
    "img = cv2.imread('/home/frederik/data/TestData/meters_min.tif', cv2.IMREAD_UNCHANGED)\n",
    "plt.imshow(img, cmap='gray')\n",
    "plt.show()\n",
    "\n",
    "img = cv2.imread('/home/frederik/data/TestData/meters_max.tif', cv2.IMREAD_UNCHANGED)\n",
    "plt.imshow(img, cmap='gray')\n",
    "plt.show()"
   ]
  },
  {
   "cell_type": "code",
   "execution_count": null,
   "id": "1ddc5338",
   "metadata": {
    "scrolled": false
   },
   "outputs": [],
   "source": []
  },
  {
   "cell_type": "code",
   "execution_count": null,
   "id": "38cf83a3",
   "metadata": {},
   "outputs": [],
   "source": [
    "image = cv2.imread('/home/frederik/data/TestData/meters_max.tif', cv2.IMREAD_UNCHANGED)\n",
    "image = np.where(image >= 0, image, 0)\n",
    "image = image/np.max(image)\n",
    "#image = 1-image\n",
    "\n",
    "plt.imshow(image, cmap='gray')\n",
    "plt.show()\n",
    "\n",
    "# Classic straight-line Hough transform\n",
    "h, theta, d = hough_line(image)\n",
    "\n",
    "# Generating figure 1\n",
    "fig, axes = plt.subplots(1, 3, figsize=(15, 6))\n",
    "ax = axes.ravel()\n",
    "\n",
    "ax[0].imshow(image, cmap=cm.gray)\n",
    "ax[0].set_title('Input image')\n",
    "ax[0].set_axis_off()\n",
    "\n",
    "ax[1].imshow(np.log(1 + h),\n",
    "             extent=[np.rad2deg(theta[-1]), np.rad2deg(theta[0]), d[-1], d[0]],\n",
    "             cmap=cm.gray, aspect=1/1.5)\n",
    "ax[1].set_title('Hough transform')\n",
    "ax[1].set_xlabel('Angles (degrees)')\n",
    "ax[1].set_ylabel('Distance (pixels)')\n",
    "ax[1].axis('image')\n",
    "\n",
    "ax[2].imshow(image, cmap=cm.gray)\n",
    "for _, angle, dist in zip(*hough_line_peaks(h, theta, d)):\n",
    "    y0 = (dist - 0 * np.cos(angle)) / np.sin(angle)\n",
    "    y1 = (dist - image.shape[1] * np.cos(angle)) / np.sin(angle)\n",
    "    ax[2].plot((0, image.shape[1]), (y0, y1), '-r')\n",
    "ax[2].set_xlim((0, image.shape[1]))\n",
    "ax[2].set_ylim((image.shape[0], 0))\n",
    "ax[2].set_axis_off()\n",
    "ax[2].set_title('Detected lines')\n",
    "\n",
    "plt.tight_layout()\n",
    "plt.show()"
   ]
  },
  {
   "cell_type": "code",
   "execution_count": null,
   "id": "dea51d23",
   "metadata": {},
   "outputs": [],
   "source": [
    "import matplotlib.pyplot as plt\n",
    "import matplotlib.image as mpimg\n",
    "import numpy as np\n",
    "import cv2\n",
    "\n",
    "image = cv2.imread('/home/frederik/data/TestData/meters_max.tif', cv2.IMREAD_UNCHANGED)\n",
    "image = np.where(image >= 0, image, 0)\n",
    "image = image/np.max(image)\n",
    "\n",
    "#image = mpimg.imread(\"test_images/ppnt.jpg\")\n",
    "image = (image*255).astype(np.uint8)\n",
    "\n",
    "plt.title(\"Image\")\n",
    "plt.imshow(image, cmap='gray')\n",
    "plt.show()\n",
    "\n",
    "\n",
    "kernel = np.ones((50,50),np.uint8)\n",
    "closing = cv2.morphologyEx(image, cv2.MORPH_CLOSE, kernel)\n",
    "\n",
    "plt.title(\"Opening\")\n",
    "plt.imshow(closing, cmap='gray')\n",
    "plt.show()\n",
    "\n",
    "# Apply edge detection method on the image\n",
    "#edges = cv2.Canny(image, 50, 200, None, 3)\n",
    "edges = cv2.Canny(closing, 15, 15)\n",
    "\n",
    "plt.title(\"Edges\")\n",
    "plt.imshow(edges, cmap='gray')\n",
    "plt.show()\n",
    "\n",
    "\n",
    "\n",
    "\n",
    "# Probabilistic Line Transform\n",
    "# min_line_length, max_line_gap\n",
    "\n",
    "#dst: Output of the edge detector. It should be a grayscale image (although in fact it is a binary one)\n",
    "#lines: A vector that will store the parameters (r,θ) of the detected lines\n",
    "#rho : The resolution of the parameter r in pixels. We use 1 pixel.\n",
    "#theta: The resolution of the parameter θ in radians. We use 1 degree (CV_PI/180)\n",
    "#threshold: The minimum number of intersections to \"*detect*\" a line\n",
    "\n",
    "#srn For the multi-scale Hough transform, it is a divisor for the distance resolution rho. The coarse accumulator\n",
    "#distance resolution is rho and the accurate accumulator resolution is rho/srn.\n",
    "#If both srn=0 and stn=0, the classical Hough transform is used. Otherwise,\n",
    "#both these parameters should be positive.\n",
    "# min line length\n",
    "\n",
    "#stn For the multi-scale Hough transform, it is a divisor for the distance resolution theta.\n",
    "# max line gap\n",
    "\n",
    "linesP = cv2.HoughLinesP(edges, 1, np.pi / 180, 10, None, 50, 20)\n",
    "#linesP = cv2.HoughLinesP(edges, 1, np.pi / 180, 50, None, 300, 10)\n",
    "\n",
    "print(len(linesP))\n",
    "\n",
    "lines_image = np.zeros_like(image)\n",
    "\n",
    "# Draw the lines\n",
    "if linesP is not None:\n",
    "    for i in range(0, len(linesP)):\n",
    "        l = linesP[i][0]\n",
    "        cv2.line(lines_image, (l[0], l[1]), (l[2], l[3]), (255,0,0), 3)\n",
    "\n",
    "\n",
    "plt.imshow(lines_image, cmap='gray')\n",
    "plt.show()"
   ]
  },
  {
   "cell_type": "code",
   "execution_count": null,
   "id": "9c158ae6",
   "metadata": {},
   "outputs": [],
   "source": []
  },
  {
   "cell_type": "code",
   "execution_count": null,
   "id": "540800e3",
   "metadata": {},
   "outputs": [],
   "source": [
    "las = laspy.read(r'/home/frederik/data/TestData/meters.las')\n",
    "point_data = np.stack([las.X, las.Y, las.Z], axis=0).transpose((1, 0))\n",
    "\n"
   ]
  },
  {
   "cell_type": "code",
   "execution_count": null,
   "id": "9f0806a5",
   "metadata": {},
   "outputs": [],
   "source": [
    "geom = o3d.geometry.PointCloud()\n",
    "geom.points = o3d.utility.Vector3dVector(point_data)\n",
    "o3d.visualization.draw_geometries([geom])"
   ]
  },
  {
   "cell_type": "code",
   "execution_count": null,
   "id": "534a0164",
   "metadata": {},
   "outputs": [],
   "source": [
    "\n",
    "\n",
    "# Create Dictionary\n",
    "dictio = {}\n",
    "for i, coordinate in enumerate(point_data):\n",
    "    x, y, z = coordinate\n",
    "    #round x and y and z to the nearest center.\n",
    "    meter = 2\n",
    "    rounded = 100*meter\n",
    "    \n",
    "    center_x = np.round(x/rounded)*rounded\n",
    "    center_y = np.round(y/rounded)*rounded\n",
    "    center_z = np.round(z/rounded)*rounded\n",
    "    \n",
    "    if (center_x, center_y, center_z) in dictio:\n",
    "        dictio[(center_x, center_y, center_z)].append([x,y,z])\n",
    "    else:\n",
    "        dictio[(center_x, center_y, center_z)] = [[x,y,z]]\n",
    "\n",
    "\n",
    "\n",
    "\n"
   ]
  },
  {
   "cell_type": "code",
   "execution_count": null,
   "id": "9982cdd1",
   "metadata": {},
   "outputs": [],
   "source": [
    "limit = 10\n",
    "final_array = []\n",
    "for value in dictio.values():\n",
    "    if len(value) <= limit:\n",
    "        final_array += value\n",
    "        \n",
    "final_array = np.array(final_array)"
   ]
  },
  {
   "cell_type": "code",
   "execution_count": null,
   "id": "dfe4ebae",
   "metadata": {},
   "outputs": [],
   "source": [
    "#geom = o3d.geometry.PointCloud()\n",
    "#geom.points = o3d.utility.Vector3dVector(final_array)\n",
    "#o3d.visualization.draw_geometries([geom])\n",
    "\n",
    "pcd = o3d.geometry.PointCloud()\n",
    "pcd.points = o3d.utility.Vector3dVector(final_array)\n",
    "o3d.visualization.draw_geometries([pcd])"
   ]
  },
  {
   "cell_type": "code",
   "execution_count": null,
   "id": "64398878",
   "metadata": {},
   "outputs": [],
   "source": [
    "print(point_data.shape)\n",
    "print(final_array.shape)"
   ]
  },
  {
   "cell_type": "code",
   "execution_count": null,
   "id": "45f61462",
   "metadata": {},
   "outputs": [],
   "source": []
  },
  {
   "cell_type": "code",
   "execution_count": null,
   "id": "9f4f25db",
   "metadata": {},
   "outputs": [],
   "source": [
    "def LoadAndDataProcess(filename):\n",
    "    with open(filename) as f:\n",
    "        lines = [line.rstrip('\\n') for line in f]\n",
    "    f.close()\n",
    "    lst = []\n",
    "    for i in lines:\n",
    "        splitted = i.split(',')\n",
    "        lst.append(splitted[0][8:])\n",
    "        lst.append(splitted[1][4:])\n",
    "        lst.append(splitted[2])\n",
    "        lst.append(splitted[3][:-1])\n",
    "        lst.append(splitted[4][4:])\n",
    "        lst.append(splitted[5])\n",
    "        lst.append(splitted[6][:-1])\n",
    "    lst = np.array(lst, dtype=float).reshape(-1, 7)\n",
    "    return lst\n",
    "\n",
    "# nlines, coordinate a, coordinate b\n",
    "LoadAndDataProcess(\"Hough10Lines.txt\")"
   ]
  }
 ],
 "metadata": {
  "kernelspec": {
   "display_name": "Python 3 (ipykernel)",
   "language": "python",
   "name": "python3"
  },
  "language_info": {
   "codemirror_mode": {
    "name": "ipython",
    "version": 3
   },
   "file_extension": ".py",
   "mimetype": "text/x-python",
   "name": "python",
   "nbconvert_exporter": "python",
   "pygments_lexer": "ipython3",
   "version": "3.9.13"
  },
  "vscode": {
   "interpreter": {
    "hash": "34a8899853a8a6b9a8e719c6cc53f17eb82c31241a093dbb9f78da2f52f6cb70"
   }
  }
 },
 "nbformat": 4,
 "nbformat_minor": 5
}
