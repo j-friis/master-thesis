{
 "cells": [
  {
   "cell_type": "code",
   "execution_count": 1,
   "id": "be501d4c",
   "metadata": {},
   "outputs": [
    {
     "ename": "ModuleNotFoundError",
     "evalue": "No module named 'open3d'",
     "output_type": "error",
     "traceback": [
      "\u001b[0;31m---------------------------------------------------------------------------\u001b[0m",
      "\u001b[0;31mModuleNotFoundError\u001b[0m                       Traceback (most recent call last)",
      "\u001b[0;32m/tmp/ipykernel_20346/574920811.py\u001b[0m in \u001b[0;36m<module>\u001b[0;34m\u001b[0m\n\u001b[1;32m      2\u001b[0m \u001b[0;32mimport\u001b[0m \u001b[0mnumpy\u001b[0m \u001b[0;32mas\u001b[0m \u001b[0mnp\u001b[0m\u001b[0;34m\u001b[0m\u001b[0;34m\u001b[0m\u001b[0m\n\u001b[1;32m      3\u001b[0m \u001b[0;32mimport\u001b[0m \u001b[0mlaspy\u001b[0m\u001b[0;34m\u001b[0m\u001b[0;34m\u001b[0m\u001b[0m\n\u001b[0;32m----> 4\u001b[0;31m \u001b[0;32mimport\u001b[0m \u001b[0mopen3d\u001b[0m \u001b[0;32mas\u001b[0m \u001b[0mo3d\u001b[0m\u001b[0;34m\u001b[0m\u001b[0;34m\u001b[0m\u001b[0m\n\u001b[0m\u001b[1;32m      5\u001b[0m \u001b[0;34m\u001b[0m\u001b[0m\n\u001b[1;32m      6\u001b[0m \u001b[0;32mimport\u001b[0m \u001b[0mmatplotlib\u001b[0m\u001b[0;34m.\u001b[0m\u001b[0mpyplot\u001b[0m \u001b[0;32mas\u001b[0m \u001b[0mplt\u001b[0m\u001b[0;34m\u001b[0m\u001b[0;34m\u001b[0m\u001b[0m\n",
      "\u001b[0;31mModuleNotFoundError\u001b[0m: No module named 'open3d'"
     ]
    }
   ],
   "source": [
    "#import pylas\n",
    "import numpy as np\n",
    "import laspy\n",
    "import open3d as o3d\n",
    "\n",
    "import matplotlib.pyplot as plt\n",
    "import numpy as np\n",
    "import cv2\n",
    "\n",
    "from skimage.transform import (hough_line, hough_line_peaks,\n",
    "                               probabilistic_hough_line)\n",
    "from skimage.feature import canny\n",
    "\n",
    "from matplotlib import cm"
   ]
  },
  {
   "cell_type": "code",
   "execution_count": null,
   "id": "55cc740d",
   "metadata": {},
   "outputs": [],
   "source": [
    "las.header\n",
    "las.header.point_format\n",
    "las.header.point_count\n",
    "las.vlrs"
   ]
  },
  {
   "cell_type": "code",
   "execution_count": null,
   "id": "42d7e5d7",
   "metadata": {},
   "outputs": [],
   "source": [
    "list(las.point_format.dimension_names)"
   ]
  },
  {
   "cell_type": "code",
   "execution_count": null,
   "id": "39d295e6",
   "metadata": {},
   "outputs": [],
   "source": [
    "las.classification"
   ]
  },
  {
   "cell_type": "code",
   "execution_count": null,
   "id": "9c98ccb5",
   "metadata": {},
   "outputs": [],
   "source": [
    "point_data = np.stack([las.X, las.Y, las.Z], axis=0).transpose((1, 0))\n",
    "point_data.shape"
   ]
  },
  {
   "cell_type": "code",
   "execution_count": null,
   "id": "35a63087",
   "metadata": {},
   "outputs": [],
   "source": []
  },
  {
   "cell_type": "code",
   "execution_count": null,
   "id": "113265c6",
   "metadata": {},
   "outputs": [],
   "source": []
  },
  {
   "cell_type": "code",
   "execution_count": null,
   "id": "1800868c",
   "metadata": {},
   "outputs": [],
   "source": [
    "distanceXperKM = (np.max(point_data[:,0]) - np.min(point_data[:,0]))\n",
    "distanceXperM = distanceXperKM/1000\n",
    "distanceXperCM = distanceXperM/100\n",
    "\n",
    "print(\"1 x distance per KM: \", distanceXperKM)\n",
    "print(\"1 x distance per M: \", distanceXperM)\n",
    "print(\"1 x distance per CM: \", distanceXperCM)\n",
    "\n",
    "print()\n",
    "\n",
    "distanceYperKM = (np.max(point_data[:,1]) - np.min(point_data[:,1]))\n",
    "distanceYperM = distanceYperKM/1000\n",
    "distanceYperCM = distanceYperM/100\n",
    "\n",
    "print(\"1 y distance per KM: \", distanceYperKM)\n",
    "print(\"1 y distance per M: \", distanceYperM)\n",
    "print(\"1 y distance per CM: \", distanceYperCM)\n",
    "\n",
    "(np.max(point_data[:,2]) - np.min(point_data[:,2]))"
   ]
  },
  {
   "cell_type": "code",
   "execution_count": null,
   "id": "692ba4f5",
   "metadata": {},
   "outputs": [],
   "source": [
    "f = open(\"testFile.txt\", \"a\")\n",
    "for i in range(point_data.shape[0]):\n",
    "    f.write(str(point_data[i,0]) + \",\" + str(point_data[i, 1]) + \",\" + str(point_data[i, 2]) + \"\\n\")\n",
    "f.close()"
   ]
  },
  {
   "cell_type": "code",
   "execution_count": null,
   "id": "684956fd",
   "metadata": {},
   "outputs": [],
   "source": [
    "point_data"
   ]
  },
  {
   "cell_type": "code",
   "execution_count": null,
   "id": "8394f72a",
   "metadata": {},
   "outputs": [],
   "source": [
    "geom = o3d.geometry.PointCloud()\n",
    "geom.points = o3d.utility.Vector3dVector(point_data)\n",
    "o3d.visualization.draw_geometries([geom])\n",
    "\n",
    "\n",
    "\n"
   ]
  },
  {
   "cell_type": "code",
   "execution_count": null,
   "id": "dc2cf74c",
   "metadata": {},
   "outputs": [],
   "source": [
    "# Seperate the classes from set(list(las.classification))\n",
    "\n",
    "print(set(list(las.classification)))\n",
    "\n",
    "buildings = laspy.create(point_format=las.header.point_format, file_version=las.header.version)\n",
    "buildings.points = las.points[las.classification == 6]\n",
    "buildings.write('buildings.las')\n",
    "\n",
    "\n",
    "\n",
    "\n",
    "#two.write('two.las')"
   ]
  },
  {
   "cell_type": "code",
   "execution_count": null,
   "id": "c9c6e250",
   "metadata": {},
   "outputs": [],
   "source": [
    "powerlines = laspy.create(point_format=las.header.point_format, file_version=las.header.version)\n",
    "powerlines.points = las.points[las.classification == 5]\n",
    "\n",
    "point_data = np.stack([powerlines.X, powerlines.Y, powerlines.Z], axis=0).transpose((1, 0))\n",
    "print(point_data.shape)\n",
    "\n",
    "\n",
    "geom = o3d.geometry.PointCloud()\n",
    "geom.points = o3d.utility.Vector3dVector(point_data)\n",
    "o3d.visualization.draw_geometries([geom])"
   ]
  },
  {
   "cell_type": "code",
   "execution_count": null,
   "id": "af4bbf04",
   "metadata": {},
   "outputs": [],
   "source": [
    "las = laspy.read(r'/home/frederik/data/denmark/raw/val/PUNKTSKY_00005_1km_6090_507.laz')\n",
    "\n",
    "powerlines = laspy.create(point_format=las.header.point_format, file_version=las.header.version)\n",
    "powerlines.points = las.points[las.classification == 14]\n",
    "\n",
    "point_data_powerlines = np.stack([powerlines.X, powerlines.Y, powerlines.Z], axis=0).transpose((1, 0))\n",
    "print(point_data_powerlines.shape)\n",
    "\n",
    "point_data_all = np.stack([las.X, las.Y, las.Z], axis=0).transpose((1, 0))\n",
    "\n",
    "\n",
    "    \n",
    "#geom = o3d.geometry.PointCloud()\n",
    "#geom.points = o3d.utility.Vector3dVector(point_data)\n",
    "#o3d.visualization.draw_geometries([geom])"
   ]
  },
  {
   "cell_type": "code",
   "execution_count": null,
   "id": "d9f2a757",
   "metadata": {},
   "outputs": [],
   "source": [
    "# Create Dictionary\n",
    "dictio = {}\n",
    "counter = 0\n",
    "for coordinate in point_data_all:\n",
    "    x, y, z = coordinate\n",
    "    \n",
    "    #round x and y to the nearest center.\n",
    "    meter=0.2\n",
    "    rounded = 100*meter\n",
    "    \n",
    "    center_x = np.round(x/rounded)*rounded\n",
    "    center_y = np.round(y/rounded)*rounded\n",
    "    \n",
    "    if (center_x, center_y) in dictio:\n",
    "        dictio[(center_x, center_y)].append([x, y, z])\n",
    "    else:\n",
    "        dictio[(center_x, center_y)] = [[x, y, z]]\n",
    "\n",
    "\n",
    "        final_coordinates = []\n",
    "        \n",
    "for value in dictio.values():\n",
    "    numpy_arr_value = np.array(value)\n",
    "    z_values = numpy_arr_value[:,2]\n",
    "\n",
    "    # Get the heights and difference\n",
    "    max_height = np.max(z_values)\n",
    "    min_height = np.min(z_values)\n",
    "    difference = max_height-min_height\n",
    "    \n",
    "    # meters in Z value\n",
    "    meter = 3\n",
    "    meter_criterion = meter*100\n",
    "    \n",
    "    # Set the minimum height criterion\n",
    "    minimum_height = min_height+meter_criterion\n",
    "    \n",
    "    # check is there are points higher than the specified meters from the ground.\n",
    "    if difference > meter_criterion:\n",
    "        \n",
    "        # For each coord, append if the coord is higher than 4 meters.\n",
    "        for coord in numpy_arr_value:\n",
    "            x, y, z = coord\n",
    "            if z >= minimum_height:\n",
    "                final_coordinates.append(coord)\n",
    "                counter += 1\n",
    "                \n",
    "final_coordinates = np.array(final_coordinates)"
   ]
  },
  {
   "cell_type": "code",
   "execution_count": null,
   "id": "6c8145ad",
   "metadata": {},
   "outputs": [],
   "source": [
    "\n",
    "geom = o3d.geometry.PointCloud()\n",
    "geom.points = o3d.utility.Vector3dVector(final_coordinates)\n",
    "o3d.visualization.draw_geometries([geom])\n",
    "\n",
    "\n",
    "\n",
    "\n"
   ]
  },
  {
   "cell_type": "code",
   "execution_count": null,
   "id": "886095dd",
   "metadata": {},
   "outputs": [],
   "source": [
    "final_coordinates.shape[0] - 5863951"
   ]
  },
  {
   "cell_type": "code",
   "execution_count": null,
   "id": "7cbaa0f2",
   "metadata": {},
   "outputs": [],
   "source": [
    "final_coordinates.shape[0] - 5863951"
   ]
  },
  {
   "cell_type": "code",
   "execution_count": null,
   "id": "2cbfb772",
   "metadata": {},
   "outputs": [],
   "source": [
    "counter = 0\n",
    "lst = []\n",
    "for key in dictio.keys():\n",
    "    # The list of Z values\n",
    "    value = dictio[key]\n",
    "    \n",
    "    # Get the heights and difference\n",
    "    max_height = np.max(value)\n",
    "    min_height = np.min(value)\n",
    "    difference = max_height-min_height\n",
    "    \n",
    "    # 4 meters in Z value\n",
    "    meter_criterion = 300\n",
    "    \n",
    "    # check is there are points higher than 4 meters from the ground\n",
    "    if difference > meter_criterion:\n",
    "        x, y = key\n",
    "        for z_val in value:\n",
    "            \n",
    "            minimum_height = min_height+meter_criterion\n",
    "            if z_val >= minimum_height:\n",
    "                lst.append([x, y, z_val])\n",
    "                counter += 1\n",
    "    if counter % 200 == 0:\n",
    "        print(counter)"
   ]
  },
  {
   "cell_type": "code",
   "execution_count": null,
   "id": "1ffe3357",
   "metadata": {},
   "outputs": [],
   "source": [
    "lst = np.array(lst)"
   ]
  },
  {
   "cell_type": "code",
   "execution_count": null,
   "id": "16a290df",
   "metadata": {},
   "outputs": [],
   "source": [
    "lst.shape"
   ]
  },
  {
   "cell_type": "code",
   "execution_count": null,
   "id": "1a1426d5",
   "metadata": {},
   "outputs": [],
   "source": [
    "geom = o3d.geometry.PointCloud()\n",
    "geom.points = o3d.utility.Vector3dVector(lst)\n",
    "o3d.visualization.draw_geometries([geom])"
   ]
  },
  {
   "cell_type": "code",
   "execution_count": null,
   "id": "5e9874ca",
   "metadata": {},
   "outputs": [],
   "source": [
    "geom = o3d.geometry.PointCloud()\n",
    "geom.points = o3d.utility.Vector3dVector(point_data_all)\n",
    "o3d.visualization.draw_geometries([geom])"
   ]
  },
  {
   "cell_type": "code",
   "execution_count": null,
   "id": "2128e9ca",
   "metadata": {},
   "outputs": [],
   "source": []
  },
  {
   "cell_type": "code",
   "execution_count": null,
   "id": "8b1200c1",
   "metadata": {},
   "outputs": [],
   "source": [
    "las = laspy.read(r'/home/frederik/data/TestData/meters.las')\n",
    "point_data = np.stack([las.X, las.Y, las.Z], axis=0).transpose((1, 0))\n",
    "print(point_data.shape)\n",
    "\n",
    "\n",
    "geom = o3d.geometry.PointCloud()\n",
    "geom.points = o3d.utility.Vector3dVector(point_data)\n",
    "o3d.visualization.draw_geometries([geom])"
   ]
  },
  {
   "cell_type": "code",
   "execution_count": null,
   "id": "e7412b69",
   "metadata": {},
   "outputs": [],
   "source": [
    "img = cv2.imread('/home/frederik/data/TestData/meters_idw.tif', cv2.IMREAD_UNCHANGED)\n",
    "plt.imshow(img, cmap='gray')\n",
    "plt.show()\n",
    "\n",
    "img = cv2.imread('/home/frederik/data/TestData/meters_min.tif', cv2.IMREAD_UNCHANGED)\n",
    "plt.imshow(img, cmap='gray')\n",
    "plt.show()\n",
    "\n",
    "img = cv2.imread('/home/frederik/data/TestData/meters_max.tif', cv2.IMREAD_UNCHANGED)\n",
    "plt.imshow(img, cmap='gray')\n",
    "plt.show()"
   ]
  },
  {
   "cell_type": "code",
   "execution_count": null,
   "id": "1ddc5338",
   "metadata": {
    "scrolled": false
   },
   "outputs": [],
   "source": []
  },
  {
   "cell_type": "code",
   "execution_count": null,
   "id": "38cf83a3",
   "metadata": {},
   "outputs": [],
   "source": []
  },
  {
   "cell_type": "code",
   "execution_count": null,
   "id": "dea51d23",
   "metadata": {
    "scrolled": false
   },
   "outputs": [],
   "source": []
  },
  {
   "cell_type": "code",
   "execution_count": null,
   "id": "9c158ae6",
   "metadata": {},
   "outputs": [],
   "source": []
  },
  {
   "cell_type": "code",
   "execution_count": null,
   "id": "540800e3",
   "metadata": {},
   "outputs": [],
   "source": [
    "las = laspy.read(r'/home/frederik/data/TestData/meters.las')\n",
    "point_data = np.stack([las.X, las.Y, las.Z], axis=0).transpose((1, 0))\n",
    "\n"
   ]
  },
  {
   "cell_type": "code",
   "execution_count": null,
   "id": "9f0806a5",
   "metadata": {},
   "outputs": [],
   "source": [
    "geom = o3d.geometry.PointCloud()\n",
    "geom.points = o3d.utility.Vector3dVector(point_data)\n",
    "o3d.visualization.draw_geometries([geom])"
   ]
  },
  {
   "cell_type": "code",
   "execution_count": null,
   "id": "534a0164",
   "metadata": {},
   "outputs": [],
   "source": [
    "\n",
    "\n",
    "# Create Dictionary\n",
    "dictio = {}\n",
    "for i, coordinate in enumerate(point_data):\n",
    "    x, y, z = coordinate\n",
    "    #round x and y and z to the nearest center.\n",
    "    meter = 2\n",
    "    rounded = 100*meter\n",
    "    \n",
    "    center_x = np.round(x/rounded)*rounded\n",
    "    center_y = np.round(y/rounded)*rounded\n",
    "    center_z = np.round(z/rounded)*rounded\n",
    "    \n",
    "    if (center_x, center_y, center_z) in dictio:\n",
    "        dictio[(center_x, center_y, center_z)].append([x,y,z])\n",
    "    else:\n",
    "        dictio[(center_x, center_y, center_z)] = [[x,y,z]]\n",
    "\n",
    "\n",
    "\n",
    "\n"
   ]
  },
  {
   "cell_type": "code",
   "execution_count": null,
   "id": "9982cdd1",
   "metadata": {},
   "outputs": [],
   "source": [
    "limit = 10\n",
    "final_array = []\n",
    "for value in dictio.values():\n",
    "    if len(value) <= limit:\n",
    "        final_array += value\n",
    "        \n",
    "final_array = np.array(final_array)"
   ]
  },
  {
   "cell_type": "code",
   "execution_count": null,
   "id": "dfe4ebae",
   "metadata": {},
   "outputs": [],
   "source": [
    "#geom = o3d.geometry.PointCloud()\n",
    "#geom.points = o3d.utility.Vector3dVector(final_array)\n",
    "#o3d.visualization.draw_geometries([geom])\n",
    "\n",
    "pcd = o3d.geometry.PointCloud()\n",
    "pcd.points = o3d.utility.Vector3dVector(final_array)\n",
    "o3d.visualization.draw_geometries([pcd])"
   ]
  },
  {
   "cell_type": "code",
   "execution_count": null,
   "id": "64398878",
   "metadata": {},
   "outputs": [],
   "source": [
    "print(point_data.shape)\n",
    "print(final_array.shape)"
   ]
  },
  {
   "cell_type": "code",
   "execution_count": null,
   "id": "45f61462",
   "metadata": {},
   "outputs": [],
   "source": []
  },
  {
   "cell_type": "code",
   "execution_count": null,
   "id": "9f4f25db",
   "metadata": {},
   "outputs": [],
   "source": [
    "def LoadAndDataProcess(filename):\n",
    "    with open(filename) as f:\n",
    "        lines = [line.rstrip('\\n') for line in f]\n",
    "    f.close()\n",
    "    lst = []\n",
    "    for i in lines:\n",
    "        splitted = i.split(',')\n",
    "        lst.append(splitted[0][8:])\n",
    "        lst.append(splitted[1][4:])\n",
    "        lst.append(splitted[2])\n",
    "        lst.append(splitted[3][:-1])\n",
    "        lst.append(splitted[4][4:])\n",
    "        lst.append(splitted[5])\n",
    "        lst.append(splitted[6][:-1])\n",
    "    lst = np.array(lst, dtype=float).reshape(-1, 7)\n",
    "    return lst\n",
    "\n",
    "# nlines, coordinate a, coordinate b\n",
    "LoadAndDataProcess(\"Hough10Lines.txt\")"
   ]
  }
 ],
 "metadata": {
  "kernelspec": {
   "display_name": "Python 3 (ipykernel)",
   "language": "python",
   "name": "python3"
  },
  "language_info": {
   "codemirror_mode": {
    "name": "ipython",
    "version": 3
   },
   "file_extension": ".py",
   "mimetype": "text/x-python",
   "name": "python",
   "nbconvert_exporter": "python",
   "pygments_lexer": "ipython3",
   "version": "3.8.16"
  },
  "vscode": {
   "interpreter": {
    "hash": "34a8899853a8a6b9a8e719c6cc53f17eb82c31241a093dbb9f78da2f52f6cb70"
   }
  }
 },
 "nbformat": 4,
 "nbformat_minor": 5
}
