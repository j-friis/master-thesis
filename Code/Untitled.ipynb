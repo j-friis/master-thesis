{
 "cells": [
  {
   "cell_type": "code",
   "execution_count": 1,
   "id": "be501d4c",
   "metadata": {},
   "outputs": [
    {
     "name": "stdout",
     "output_type": "stream",
     "text": [
      "Jupyter environment detected. Enabling Open3D WebVisualizer.\n",
      "[Open3D INFO] WebRTC GUI backend enabled.\n",
      "[Open3D INFO] WebRTCWindowSystem: HTTP handshake server disabled.\n"
     ]
    },
    {
     "data": {
      "text/plain": [
       "<LasData(1.4, point fmt: <PointFormat(7, 19 bytes of extra dims)>, 17708868 points, 3 vlrs)>"
      ]
     },
     "execution_count": 1,
     "metadata": {},
     "output_type": "execute_result"
    }
   ],
   "source": [
    "#import pylas\n",
    "import numpy as np\n",
    "import laspy\n",
    "import open3d as o3d\n",
    "\n",
    "\n",
    "las = laspy.read(r'C:\\Users\\frede\\Desktop\\master-thesis\\data\\PUNKTSKY_00005_1km_6079_522.laz')\n",
    "las"
   ]
  },
  {
   "cell_type": "code",
   "execution_count": 2,
   "id": "55cc740d",
   "metadata": {},
   "outputs": [
    {
     "data": {
      "text/plain": [
       "[<ExtraBytesVlr(extra bytes structs: 4)>, <laspy.vlrs.known.WktCoordinateSystemVlr object at 0x000001FD3FDC67C0>, <VLR(user_id: 'liblas', record_id: '2112', data len: 905)>]"
      ]
     },
     "execution_count": 2,
     "metadata": {},
     "output_type": "execute_result"
    }
   ],
   "source": [
    "las.header\n",
    "las.header.point_format\n",
    "las.header.point_count\n",
    "las.vlrs"
   ]
  },
  {
   "cell_type": "code",
   "execution_count": 3,
   "id": "42d7e5d7",
   "metadata": {},
   "outputs": [
    {
     "data": {
      "text/plain": [
       "['X',\n",
       " 'Y',\n",
       " 'Z',\n",
       " 'intensity',\n",
       " 'return_number',\n",
       " 'number_of_returns',\n",
       " 'synthetic',\n",
       " 'key_point',\n",
       " 'withheld',\n",
       " 'overlap',\n",
       " 'scanner_channel',\n",
       " 'scan_direction_flag',\n",
       " 'edge_of_flight_line',\n",
       " 'classification',\n",
       " 'user_data',\n",
       " 'scan_angle',\n",
       " 'point_source_id',\n",
       " 'gps_time',\n",
       " 'red',\n",
       " 'green',\n",
       " 'blue',\n",
       " 'ClassFlags',\n",
       " 'Amplitude',\n",
       " 'Reflectance',\n",
       " 'Deviation']"
      ]
     },
     "execution_count": 3,
     "metadata": {},
     "output_type": "execute_result"
    }
   ],
   "source": [
    "list(las.point_format.dimension_names)"
   ]
  },
  {
   "cell_type": "code",
   "execution_count": 4,
   "id": "39d295e6",
   "metadata": {},
   "outputs": [
    {
     "data": {
      "text/plain": [
       "{2, 3, 4, 5, 6, 7, 8, 9, 18}"
      ]
     },
     "execution_count": 4,
     "metadata": {},
     "output_type": "execute_result"
    }
   ],
   "source": [
    "set(list(las.classification))"
   ]
  },
  {
   "cell_type": "code",
   "execution_count": 3,
   "id": "9c98ccb5",
   "metadata": {},
   "outputs": [
    {
     "data": {
      "text/plain": [
       "(17708868, 3)"
      ]
     },
     "execution_count": 3,
     "metadata": {},
     "output_type": "execute_result"
    }
   ],
   "source": [
    "point_data = np.stack([las.X, las.Y, las.Z], axis=0).transpose((1, 0))\n",
    "point_data.shape"
   ]
  },
  {
   "cell_type": "code",
   "execution_count": null,
   "id": "8394f72a",
   "metadata": {},
   "outputs": [],
   "source": [
    "geom = o3d.geometry.PointCloud()\n",
    "geom.points = o3d.utility.Vector3dVector(point_data)\n",
    "o3d.visualization.draw_geometries([geom])\n",
    "\n",
    "\n",
    "\n",
    "\n"
   ]
  },
  {
   "cell_type": "code",
   "execution_count": 6,
   "id": "dc2cf74c",
   "metadata": {},
   "outputs": [],
   "source": [
    "# Seperate the classes from set(list(las.classification))\n",
    "\n",
    "buildings = laspy.create(point_format=las.header.point_format, file_version=las.header.version)\n",
    "buildings.points = las.points[las.classification == 6]\n",
    "\n",
    "two = laspy.create(point_format=las.header.point_format, file_version=las.header.version)\n",
    "two.points = las.points[las.classification == 2]\n",
    "\n",
    "buildings.write('buildings.las')\n",
    "two.write('two.las')"
   ]
  },
  {
   "cell_type": "code",
   "execution_count": 7,
   "id": "c9c6e250",
   "metadata": {},
   "outputs": [],
   "source": [
    "geom = o3d.geometry.PointCloud()\n",
    "geom.points = o3d.utility.Vector3dVector(point_data)\n",
    "o3d.visualization.draw_geometries([geom])\n"
   ]
  },
  {
   "cell_type": "code",
   "execution_count": null,
   "id": "2cbfb772",
   "metadata": {},
   "outputs": [],
   "source": []
  },
  {
   "cell_type": "code",
   "execution_count": null,
   "id": "1ffe3357",
   "metadata": {},
   "outputs": [],
   "source": []
  },
  {
   "cell_type": "code",
   "execution_count": null,
   "id": "16a290df",
   "metadata": {},
   "outputs": [],
   "source": []
  }
 ],
 "metadata": {
  "kernelspec": {
   "display_name": "Python 3 (ipykernel)",
   "language": "python",
   "name": "python3"
  },
  "language_info": {
   "codemirror_mode": {
    "name": "ipython",
    "version": 3
   },
   "file_extension": ".py",
   "mimetype": "text/x-python",
   "name": "python",
   "nbconvert_exporter": "python",
   "pygments_lexer": "ipython3",
   "version": "3.8.12"
  },
  "vscode": {
   "interpreter": {
    "hash": "96b904a717d6a2d3d574c1ddd122109afdf3e5527b943bce91f00923b16c52a7"
   }
  }
 },
 "nbformat": 4,
 "nbformat_minor": 5
}
