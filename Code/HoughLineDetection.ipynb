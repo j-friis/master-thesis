{
 "cells": [
  {
   "cell_type": "code",
   "execution_count": null,
   "id": "70f0907e",
   "metadata": {},
   "outputs": [],
   "source": [
    "import matplotlib.pyplot as plt\n",
    "import matplotlib.image as mpimg\n",
    "import numpy as np\n",
    "import cv2"
   ]
  },
  {
   "cell_type": "code",
   "execution_count": null,
   "id": "e6e414f2",
   "metadata": {
    "scrolled": false
   },
   "outputs": [],
   "source": [
    "image = cv2.imread('/home/frederik/data/TestData/difficult.tif', cv2.IMREAD_UNCHANGED)\n",
    "image = np.where(image >= 0, image, 0)\n",
    "image = image/np.max(image)\n",
    "\n",
    "image = (image*255).astype(np.uint8)\n",
    "plt.title(\"Original Image\")\n",
    "plt.imshow(image, cmap='gray')\n",
    "plt.show()\n",
    "\n",
    "kernel = np.ones((70,70),np.uint8)\n",
    "closing = cv2.morphologyEx(image, cv2.MORPH_CLOSE, kernel)\n",
    "\n",
    "plt.title(\"Closing\")\n",
    "plt.imshow(closing, cmap='gray')\n",
    "plt.show()\n",
    "\n",
    "# Apply edge detection method on the image\n",
    "edges = cv2.Canny(closing, 4, 160, None, 3)\n",
    "\n",
    "plt.title(\"Edges\")\n",
    "plt.imshow(edges, cmap='gray')\n",
    "plt.show()\n",
    "\n",
    "# Probabilistic Line Transform\n",
    "# min_line_length, max_line_gap\n",
    "\n",
    "linesP = cv2.HoughLinesP(edges, 1, np.pi / 180, 100)\n",
    "\n",
    "lines_image = np.zeros_like(image)\n",
    "# Draw the lines\n",
    "if linesP is not None:\n",
    "    for i in range(0, len(linesP)):\n",
    "        l = linesP[i][0]\n",
    "        cv2.line(lines_image, (l[0], l[1]), (l[2], l[3]), (255,0,0), 3)\n",
    "\n",
    "plt.title(\"Hough Lines\")\n",
    "plt.imshow(lines_image, cmap='gray')\n",
    "plt.show()\n",
    "\n",
    "kernel = np.ones((5,5),np.uint8)\n",
    "dilation = cv2.dilate(lines_image, kernel, iterations = 7)\n",
    "plt.imshow(dilation, cmap='gray')\n",
    "plt.title(\"Dialation\")\n",
    "plt.show()"
   ]
  },
  {
   "cell_type": "code",
   "execution_count": null,
   "id": "7f0e5ace",
   "metadata": {
    "scrolled": false
   },
   "outputs": [],
   "source": [
    "image = cv2.imread('/home/frederik/data/TestData/meters_idw.tif', cv2.IMREAD_UNCHANGED)\n",
    "image = np.where(image >= 0, image, 0)\n",
    "image = image/np.max(image)\n",
    "\n",
    "image = (image*255).astype(np.uint8)\n",
    "plt.title(\"Original Image\")\n",
    "plt.imshow(image, cmap='gray')\n",
    "plt.show()\n",
    "\n",
    "kernel = np.ones((70,70),np.uint8)\n",
    "closing = cv2.morphologyEx(image, cv2.MORPH_CLOSE, kernel)\n",
    "\n",
    "plt.title(\"Closing\")\n",
    "plt.imshow(closing, cmap='gray')\n",
    "plt.show()\n",
    "\n",
    "# Apply edge detection method on the image\n",
    "edges = cv2.Canny(closing, 4, 160, None, 3)\n",
    "\n",
    "plt.title(\"Edges\")\n",
    "plt.imshow(edges, cmap='gray')\n",
    "plt.show()\n",
    "\n",
    "# Probabilistic Line Transform\n",
    "# min_line_length, max_line_gap\n",
    "\n",
    "linesP = cv2.HoughLinesP(edges, 1, np.pi / 180, 100)\n",
    "\n",
    "lines_image = np.zeros_like(image)\n",
    "# Draw the lines\n",
    "if linesP is not None:\n",
    "    for i in range(0, len(linesP)):\n",
    "        l = linesP[i][0]\n",
    "        cv2.line(lines_image, (l[0], l[1]), (l[2], l[3]), (255,0,0), 3)\n",
    "\n",
    "plt.title(\"Hough Lines\")\n",
    "plt.imshow(lines_image, cmap='gray')\n",
    "plt.show()\n",
    "\n",
    "kernel = np.ones((5,5),np.uint8)\n",
    "dilation = cv2.dilate(lines_image, kernel, iterations = 7)\n",
    "plt.imshow(dilation, cmap='gray')\n",
    "plt.title(\"Dialation\")\n",
    "plt.show()"
   ]
  },
  {
   "cell_type": "code",
   "execution_count": null,
   "id": "969bba7a",
   "metadata": {},
   "outputs": [],
   "source": []
  },
  {
   "cell_type": "code",
   "execution_count": null,
   "id": "d06b5db2",
   "metadata": {},
   "outputs": [],
   "source": []
  },
  {
   "cell_type": "code",
   "execution_count": null,
   "id": "39f55609",
   "metadata": {},
   "outputs": [],
   "source": []
  }
 ],
 "metadata": {
  "kernelspec": {
   "display_name": "Python 3 (ipykernel)",
   "language": "python",
   "name": "python3"
  },
  "language_info": {
   "codemirror_mode": {
    "name": "ipython",
    "version": 3
   },
   "file_extension": ".py",
   "mimetype": "text/x-python",
   "name": "python",
   "nbconvert_exporter": "python",
   "pygments_lexer": "ipython3",
   "version": "3.9.13"
  }
 },
 "nbformat": 4,
 "nbformat_minor": 5
}
