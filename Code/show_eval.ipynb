{
 "cells": [
  {
   "cell_type": "code",
   "execution_count": 2,
   "metadata": {},
   "outputs": [
    {
     "name": "stdout",
     "output_type": "stream",
     "text": [
      "Jupyter environment detected. Enabling Open3D WebVisualizer.\n",
      "[Open3D INFO] WebRTC GUI backend enabled.\n",
      "[Open3D INFO] WebRTCWindowSystem: HTTP handshake server disabled.\n"
     ]
    }
   ],
   "source": [
    "import numpy as np\n",
    "\n",
    "\n",
    "import open3d as o3d\n",
    "import laspy\n"
   ]
  },
  {
   "cell_type": "code",
   "execution_count": 7,
   "metadata": {},
   "outputs": [],
   "source": [
    "### TEST DATA FILENAMES \n",
    "filename = \"PUNKTSKY_00005_1km_6219_494\" \n",
    "# filename = \"PUNKTSKY_00005_1km_6211_474\" \n"
   ]
  },
  {
   "cell_type": "code",
   "execution_count": 8,
   "metadata": {},
   "outputs": [],
   "source": [
    "eval_file = \"/home/jfriis/msc_data/eval/\"+filename+\".laz\"\n"
   ]
  },
  {
   "cell_type": "code",
   "execution_count": 9,
   "metadata": {},
   "outputs": [
    {
     "ename": "NameError",
     "evalue": "name 'all_pred_data' is not defined",
     "output_type": "error",
     "traceback": [
      "\u001b[0;31m---------------------------------------------------------------------------\u001b[0m",
      "\u001b[0;31mNameError\u001b[0m                                 Traceback (most recent call last)",
      "Cell \u001b[0;32mIn[9], line 2\u001b[0m\n\u001b[1;32m      1\u001b[0m all_eval_data \u001b[39m=\u001b[39m laspy\u001b[39m.\u001b[39mread(eval_file, laz_backend\u001b[39m=\u001b[39mlaspy\u001b[39m.\u001b[39mcompression\u001b[39m.\u001b[39mLazBackend\u001b[39m.\u001b[39mLazrsParallel)\n\u001b[0;32m----> 2\u001b[0m pred_data \u001b[39m=\u001b[39m all_pred_data[all_pred_data\u001b[39m.\u001b[39mprediction \u001b[39m==\u001b[39m \u001b[39m1\u001b[39m]\n",
      "\u001b[0;31mNameError\u001b[0m: name 'all_pred_data' is not defined"
     ]
    }
   ],
   "source": [
    "all_eval_data = laspy.read(eval_file, laz_backend=laspy.compression.LazBackend.LazrsParallel)\n",
    "pred_data = all_pred_data[all_eval_data.prediction == 1]\n",
    "\n",
    "\n"
   ]
  },
  {
   "cell_type": "code",
   "execution_count": 20,
   "metadata": {},
   "outputs": [
    {
     "name": "stdout",
     "output_type": "stream",
     "text": [
      "(7389632, 3)\n",
      "(25060070, 3)\n",
      "(90316, 3)\n"
     ]
    }
   ],
   "source": [
    "all_point_data = np.stack([all_eval_data.X, all_eval_data.Y, all_eval_data.Z], axis=0).transpose((1, 0))\n",
    "print(normal_point_data.shape)\n",
    "pred_point_data = np.stack([pred_data.X, pred_data.Y, pred_data.Z], axis=0).transpose((1, 0))\n",
    "print(pred_point_data.shape)"
   ]
  },
  {
   "cell_type": "code",
   "execution_count": 57,
   "metadata": {},
   "outputs": [],
   "source": [
    "# geom = o3d.geometry.PointCloud()\n",
    "# geom.points = o3d.utility.Vector3dVector(normal_point_data)\n",
    "# o3d.visualization.draw_geometries([geom])"
   ]
  },
  {
   "cell_type": "code",
   "execution_count": 21,
   "metadata": {},
   "outputs": [],
   "source": [
    "geom = o3d.geometry.PointCloud()\n",
    "geom.points = o3d.utility.Vector3dVector(all_point_data)\n",
    "o3d.visualization.draw_geometries([geom])"
   ]
  },
  {
   "cell_type": "code",
   "execution_count": null,
   "metadata": {},
   "outputs": [],
   "source": [
    "geom = o3d.geometry.PointCloud()\n",
    "geom.points = o3d.utility.Vector3dVector(pred_point_data)\n",
    "o3d.visualization.draw_geometries([geom])"
   ]
  },
  {
   "cell_type": "code",
   "execution_count": null,
   "metadata": {},
   "outputs": [],
   "source": []
  }
 ],
 "metadata": {
  "kernelspec": {
   "display_name": "msc",
   "language": "python",
   "name": "python3"
  },
  "language_info": {
   "codemirror_mode": {
    "name": "ipython",
    "version": 3
   },
   "file_extension": ".py",
   "mimetype": "text/x-python",
   "name": "python",
   "nbconvert_exporter": "python",
   "pygments_lexer": "ipython3",
   "version": "3.8.16 (default, Jan 17 2023, 23:13:24) \n[GCC 11.2.0]"
  },
  "orig_nbformat": 4,
  "vscode": {
   "interpreter": {
    "hash": "f95de931c29667c2347408d5642ac0ee9480f4eb806786434b0ca96e7316c5a3"
   }
  }
 },
 "nbformat": 4,
 "nbformat_minor": 2
}
