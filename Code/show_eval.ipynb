{
 "cells": [
  {
   "cell_type": "code",
   "execution_count": 3,
   "metadata": {},
   "outputs": [],
   "source": [
    "import numpy as np\n",
    "\n",
    "\n",
    "import open3d as o3d\n",
    "import laspy\n"
   ]
  },
  {
   "cell_type": "code",
   "execution_count": 54,
   "metadata": {},
   "outputs": [],
   "source": [
    "### TEST DATA FILENAMES \n",
    "#VAL FILES\n",
    "filename = \"PUNKTSKY_00005_1km_6220_495\" # OKAY EVEN THO IT IS SRAIGHT LINE\n",
    "filename = \"PUNKTSKY_00005_1km_6221_452\" # REALLY BAD EVEN THO IT IS SRAIGHT LINE\n",
    "# TEST FILES\n",
    "filename = \"PUNKTSKY_00005_1km_6219_494\" \n",
    "filename = \"PUNKTSKY_00005_1km_6211_474\" \n"
   ]
  },
  {
   "cell_type": "code",
   "execution_count": 55,
   "metadata": {},
   "outputs": [],
   "source": [
    "# eval_file = \"/home/jfriis/msc_data/eval/\"+filename+\".laz\"\n",
    "# data_val_path_file = \"/home/jf/data/denmark/raw/val/\"+filename+\".laz\"\n",
    "#data_test_path_file = \"/home/jf/data/denmark/raw/test/\"+filename+\".laz\"\n",
    "eval_file = \"/home/jf/eval/macc_ones/\"+filename+\".laz\"\n",
    "eval_file = \"/home/jf/eval/miou_ones/\"+filename+\".laz\"\n",
    "eval_file = \"/home/jf/eval/loss_ones/\"+filename+\".laz\"\n"
   ]
  },
  {
   "cell_type": "code",
   "execution_count": 56,
   "metadata": {},
   "outputs": [
    {
     "name": "stdout",
     "output_type": "stream",
     "text": [
      "4095\n"
     ]
    }
   ],
   "source": [
    "all_eval_data = laspy.read(eval_file, laz_backend=laspy.compression.LazBackend.LazrsParallel)\n",
    "pred_data = all_eval_data[all_eval_data.prediction == 1]\n",
    "label_data = all_eval_data[all_eval_data.classification == 14]"
   ]
  },
  {
   "cell_type": "code",
   "execution_count": 57,
   "metadata": {},
   "outputs": [
    {
     "name": "stdout",
     "output_type": "stream",
     "text": [
      "(15599105, 3)\n",
      "(31404, 3)\n",
      "(31418, 3)\n"
     ]
    }
   ],
   "source": [
    "all_point_data = np.stack([all_eval_data.X, all_eval_data.Y, all_eval_data.Z], axis=0).transpose((1, 0))\n",
    "print(all_point_data.shape)\n",
    "pred_point_data = np.stack([pred_data.X, pred_data.Y, pred_data.Z], axis=0).transpose((1, 0))\n",
    "print(pred_point_data.shape)\n",
    "label_point_data = np.stack([label_data.X, label_data.Y, label_data.Z], axis=0).transpose((1, 0))\n",
    "print(label_point_data.shape)"
   ]
  },
  {
   "cell_type": "code",
   "execution_count": 58,
   "metadata": {},
   "outputs": [],
   "source": [
    "# geom = o3d.geometry.PointCloud()\n",
    "# geom.points = o3d.utility.Vector3dVector(normal_point_data)\n",
    "# o3d.visualization.draw_geometries([geom])"
   ]
  },
  {
   "cell_type": "code",
   "execution_count": 59,
   "metadata": {},
   "outputs": [],
   "source": [
    "geom = o3d.geometry.PointCloud()\n",
    "geom.points = o3d.utility.Vector3dVector(all_point_data)\n",
    "o3d.visualization.draw_geometries([geom])"
   ]
  },
  {
   "cell_type": "code",
   "execution_count": 60,
   "metadata": {},
   "outputs": [],
   "source": [
    "geom = o3d.geometry.PointCloud()\n",
    "geom.points = o3d.utility.Vector3dVector(pred_point_data)\n",
    "o3d.visualization.draw_geometries([geom])"
   ]
  },
  {
   "cell_type": "code",
   "execution_count": 11,
   "metadata": {},
   "outputs": [],
   "source": [
    "geom = o3d.geometry.PointCloud()\n",
    "geom.points = o3d.utility.Vector3dVector(label_point_data)\n",
    "o3d.visualization.draw_geometries([geom])"
   ]
  },
  {
   "cell_type": "code",
   "execution_count": null,
   "metadata": {},
   "outputs": [],
   "source": []
  }
 ],
 "metadata": {
  "kernelspec": {
   "display_name": "msc",
   "language": "python",
   "name": "python3"
  },
  "language_info": {
   "codemirror_mode": {
    "name": "ipython",
    "version": 3
   },
   "file_extension": ".py",
   "mimetype": "text/x-python",
   "name": "python",
   "nbconvert_exporter": "python",
   "pygments_lexer": "ipython3",
   "version": "3.8.16"
  },
  "orig_nbformat": 4,
  "vscode": {
   "interpreter": {
    "hash": "2bfe5fc19ee440272b50e27189dca9d766ee16bd940e6c96fe401988e2293299"
   }
  }
 },
 "nbformat": 4,
 "nbformat_minor": 2
}
