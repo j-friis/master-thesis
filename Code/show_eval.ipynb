{
 "cells": [
  {
   "cell_type": "code",
   "execution_count": 44,
   "metadata": {},
   "outputs": [],
   "source": [
    "import numpy as np\n",
    "\n",
    "\n",
    "import open3d as o3d\n",
    "import laspy\n"
   ]
  },
  {
   "cell_type": "code",
   "execution_count": 129,
   "metadata": {},
   "outputs": [],
   "source": [
    "### TEST DATA FILENAMES \n",
    "#VAL FILES\n",
    "filename = \"PUNKTSKY_00005_1km_6220_495\" # OKAY EVEN THO IT IS SRAIGHT LINE\n",
    "filename = \"PUNKTSKY_00005_1km_6221_452\" # REALLY BAD EVEN THO IT IS SRAIGHT LINE\n",
    "# TEST FILES\n",
    "filename = \"PUNKTSKY_00005_1km_6219_494\" \n",
    "filename = \"PUNKTSKY_00005_1km_6211_474\"\n",
    "# # Five new files \n",
    "filename = \"PUNKTSKY_00004_1km_6105_518\"\n",
    "# filename = \"PUNKTSKY_00004_1km_6106_492\"\n",
    "filename = \"PUNKTSKY_00004_1km_6106_493\"\n",
    "# filename = \"PUNKTSKY_00004_1km_6106_494\"\n",
    "# filename = \"PUNKTSKY_00004_1km_6106_510\""
   ]
  },
  {
   "cell_type": "code",
   "execution_count": 130,
   "metadata": {},
   "outputs": [],
   "source": [
    "model_to_check = \"houghSEU18_20_ones\"\n",
    "model_to_check_loss = \"houghSEU18_20_ones_loss\"\n",
    "\n",
    "# eval_file = \"/home/jfriis/msc_data/eval/\"+filename+\".laz\"\n",
    "# data_val_path_file = \"/home/jf/data/denmark/raw/val/\"+filename+\".laz\"\n",
    "#data_test_path_file = \"/home/jf/data/denmark/raw/test/\"+filename+\".laz\"\n",
    "# eval_file = \"/home/jf/eval/macc_ones/\"+filename+\".laz\"\n",
    "# eval_file = \"/home/jf/eval/miou_ones/\"+filename+\".laz\"\n",
    "# eval_file = \"/home/jf/eval/loss_ones/\"+filename+\".laz\"\n",
    "# eval_file = \"/home/jf/data/denmark/raw/test/\"+filename+\".laz\"\n",
    "eval_file = f\"/home/jf/eval/{model_to_check}/\"+filename+\".laz\"\n",
    "eval_file_loss = f\"/home/jf/eval/{model_to_check}/\"+filename+\".laz\"\n",
    "\n"
   ]
  },
  {
   "cell_type": "code",
   "execution_count": 142,
   "metadata": {},
   "outputs": [
    {
     "name": "stdout",
     "output_type": "stream",
     "text": [
      "4095\n"
     ]
    }
   ],
   "source": [
    "all_eval_data = laspy.read(eval_file, laz_backend=laspy.compression.LazBackend.LazrsParallel)\n",
    "mask1 = ((all_eval_data.classification == 14 ) & (all_eval_data.prediction == 0))\n",
    "mask2 = ((all_eval_data.classification != 14 ) & (all_eval_data.prediction == 1))\n",
    "label_data = all_eval_data[mask1 | mask2]\n",
    "\n",
    "pred_data = all_eval_data[all_eval_data.prediction == 1]\n",
    "pred_data = all_eval_data[(all_eval_data.classification == 14 ) & (all_eval_data.prediction == 0)]\n",
    "# label_data = all_eval_data[all_eval_data.classification == 14]"
   ]
  },
  {
   "cell_type": "code",
   "execution_count": 133,
   "metadata": {},
   "outputs": [],
   "source": [
    "# all_eval_data_loss = laspy.read(eval_file_loss, laz_backend=laspy.compression.LazBackend.LazrsParallel)\n",
    "# pred_data_loss = all_eval_data_loss[all_eval_data_loss.prediction == 1]\n",
    "# label_data_loss = all_eval_data_loss[all_eval_data_loss.classification == 14]"
   ]
  },
  {
   "cell_type": "code",
   "execution_count": 143,
   "metadata": {},
   "outputs": [
    {
     "name": "stdout",
     "output_type": "stream",
     "text": [
      "(29798574, 3)\n",
      "(564, 3)\n",
      "(679, 3)\n"
     ]
    }
   ],
   "source": [
    "all_point_data = np.stack([all_eval_data.X, all_eval_data.Y, all_eval_data.Z], axis=0).transpose((1, 0))\n",
    "print(all_point_data.shape)\n",
    "pred_point_data = np.stack([pred_data.X, pred_data.Y, pred_data.Z], axis=0).transpose((1, 0))\n",
    "print(pred_point_data.shape)\n",
    "label_point_data = np.stack([label_data.X, label_data.Y, label_data.Z], axis=0).transpose((1, 0))\n",
    "print(label_point_data.shape)"
   ]
  },
  {
   "cell_type": "code",
   "execution_count": 126,
   "metadata": {},
   "outputs": [],
   "source": [
    "geom = o3d.geometry.PointCloud()\n",
    "geom.points = o3d.utility.Vector3dVector(all_point_data)\n",
    "o3d.visualization.draw_geometries([geom])"
   ]
  },
  {
   "cell_type": "code",
   "execution_count": 141,
   "metadata": {},
   "outputs": [],
   "source": [
    "geom = o3d.geometry.PointCloud()\n",
    "geom.points = o3d.utility.Vector3dVector(pred_point_data)\n",
    "o3d.visualization.draw_geometries([geom])"
   ]
  },
  {
   "cell_type": "code",
   "execution_count": 128,
   "metadata": {},
   "outputs": [],
   "source": [
    "geom = o3d.geometry.PointCloud()\n",
    "geom.points = o3d.utility.Vector3dVector(label_point_data)\n",
    "o3d.visualization.draw_geometries([geom])"
   ]
  },
  {
   "cell_type": "code",
   "execution_count": 18,
   "metadata": {},
   "outputs": [
    {
     "data": {
      "text/plain": [
       "['X',\n",
       " 'Y',\n",
       " 'Z',\n",
       " 'intensity',\n",
       " 'return_number',\n",
       " 'number_of_returns',\n",
       " 'synthetic',\n",
       " 'key_point',\n",
       " 'withheld',\n",
       " 'overlap',\n",
       " 'scanner_channel',\n",
       " 'scan_direction_flag',\n",
       " 'edge_of_flight_line',\n",
       " 'classification',\n",
       " 'user_data',\n",
       " 'scan_angle',\n",
       " 'point_source_id',\n",
       " 'gps_time',\n",
       " 'red',\n",
       " 'green',\n",
       " 'blue',\n",
       " 'ClassFlags',\n",
       " 'Amplitude',\n",
       " 'Reflectance',\n",
       " 'Deviation',\n",
       " 'prediction']"
      ]
     },
     "execution_count": 18,
     "metadata": {},
     "output_type": "execute_result"
    }
   ],
   "source": [
    "list(all_eval_data.point_format.dimension_names)"
   ]
  },
  {
   "cell_type": "code",
   "execution_count": 19,
   "metadata": {},
   "outputs": [
    {
     "ename": "AttributeError",
     "evalue": "LasData object has no attribute 'HeightAboveGround'",
     "output_type": "error",
     "traceback": [
      "\u001b[0;31m---------------------------------------------------------------------------\u001b[0m",
      "\u001b[0;31mAttributeError\u001b[0m                            Traceback (most recent call last)",
      "Cell \u001b[0;32mIn[19], line 1\u001b[0m\n\u001b[0;32m----> 1\u001b[0m \u001b[39mprint\u001b[39m(np\u001b[39m.\u001b[39munique(pred_data\u001b[39m.\u001b[39;49mHeightAboveGround))\n\u001b[1;32m      2\u001b[0m rounded_to_10cm \u001b[39m=\u001b[39m np\u001b[39m.\u001b[39maround(pred_data\u001b[39m.\u001b[39mHeightAboveGround, decimals\u001b[39m=\u001b[39m\u001b[39m1\u001b[39m)\n\u001b[1;32m      3\u001b[0m \u001b[39mprint\u001b[39m(rounded_to_10cm)\n",
      "File \u001b[0;32m~/miniconda3/envs/msc/lib/python3.8/site-packages/laspy/lasdata.py:378\u001b[0m, in \u001b[0;36mLasData.__getattr__\u001b[0;34m(self, item)\u001b[0m\n\u001b[1;32m    376\u001b[0m     \u001b[39mreturn\u001b[39;00m \u001b[39mself\u001b[39m\u001b[39m.\u001b[39mpoints[item]\n\u001b[1;32m    377\u001b[0m \u001b[39mexcept\u001b[39;00m \u001b[39mValueError\u001b[39;00m:\n\u001b[0;32m--> 378\u001b[0m     \u001b[39mraise\u001b[39;00m \u001b[39mAttributeError\u001b[39;00m(\n\u001b[1;32m    379\u001b[0m         \u001b[39mf\u001b[39m\u001b[39m\"\u001b[39m\u001b[39m{\u001b[39;00m\u001b[39mself\u001b[39m\u001b[39m.\u001b[39m\u001b[39m__class__\u001b[39m\u001b[39m.\u001b[39m\u001b[39m__name__\u001b[39m\u001b[39m}\u001b[39;00m\u001b[39m object has no attribute \u001b[39m\u001b[39m'\u001b[39m\u001b[39m{\u001b[39;00mitem\u001b[39m}\u001b[39;00m\u001b[39m'\u001b[39m\u001b[39m\"\u001b[39m\n\u001b[1;32m    380\u001b[0m     ) \u001b[39mfrom\u001b[39;00m \u001b[39mNone\u001b[39m\n",
      "\u001b[0;31mAttributeError\u001b[0m: LasData object has no attribute 'HeightAboveGround'"
     ]
    }
   ],
   "source": [
    "print(np.unique(pred_data.HeightAboveGround))\n",
    "rounded_to_10cm = np.around(pred_data.HeightAboveGround, decimals=1)\n",
    "print(rounded_to_10cm)"
   ]
  },
  {
   "cell_type": "code",
   "execution_count": null,
   "metadata": {},
   "outputs": [
    {
     "data": {
      "image/png": "[encoded data removed]",
      "text/plain": [
       "<Figure size 640x480 with 1 Axes>"
      ]
     },
     "metadata": {},
     "output_type": "display_data"
    }
   ],
   "source": [
    "import numpy as np\n",
    "import matplotlib.pyplot as plt\n",
    "\n",
    "# Generate some data\n",
    "rounded_to_10cm = np.around(pred_data.HeightAboveGround, decimals=1)\n",
    "# Compute the histogram with numpy\n",
    "hist, bin_edges = np.histogram(rounded_to_10cm, bins=len(np.unique(rounded_to_10cm)))\n",
    "\n",
    "# Plot the histogram with matplotlib\n",
    "plt.hist(bin_edges[:-1], bin_edges, weights=hist)\n",
    "plt.title(\"Height and denstity of prediction\")\n",
    "plt.xlabel(\"Height\")\n",
    "plt.ylabel(\"Amount of points\")\n",
    "plt.show()\n"
   ]
  },
  {
   "cell_type": "code",
   "execution_count": null,
   "metadata": {},
   "outputs": [],
   "source": []
  }
 ],
 "metadata": {
  "kernelspec": {
   "display_name": "msc",
   "language": "python",
   "name": "python3"
  },
  "language_info": {
   "codemirror_mode": {
    "name": "ipython",
    "version": 3
   },
   "file_extension": ".py",
   "mimetype": "text/x-python",
   "name": "python",
   "nbconvert_exporter": "python",
   "pygments_lexer": "ipython3",
   "version": "3.8.16"
  },
  "orig_nbformat": 4,
  "vscode": {
   "interpreter": {
    "hash": "2bfe5fc19ee440272b50e27189dca9d766ee16bd940e6c96fe401988e2293299"
   }
  }
 },
 "nbformat": 4,
 "nbformat_minor": 2
}
