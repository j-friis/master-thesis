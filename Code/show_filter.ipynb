{
 "cells": [
  {
   "cell_type": "code",
   "execution_count": 1,
   "metadata": {},
   "outputs": [
    {
     "name": "stdout",
     "output_type": "stream",
     "text": [
      "Jupyter environment detected. Enabling Open3D WebVisualizer.\n",
      "[Open3D INFO] WebRTC GUI backend enabled.\n",
      "[Open3D INFO] WebRTCWindowSystem: HTTP handshake server disabled.\n"
     ]
    }
   ],
   "source": [
    "import numpy as np\n",
    "\n",
    "\n",
    "import open3d as o3d\n",
    "import laspy\n"
   ]
  },
  {
   "cell_type": "code",
   "execution_count": 53,
   "metadata": {},
   "outputs": [],
   "source": [
    "# filename = \"PUNKTSKY_00005_1km_6134_518\"# okay good\n",
    "# filename = \"PUNKTSKY_00005_1km_6211_474\" #not the best\n",
    "# filename = \"PUNKTSKY_00005_1km_6219_494\" #okay the best\n",
    "filename = \"PUNKTSKY_00005_1km_6167_474\" #okay the best\n",
    "# filename = \"PUNKTSKY_00005_1km_6220_495\" #okay the best\n",
    "# filename = \"PUNKTSKY_00005_1km_6221_452\" # really good\n",
    "\n"
   ]
  },
  {
   "cell_type": "code",
   "execution_count": 8,
   "metadata": {},
   "outputs": [],
   "source": [
    "### TEST DATA FILENAMES \n",
    "filename = \"PUNKTSKY_00005_1km_6162_472\" \n",
    "# filename = \"PUNKTSKY_00005_1km_6161_465\" \n"
   ]
  },
  {
   "cell_type": "code",
   "execution_count": 9,
   "metadata": {},
   "outputs": [],
   "source": [
    "plain_file = \"/home/jfriis/msc_data/plainLaz/\"+filename+\".laz\"\n",
    "new_file = \"/home/jfriis/msc_data/NewLaz/\"+filename+\".laz\"\n",
    "pred_file = \"/home/jfriis/msc_data/predLaz/\"+filename+\".laz\"\n",
    "pred_file = \"/home/jfriis/msc_data/predLaz/\"+filename+\".laz\"\n"
   ]
  },
  {
   "cell_type": "code",
   "execution_count": 18,
   "metadata": {},
   "outputs": [],
   "source": [
    "# normal_data = laspy.read(plain_file, laz_backend=laspy.compression.LazBackend.LazrsParallel)\n",
    "hough_data = laspy.read(new_file, laz_backend=laspy.compression.LazBackend.LazrsParallel)\n",
    "all_pred_data = laspy.read(pred_file, laz_backend=laspy.compression.LazBackend.LazrsParallel)\n",
    "pred_data = all_pred_data[all_pred_data.prediction == 1]\n",
    "\n",
    "\n"
   ]
  },
  {
   "cell_type": "code",
   "execution_count": 20,
   "metadata": {},
   "outputs": [
    {
     "name": "stdout",
     "output_type": "stream",
     "text": [
      "(7389632, 3)\n",
      "(25060070, 3)\n",
      "(90316, 3)\n"
     ]
    }
   ],
   "source": [
    "# normal_point_data = np.stack([normal_data.X, normal_data.Y, normal_data.Z], axis=0).transpose((1, 0))\n",
    "# print(normal_point_data.shape)\n",
    "hough_point_data = np.stack([hough_data.X, hough_data.Y, hough_data.Z], axis=0).transpose((1, 0))\n",
    "print(hough_point_data.shape)\n",
    "all_data = np.stack([all_pred_data.X, all_pred_data.Y, all_pred_data.Z], axis=0).transpose((1, 0))\n",
    "print(all_data.shape)\n",
    "pred_point_data = np.stack([pred_data.X, pred_data.Y, pred_data.Z], axis=0).transpose((1, 0))\n",
    "print(pred_point_data.shape)"
   ]
  },
  {
   "cell_type": "code",
   "execution_count": 57,
   "metadata": {},
   "outputs": [],
   "source": [
    "# geom = o3d.geometry.PointCloud()\n",
    "# geom.points = o3d.utility.Vector3dVector(normal_point_data)\n",
    "# o3d.visualization.draw_geometries([geom])"
   ]
  },
  {
   "cell_type": "code",
   "execution_count": 21,
   "metadata": {},
   "outputs": [],
   "source": [
    "geom = o3d.geometry.PointCloud()\n",
    "geom.points = o3d.utility.Vector3dVector(all_data)\n",
    "o3d.visualization.draw_geometries([geom])"
   ]
  },
  {
   "cell_type": "code",
   "execution_count": null,
   "metadata": {},
   "outputs": [],
   "source": [
    "geom = o3d.geometry.PointCloud()\n",
    "geom.points = o3d.utility.Vector3dVector(pred_point_data)\n",
    "o3d.visualization.draw_geometries([geom])"
   ]
  },
  {
   "cell_type": "code",
   "execution_count": null,
   "metadata": {},
   "outputs": [],
   "source": []
  }
 ],
 "metadata": {
  "kernelspec": {
   "display_name": "msc",
   "language": "python",
   "name": "python3"
  },
  "language_info": {
   "codemirror_mode": {
    "name": "ipython",
    "version": 3
   },
   "file_extension": ".py",
   "mimetype": "text/x-python",
   "name": "python",
   "nbconvert_exporter": "python",
   "pygments_lexer": "ipython3",
   "version": "3.8.16 (default, Jan 17 2023, 23:13:24) \n[GCC 11.2.0]"
  },
  "orig_nbformat": 4,
  "vscode": {
   "interpreter": {
    "hash": "f95de931c29667c2347408d5642ac0ee9480f4eb806786434b0ca96e7316c5a3"
   }
  }
 },
 "nbformat": 4,
 "nbformat_minor": 2
}
