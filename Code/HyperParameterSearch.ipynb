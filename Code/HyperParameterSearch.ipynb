{
 "cells": [
  {
   "cell_type": "code",
   "execution_count": 1,
   "id": "ac485fc0",
   "metadata": {},
   "outputs": [
    {
     "name": "stdout",
     "output_type": "stream",
     "text": [
      "Jupyter environment detected. Enabling Open3D WebVisualizer.\n",
      "[Open3D INFO] WebRTC GUI backend enabled.\n",
      "[Open3D INFO] WebRTCWindowSystem: HTTP handshake server disabled.\n"
     ]
    }
   ],
   "source": [
    "import matplotlib.pyplot as plt\n",
    "import matplotlib.image as mpimg\n",
    "import numpy as np\n",
    "import pandas as pd\n",
    "import cv2\n",
    "\n",
    "import skimage.measure\n",
    "\n",
    "import rasterio\n",
    "from rasterio.features import shapes\n",
    "\n",
    "import matplotlib.patches as mpatches\n",
    "from shapely.geometry import Point, Polygon, shape, mapping\n",
    "import shapely\n",
    "import geopandas as gpd\n",
    "\n",
    "from matplotlib.path import Path\n",
    "import laspy\n",
    "import open3d as o3d\n",
    "\n",
    "from skopt import BayesSearchCV\n",
    "\n",
    "import glob\n",
    "import os\n"
   ]
  },
  {
   "cell_type": "markdown",
   "id": "f8889da2",
   "metadata": {},
   "source": [
    "# Find paths to images"
   ]
  },
  {
   "cell_type": "code",
   "execution_count": 2,
   "id": "5fd20a00",
   "metadata": {},
   "outputs": [],
   "source": [
    "def GenPath(path):\n",
    "    if path[-1] == '/':\n",
    "        return path\n",
    "    else:\n",
    "        return path+'/'\n",
    "\n",
    "def GetPathRelations(path):\n",
    "    full_path_to_data = GenPath(path)\n",
    "    \n",
    "    ground_removed_image_paths = []\n",
    "    laz_point_cloud_paths = []\n",
    "    \n",
    "    # Find full path to all images\n",
    "    for path in glob.glob(full_path_to_data+'ImagesGroundRemoved/*'):\n",
    "        ground_removed_image_paths.append(path)\n",
    " \n",
    "    # Find full path to all laz files\n",
    "    for path in glob.glob(full_path_to_data+'LazFilesWithHeightParam/*'):\n",
    "        laz_point_cloud_paths.append(path)\n",
    "\n",
    "    # Create a relation between indexes of the paths\n",
    "    relation_dict = {}\n",
    "    for i in range(len(ground_removed_image_paths)):\n",
    "        getName = os.path.basename(ground_removed_image_paths[i])[:-8]\n",
    "        relation_dict[getName] = [None, None]\n",
    "        \n",
    "    for i in range(len(ground_removed_image_paths)):\n",
    "        tmp_path_tif = os.path.basename(ground_removed_image_paths[i])[:-8]\n",
    "        tmp_path_laz = os.path.basename(laz_point_cloud_paths[i])[:-11]\n",
    "        relation_dict[tmp_path_tif][0] = i\n",
    "        relation_dict[tmp_path_laz][1] = i\n",
    "        \n",
    "    return ground_removed_image_paths, laz_point_cloud_paths, relation_dict\n",
    "\n",
    "path_to_folders = '/home/frederik/data/TestData/data/'\n",
    "ground_removed_image_paths, laz_point_cloud_paths, relation_dict = GetPathRelations(path_to_folders)"
   ]
  },
  {
   "cell_type": "code",
   "execution_count": 3,
   "id": "bb585e1f",
   "metadata": {},
   "outputs": [],
   "source": [
    "# VERSION 2\n",
    "\n",
    "def GenPath(path):\n",
    "    if path[-1] == '/':\n",
    "        return path\n",
    "    else:\n",
    "        return path+'/'\n",
    "\n",
    "def GetPathRelations(path):\n",
    "    full_path_to_data = GenPath(path)\n",
    "    \n",
    "    ground_removed_image_paths = []\n",
    "    laz_point_cloud_paths = []\n",
    "    \n",
    "    # Find full path to all images\n",
    "    for path in glob.glob(full_path_to_data+'ImagesGroundRemoved/*'):\n",
    "        ground_removed_image_paths.append(path)\n",
    " \n",
    "    # Find full path to all laz files\n",
    "    for path in glob.glob(full_path_to_data+'LazFilesWithHeightParam/*'):\n",
    "        laz_point_cloud_paths.append(path)\n",
    "        \n",
    "    ground_removed_image_paths.sort()\n",
    "    laz_point_cloud_paths.sort()\n",
    "        \n",
    "    return ground_removed_image_paths, laz_point_cloud_paths\n",
    "\n",
    "path_to_folders = '/home/frederik/data/TestData/data/'\n",
    "ground_removed_image_paths, laz_point_cloud_paths = GetPathRelations(path_to_folders)"
   ]
  },
  {
   "cell_type": "markdown",
   "id": "3e821685",
   "metadata": {},
   "source": [
    "# Create model to predict"
   ]
  },
  {
   "cell_type": "code",
   "execution_count": 64,
   "id": "ab17e9d1",
   "metadata": {},
   "outputs": [],
   "source": [
    "class PreProcessing():\n",
    "\n",
    "    def __init__(self):\n",
    "        self\n",
    "        \n",
    "    def fit(self, X, y):\n",
    "        return self\n",
    "    \n",
    "    def score(self, X,y):\n",
    "        return self"
   ]
  },
  {
   "cell_type": "code",
   "execution_count": 65,
   "id": "42041283",
   "metadata": {},
   "outputs": [],
   "source": [
    "def score(pct_lost_powerline, pct_lost_datapoints):\n",
    "    s = 0\n",
    "    if pct_lost_powerline > 0.001:\n",
    "        return 0\n",
    "    else:\n",
    "        return pct_lost_datapoints\n"
   ]
  },
  {
   "cell_type": "code",
   "execution_count": 4,
   "id": "ebdd9d47",
   "metadata": {},
   "outputs": [
    {
     "data": {
      "text/plain": [
       "(['/home/frederik/data/TestData/data/ImagesGroundRemoved/PUNKTSKY_00005_1km_6134_518_max.tif',\n",
       "  '/home/frederik/data/TestData/data/ImagesGroundRemoved/PUNKTSKY_00005_1km_6146_468_max.tif',\n",
       "  '/home/frederik/data/TestData/data/ImagesGroundRemoved/PUNKTSKY_00005_1km_6161_465_max.tif',\n",
       "  '/home/frederik/data/TestData/data/ImagesGroundRemoved/PUNKTSKY_00005_1km_6162_472_max.tif',\n",
       "  '/home/frederik/data/TestData/data/ImagesGroundRemoved/PUNKTSKY_00005_1km_6163_472_max.tif',\n",
       "  '/home/frederik/data/TestData/data/ImagesGroundRemoved/PUNKTSKY_00005_1km_6167_473_max.tif',\n",
       "  '/home/frederik/data/TestData/data/ImagesGroundRemoved/PUNKTSKY_00005_1km_6167_474_max.tif',\n",
       "  '/home/frederik/data/TestData/data/ImagesGroundRemoved/PUNKTSKY_00005_1km_6167_475_max.tif',\n",
       "  '/home/frederik/data/TestData/data/ImagesGroundRemoved/PUNKTSKY_00005_1km_6168_458_max.tif',\n",
       "  '/home/frederik/data/TestData/data/ImagesGroundRemoved/PUNKTSKY_00005_1km_6204_505_max.tif',\n",
       "  '/home/frederik/data/TestData/data/ImagesGroundRemoved/PUNKTSKY_00005_1km_6205_513_max.tif',\n",
       "  '/home/frederik/data/TestData/data/ImagesGroundRemoved/PUNKTSKY_00005_1km_6211_474_max.tif',\n",
       "  '/home/frederik/data/TestData/data/ImagesGroundRemoved/PUNKTSKY_00005_1km_6219_494_max.tif',\n",
       "  '/home/frederik/data/TestData/data/ImagesGroundRemoved/PUNKTSKY_00005_1km_6220_495_max.tif',\n",
       "  '/home/frederik/data/TestData/data/ImagesGroundRemoved/PUNKTSKY_00005_1km_6221_452_max.tif'],\n",
       " ['/home/frederik/data/TestData/data/LazFilesWithHeightParam/PUNKTSKY_00005_1km_6134_518_hag_nn.laz',\n",
       "  '/home/frederik/data/TestData/data/LazFilesWithHeightParam/PUNKTSKY_00005_1km_6146_468_hag_nn.laz',\n",
       "  '/home/frederik/data/TestData/data/LazFilesWithHeightParam/PUNKTSKY_00005_1km_6161_465_hag_nn.laz',\n",
       "  '/home/frederik/data/TestData/data/LazFilesWithHeightParam/PUNKTSKY_00005_1km_6162_472_hag_nn.laz',\n",
       "  '/home/frederik/data/TestData/data/LazFilesWithHeightParam/PUNKTSKY_00005_1km_6163_472_hag_nn.laz',\n",
       "  '/home/frederik/data/TestData/data/LazFilesWithHeightParam/PUNKTSKY_00005_1km_6167_473_hag_nn.laz',\n",
       "  '/home/frederik/data/TestData/data/LazFilesWithHeightParam/PUNKTSKY_00005_1km_6167_474_hag_nn.laz',\n",
       "  '/home/frederik/data/TestData/data/LazFilesWithHeightParam/PUNKTSKY_00005_1km_6167_475_hag_nn.laz',\n",
       "  '/home/frederik/data/TestData/data/LazFilesWithHeightParam/PUNKTSKY_00005_1km_6168_458_hag_nn.laz',\n",
       "  '/home/frederik/data/TestData/data/LazFilesWithHeightParam/PUNKTSKY_00005_1km_6204_505_hag_nn.laz',\n",
       "  '/home/frederik/data/TestData/data/LazFilesWithHeightParam/PUNKTSKY_00005_1km_6205_513_hag_nn.laz',\n",
       "  '/home/frederik/data/TestData/data/LazFilesWithHeightParam/PUNKTSKY_00005_1km_6211_474_hag_nn.laz',\n",
       "  '/home/frederik/data/TestData/data/LazFilesWithHeightParam/PUNKTSKY_00005_1km_6219_494_hag_nn.laz',\n",
       "  '/home/frederik/data/TestData/data/LazFilesWithHeightParam/PUNKTSKY_00005_1km_6220_495_hag_nn.laz',\n",
       "  '/home/frederik/data/TestData/data/LazFilesWithHeightParam/PUNKTSKY_00005_1km_6221_452_hag_nn.laz'])"
      ]
     },
     "execution_count": 4,
     "metadata": {},
     "output_type": "execute_result"
    }
   ],
   "source": [
    "ground_removed_image_paths, laz_point_cloud_paths"
   ]
  },
  {
   "cell_type": "code",
   "execution_count": 67,
   "id": "fd699326",
   "metadata": {},
   "outputs": [
    {
     "data": {
      "text/plain": [
       "['/home/frederik/data/TestData/data/LazFilesWithHeightParam/PUNKTSKY_00005_1km_6167_475_hag_nn.laz',\n",
       " '/home/frederik/data/TestData/data/LazFilesWithHeightParam/PUNKTSKY_00005_1km_6211_474_hag_nn.laz',\n",
       " '/home/frederik/data/TestData/data/LazFilesWithHeightParam/PUNKTSKY_00005_1km_6220_495_hag_nn.laz',\n",
       " '/home/frederik/data/TestData/data/LazFilesWithHeightParam/PUNKTSKY_00005_1km_6204_505_hag_nn.laz',\n",
       " '/home/frederik/data/TestData/data/LazFilesWithHeightParam/PUNKTSKY_00005_1km_6205_513_hag_nn.laz',\n",
       " '/home/frederik/data/TestData/data/LazFilesWithHeightParam/PUNKTSKY_00005_1km_6162_472_hag_nn.laz',\n",
       " '/home/frederik/data/TestData/data/LazFilesWithHeightParam/PUNKTSKY_00005_1km_6167_473_hag_nn.laz',\n",
       " '/home/frederik/data/TestData/data/LazFilesWithHeightParam/PUNKTSKY_00005_1km_6161_465_hag_nn.laz',\n",
       " '/home/frederik/data/TestData/data/LazFilesWithHeightParam/PUNKTSKY_00005_1km_6221_452_hag_nn.laz',\n",
       " '/home/frederik/data/TestData/data/LazFilesWithHeightParam/PUNKTSKY_00005_1km_6163_472_hag_nn.laz',\n",
       " '/home/frederik/data/TestData/data/LazFilesWithHeightParam/PUNKTSKY_00005_1km_6219_494_hag_nn.laz',\n",
       " '/home/frederik/data/TestData/data/LazFilesWithHeightParam/PUNKTSKY_00005_1km_6134_518_hag_nn.laz',\n",
       " '/home/frederik/data/TestData/data/LazFilesWithHeightParam/PUNKTSKY_00005_1km_6167_474_hag_nn.laz',\n",
       " '/home/frederik/data/TestData/data/LazFilesWithHeightParam/PUNKTSKY_00005_1km_6146_468_hag_nn.laz',\n",
       " '/home/frederik/data/TestData/data/LazFilesWithHeightParam/PUNKTSKY_00005_1km_6168_458_hag_nn.laz']"
      ]
     },
     "execution_count": 67,
     "metadata": {},
     "output_type": "execute_result"
    }
   ],
   "source": []
  },
  {
   "cell_type": "code",
   "execution_count": 68,
   "id": "14b0358d",
   "metadata": {},
   "outputs": [
    {
     "data": {
      "text/plain": [
       "{'PUNKTSKY_00005_1km_6167_474': [0, 12],\n",
       " 'PUNKTSKY_00005_1km_6167_473': [1, 6],\n",
       " 'PUNKTSKY_00005_1km_6168_458': [2, 14],\n",
       " 'PUNKTSKY_00005_1km_6219_494': [3, 10],\n",
       " 'PUNKTSKY_00005_1km_6167_475': [4, 0],\n",
       " 'PUNKTSKY_00005_1km_6134_518': [5, 11],\n",
       " 'PUNKTSKY_00005_1km_6162_472': [6, 5],\n",
       " 'PUNKTSKY_00005_1km_6161_465': [7, 7],\n",
       " 'PUNKTSKY_00005_1km_6205_513': [8, 4],\n",
       " 'PUNKTSKY_00005_1km_6211_474': [9, 1],\n",
       " 'PUNKTSKY_00005_1km_6220_495': [10, 2],\n",
       " 'PUNKTSKY_00005_1km_6163_472': [11, 9],\n",
       " 'PUNKTSKY_00005_1km_6204_505': [12, 3],\n",
       " 'PUNKTSKY_00005_1km_6146_468': [13, 13],\n",
       " 'PUNKTSKY_00005_1km_6221_452': [14, 8]}"
      ]
     },
     "execution_count": 68,
     "metadata": {},
     "output_type": "execute_result"
    }
   ],
   "source": []
  },
  {
   "cell_type": "code",
   "execution_count": 8,
   "id": "01ff25d0",
   "metadata": {},
   "outputs": [
    {
     "name": "stdout",
     "output_type": "stream",
     "text": [
      "None\n"
     ]
    },
    {
     "ename": "TypeError",
     "evalue": "'NoneType' object is not iterable",
     "output_type": "error",
     "traceback": [
      "\u001b[0;31m---------------------------------------------------------------------------\u001b[0m",
      "\u001b[0;31mTypeError\u001b[0m                                 Traceback (most recent call last)",
      "\u001b[0;32m/tmp/ipykernel_30722/3470652661.py\u001b[0m in \u001b[0;36m<module>\u001b[0;34m\u001b[0m\n\u001b[0;32m----> 1\u001b[0;31m \u001b[0;32mfor\u001b[0m \u001b[0mf\u001b[0m \u001b[0;32min\u001b[0m \u001b[0mprint\u001b[0m\u001b[0;34m(\u001b[0m\u001b[0mlaz_point_cloud_paths\u001b[0m\u001b[0;34m.\u001b[0m\u001b[0msort\u001b[0m\u001b[0;34m(\u001b[0m\u001b[0;34m)\u001b[0m\u001b[0;34m)\u001b[0m\u001b[0;34m:\u001b[0m\u001b[0;34m\u001b[0m\u001b[0;34m\u001b[0m\u001b[0m\n\u001b[0m\u001b[1;32m      2\u001b[0m     \u001b[0mprint\u001b[0m\u001b[0;34m(\u001b[0m\u001b[0mf\u001b[0m\u001b[0;34m)\u001b[0m\u001b[0;34m\u001b[0m\u001b[0;34m\u001b[0m\u001b[0m\n",
      "\u001b[0;31mTypeError\u001b[0m: 'NoneType' object is not iterable"
     ]
    }
   ],
   "source": [
    "laz_point_cloud_paths"
   ]
  },
  {
   "cell_type": "code",
   "execution_count": 72,
   "id": "5047f20b",
   "metadata": {},
   "outputs": [
    {
     "data": {
      "text/plain": [
       "['/home/frederik/data/TestData/data/LazFilesWithHeightParam/PUNKTSKY_00005_1km_6134_518_hag_nn.laz',\n",
       " '/home/frederik/data/TestData/data/LazFilesWithHeightParam/PUNKTSKY_00005_1km_6146_468_hag_nn.laz',\n",
       " '/home/frederik/data/TestData/data/LazFilesWithHeightParam/PUNKTSKY_00005_1km_6161_465_hag_nn.laz',\n",
       " '/home/frederik/data/TestData/data/LazFilesWithHeightParam/PUNKTSKY_00005_1km_6162_472_hag_nn.laz',\n",
       " '/home/frederik/data/TestData/data/LazFilesWithHeightParam/PUNKTSKY_00005_1km_6163_472_hag_nn.laz',\n",
       " '/home/frederik/data/TestData/data/LazFilesWithHeightParam/PUNKTSKY_00005_1km_6167_473_hag_nn.laz',\n",
       " '/home/frederik/data/TestData/data/LazFilesWithHeightParam/PUNKTSKY_00005_1km_6167_474_hag_nn.laz',\n",
       " '/home/frederik/data/TestData/data/LazFilesWithHeightParam/PUNKTSKY_00005_1km_6167_475_hag_nn.laz',\n",
       " '/home/frederik/data/TestData/data/LazFilesWithHeightParam/PUNKTSKY_00005_1km_6168_458_hag_nn.laz',\n",
       " '/home/frederik/data/TestData/data/LazFilesWithHeightParam/PUNKTSKY_00005_1km_6204_505_hag_nn.laz',\n",
       " '/home/frederik/data/TestData/data/LazFilesWithHeightParam/PUNKTSKY_00005_1km_6205_513_hag_nn.laz',\n",
       " '/home/frederik/data/TestData/data/LazFilesWithHeightParam/PUNKTSKY_00005_1km_6211_474_hag_nn.laz',\n",
       " '/home/frederik/data/TestData/data/LazFilesWithHeightParam/PUNKTSKY_00005_1km_6219_494_hag_nn.laz',\n",
       " '/home/frederik/data/TestData/data/LazFilesWithHeightParam/PUNKTSKY_00005_1km_6220_495_hag_nn.laz',\n",
       " '/home/frederik/data/TestData/data/LazFilesWithHeightParam/PUNKTSKY_00005_1km_6221_452_hag_nn.laz']"
      ]
     },
     "execution_count": 72,
     "metadata": {},
     "output_type": "execute_result"
    }
   ],
   "source": []
  },
  {
   "cell_type": "code",
   "execution_count": null,
   "id": "60daee6e",
   "metadata": {},
   "outputs": [],
   "source": []
  },
  {
   "cell_type": "code",
   "execution_count": null,
   "id": "599fad8f",
   "metadata": {},
   "outputs": [],
   "source": []
  },
  {
   "cell_type": "code",
   "execution_count": null,
   "id": "e50c73b5",
   "metadata": {},
   "outputs": [],
   "source": [
    "class CustomCrossValidation:\n",
    "    \n",
    "    def init():\n",
    "        \n",
    "    \n",
    "    def split(self, X, y):\n",
    "        return X, []\n",
    "        \n",
    "        "
   ]
  }
 ],
 "metadata": {
  "kernelspec": {
   "display_name": "Python 3 (ipykernel)",
   "language": "python",
   "name": "python3"
  },
  "language_info": {
   "codemirror_mode": {
    "name": "ipython",
    "version": 3
   },
   "file_extension": ".py",
   "mimetype": "text/x-python",
   "name": "python",
   "nbconvert_exporter": "python",
   "pygments_lexer": "ipython3",
   "version": "3.8.16"
  }
 },
 "nbformat": 4,
 "nbformat_minor": 5
}
