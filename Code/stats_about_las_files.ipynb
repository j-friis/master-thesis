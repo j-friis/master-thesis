{
 "cells": [
  {
   "cell_type": "code",
   "execution_count": 1,
   "metadata": {},
   "outputs": [
    {
     "name": "stdout",
     "output_type": "stream",
     "text": [
      "Jupyter environment detected. Enabling Open3D WebVisualizer.\n",
      "[Open3D INFO] WebRTC GUI backend enabled.\n",
      "[Open3D INFO] WebRTCWindowSystem: HTTP handshake server disabled.\n"
     ]
    }
   ],
   "source": [
    "## import the tools\n",
    "import torch\n",
    "import glob\n",
    "from pathlib import Path\n",
    "import os\n",
    "import numpy as np\n",
    "from sklearn.neighbors import NearestNeighbors as NN\n",
    "import glob\n",
    "import pandas as pd\n",
    "import ipdb\n",
    "import laspy\n",
    "import open3d as o3d\n",
    "from tqdm.notebook import tqdm\n",
    "import numpy as np\n",
    "\n",
    "\n",
    "import open3d as o3d\n",
    "import laspy\n"
   ]
  },
  {
   "cell_type": "code",
   "execution_count": 2,
   "metadata": {},
   "outputs": [],
   "source": [
    "### TEST DATA FILENAMES \n",
    "#VAL FILES\n",
    "filename = \"PUNKTSKY_00005_1km_6220_495\" # OKAY EVEN THO IT IS SRAIGHT LINE\n",
    "filename = \"PUNKTSKY_00005_1km_6221_452\" # REALLY BAD EVEN THO IT IS SRAIGHT LINE\n",
    "# TEST FILES\n",
    "filename = \"PUNKTSKY_00005_1km_6219_494\" \n",
    "filename = \"PUNKTSKY_00005_1km_6211_474\" \n"
   ]
  },
  {
   "cell_type": "code",
   "execution_count": 3,
   "metadata": {},
   "outputs": [],
   "source": [
    "# eval_file = \"/home/jfriis/msc_data/eval/\"+filename+\".laz\"\n",
    "# data_val_path_file = \"/home/jf/data/denmark/raw/val/\"+filename+\".laz\"\n",
    "path_to_file = \"/home/jf/data/denmark/raw/test/\"+filename+\".laz\"\n",
    "path = \"/home/jf/data/denmark/raw/\""
   ]
  },
  {
   "cell_type": "code",
   "execution_count": 12,
   "metadata": {},
   "outputs": [
    {
     "name": "stdout",
     "output_type": "stream",
     "text": [
      "4095\n",
      "PUNKTSKY_00005_1km_6219_494\n",
      "Amount of points 19684629 amount of powerline points 18363 percentage of interseting points 0.0933\n",
      "4095\n",
      "PUNKTSKY_00005_1km_6211_474\n",
      "Amount of points 15599105 amount of powerline points 31418 percentage of interseting points 0.2014\n",
      "4095\n",
      "PUNKTSKY_00005_1km_6205_513\n",
      "Amount of points 21434582 amount of powerline points 63916 percentage of interseting points 0.2982\n",
      "4095\n",
      "PUNKTSKY_00005_1km_6168_458\n",
      "Amount of points 15039646 amount of powerline points 15382 percentage of interseting points 0.1023\n",
      "4095\n",
      "PUNKTSKY_00005_1km_6161_465\n",
      "Amount of points 19994572 amount of powerline points 7401 percentage of interseting points 0.0370\n",
      "4095\n",
      "PUNKTSKY_00005_1km_6167_473\n",
      "Amount of points 33759124 amount of powerline points 57666 percentage of interseting points 0.1708\n",
      "4095\n",
      "PUNKTSKY_00005_1km_6146_468\n",
      "Amount of points 15554025 amount of powerline points 79383 percentage of interseting points 0.5104\n",
      "4095\n",
      "PUNKTSKY_00005_1km_6167_474\n",
      "Amount of points 37849597 amount of powerline points 16079 percentage of interseting points 0.0425\n",
      "4095\n",
      "PUNKTSKY_00005_1km_6167_475\n",
      "Amount of points 36168632 amount of powerline points 23597 percentage of interseting points 0.0652\n",
      "4095\n",
      "PUNKTSKY_00005_1km_6163_472\n",
      "Amount of points 30053691 amount of powerline points 60018 percentage of interseting points 0.1997\n",
      "4095\n",
      "PUNKTSKY_00005_1km_6162_472\n",
      "Amount of points 25060070 amount of powerline points 67601 percentage of interseting points 0.2698\n",
      "4095\n",
      "PUNKTSKY_00005_1km_6134_518\n",
      "Amount of points 16013344 amount of powerline points 10077 percentage of interseting points 0.0629\n",
      "4095\n",
      "PUNKTSKY_00005_1km_6204_505\n",
      "Amount of points 21379586 amount of powerline points 10130 percentage of interseting points 0.0474\n",
      "4095\n",
      "PUNKTSKY_00005_1km_6220_495\n",
      "Amount of points 17192973 amount of powerline points 16908 percentage of interseting points 0.0983\n",
      "4095\n",
      "PUNKTSKY_00005_1km_6221_452\n",
      "Amount of points 13185455 amount of powerline points 8760 percentage of interseting points 0.0664\n",
      "Average amount of points: 22531268.733333334. Average amount of pl points: 32446.6. Average percentage of pl points: 0.1440\n"
     ]
    }
   ],
   "source": [
    "total_points = 0\n",
    "total_pl_points = 0\n",
    "amount_of_files = 0\n",
    "dirs = list(glob.glob(path+\"*\"))\n",
    "for dir in dirs:\n",
    "    files = list(glob.glob(dir+\"/*.l*\"))\n",
    "    for file in files:\n",
    "        data = laspy.read(file, laz_backend=laspy.compression.LazBackend.LazrsParallel)\n",
    "        label_data = data[data.classification == 14]\n",
    "        amount_of_points = len(data)\n",
    "        amount_of_powerline_points = len(label_data)\n",
    "        total_points += amount_of_points\n",
    "        total_pl_points += amount_of_powerline_points\n",
    "        amount_of_files += 1\n",
    "        print(file.split('/')[-1].replace(\".laz\",''))\n",
    "        print(f\"Amount of points {amount_of_points} amount of powerline points {amount_of_powerline_points} percentage of interseting points {amount_of_powerline_points/amount_of_points * 100 :.4f}\")\n",
    "\n",
    "print(f\"Average amount of points: {total_points/amount_of_files:.0f}. Average amount of pl points: {total_pl_points/amount_of_files:.0f}. Average percentage of pl points: {total_pl_points/total_points * 100 :.4f}\")\n"
   ]
  },
  {
   "cell_type": "code",
   "execution_count": 25,
   "metadata": {},
   "outputs": [
    {
     "name": "stdout",
     "output_type": "stream",
     "text": [
      "4095\n",
      "(15599105, 3)\n"
     ]
    }
   ],
   "source": [
    "data = laspy.read(path_to_file, laz_backend=laspy.compression.LazBackend.LazrsParallel)\n",
    "all_point_data = np.stack([data.X, data.Y, data.Z], axis=0).transpose((1, 0))\n",
    "print(all_point_data.shape)"
   ]
  },
  {
   "cell_type": "code",
   "execution_count": 8,
   "metadata": {},
   "outputs": [],
   "source": [
    "def voxelization(point_cloud, voxel_size):\n",
    "    # Calculate the minimum and maximum coordinates of the point cloud\n",
    "    min_coord = np.min(point_cloud, axis=0)\n",
    "    max_coord = np.max(point_cloud, axis=0)\n",
    "\n",
    "    # Calculate the number of voxels in each dimension\n",
    "    voxel_counts = ((max_coord - min_coord) / voxel_size).astype(int) + 1\n",
    "\n",
    "    # Create an empty voxel grid\n",
    "    voxel_grid = np.zeros(voxel_counts, dtype=int)\n",
    "\n",
    "    # Assign points to their respective voxels\n",
    "    voxel_indices = ((point_cloud - min_coord) / voxel_size).astype(int)\n",
    "    voxel_grid[tuple(voxel_indices.T)] = 1\n",
    "\n",
    "    return voxel_grid\n"
   ]
  },
  {
   "cell_type": "code",
   "execution_count": 9,
   "metadata": {},
   "outputs": [],
   "source": [
    "def count_voxels(voxel_grid):\n",
    "    num_empty_voxels = np.count_nonzero(voxel_grid == 0)\n",
    "    num_occupied_voxels = np.count_nonzero(voxel_grid == 1)\n",
    "    \n",
    "    return num_empty_voxels, num_occupied_voxels\n"
   ]
  },
  {
   "cell_type": "code",
   "execution_count": 10,
   "metadata": {},
   "outputs": [],
   "source": [
    "def calculate_sparsity(voxel_grid):\n",
    "    num_empty_voxels, num_occupied_voxels = count_voxels(voxel_grid)\n",
    "    total_voxels = voxel_grid.size\n",
    "\n",
    "    sparsity = num_empty_voxels / total_voxels\n",
    "\n",
    "    return sparsity\n"
   ]
  },
  {
   "cell_type": "code",
   "execution_count": 11,
   "metadata": {},
   "outputs": [],
   "source": [
    "def calculate_point_cloud_density(point_cloud):\n",
    "    # Count the number of points\n",
    "    num_points = len(point_cloud)\n",
    "\n",
    "    # Calculate the volume (e.g., using the bounding box)\n",
    "    min_coords = np.min(point_cloud, axis=0)\n",
    "    max_coords = np.max(point_cloud, axis=0)\n",
    "    volume = np.prod(max_coords - min_coords)\n",
    "\n",
    "    # Calculate the density\n",
    "    density = num_points / volume\n",
    "\n",
    "    return density"
   ]
  },
  {
   "cell_type": "code",
   "execution_count": 12,
   "metadata": {},
   "outputs": [
    {
     "name": "stdout",
     "output_type": "stream",
     "text": [
      "Density: 1.0815437148998128e-07\n"
     ]
    }
   ],
   "source": [
    "# Assuming you have a point cloud represented as a numpy array\n",
    "point_cloud = np.array([[1.0, 2.0, 3.0], [4.0, 5.0, 6.0], [7.0, 8.0, 9.0]])\n",
    "\n",
    "# Calculate the density\n",
    "density = calculate_point_cloud_density(all_point_data)\n",
    "print(\"Density:\", density)\n"
   ]
  },
  {
   "cell_type": "code",
   "execution_count": 17,
   "metadata": {},
   "outputs": [
    {
     "ename": "MemoryError",
     "evalue": "Unable to allocate 1.00 EiB for an array with shape (1000001, 1000001, 144231) and data type int64",
     "output_type": "error",
     "traceback": [
      "\u001b[0;31m---------------------------------------------------------------------------\u001b[0m",
      "\u001b[0;31mMemoryError\u001b[0m                               Traceback (most recent call last)",
      "Cell \u001b[0;32mIn[17], line 6\u001b[0m\n\u001b[1;32m      4\u001b[0m \u001b[39m# Voxelization\u001b[39;00m\n\u001b[1;32m      5\u001b[0m voxel_size \u001b[39m=\u001b[39m \u001b[39m0.1\u001b[39m\n\u001b[0;32m----> 6\u001b[0m voxel_grid \u001b[39m=\u001b[39m voxelization(all_point_data, voxel_size)\n\u001b[1;32m      8\u001b[0m \u001b[39m# Calculate sparsity\u001b[39;00m\n\u001b[1;32m      9\u001b[0m sparsity \u001b[39m=\u001b[39m calculate_sparsity(voxel_grid)\n",
      "Cell \u001b[0;32mIn[14], line 12\u001b[0m, in \u001b[0;36mvoxelization\u001b[0;34m(point_cloud, voxel_size)\u001b[0m\n\u001b[1;32m      9\u001b[0m voxel_counts \u001b[39m=\u001b[39m ((max_coord \u001b[39m-\u001b[39m min_coord) \u001b[39m/\u001b[39m voxel_size)\u001b[39m.\u001b[39mastype(\u001b[39mint\u001b[39m) \u001b[39m+\u001b[39m \u001b[39m1\u001b[39m\n\u001b[1;32m     11\u001b[0m \u001b[39m# Create an empty voxel grid\u001b[39;00m\n\u001b[0;32m---> 12\u001b[0m voxel_grid \u001b[39m=\u001b[39m np\u001b[39m.\u001b[39;49mzeros(voxel_counts, dtype\u001b[39m=\u001b[39;49m\u001b[39mint\u001b[39;49m)\n\u001b[1;32m     14\u001b[0m \u001b[39m# Assign points to their respective voxels\u001b[39;00m\n\u001b[1;32m     15\u001b[0m voxel_indices \u001b[39m=\u001b[39m ((point_cloud \u001b[39m-\u001b[39m min_coord) \u001b[39m/\u001b[39m voxel_size)\u001b[39m.\u001b[39mastype(\u001b[39mint\u001b[39m)\n",
      "\u001b[0;31mMemoryError\u001b[0m: Unable to allocate 1.00 EiB for an array with shape (1000001, 1000001, 144231) and data type int64"
     ]
    }
   ],
   "source": [
    "# Assuming you have a point cloud represented as a numpy array\n",
    "point_cloud = np.array([[1.0, 2.0, 3.0], [4.0, 5.0, 6.0], [7.0, 8.0, 9.0]])\n",
    "\n",
    "# Voxelization\n",
    "voxel_size = 0.1\n",
    "voxel_grid = voxelization(all_point_data, voxel_size)\n",
    "\n",
    "# Calculate sparsity\n",
    "sparsity = calculate_sparsity(voxel_grid)\n",
    "print(\"Sparsity:\", sparsity)\n"
   ]
  },
  {
   "cell_type": "code",
   "execution_count": 1,
   "metadata": {},
   "outputs": [
    {
     "name": "stdout",
     "output_type": "stream",
     "text": [
      "Total number of multiplications in the U-Net architecture with 3D input: 38560333824\n"
     ]
    }
   ],
   "source": [
    "def calculate_multiplications_3d_unet():\n",
    "    # Contracting Path (Encoder)\n",
    "    contracting_layers = [\n",
    "        (128, 128, 128, 64),  # Layer 1\n",
    "        (64, 64, 64, 128),    # Layer 2\n",
    "        (32, 32, 32, 256),    # Layer 3\n",
    "        (16, 16, 16, 512)     # Layer 4\n",
    "    ]\n",
    "\n",
    "    contracting_multiplications = 0\n",
    "    for layer in contracting_layers:\n",
    "        kernel_size = 3\n",
    "        layer_multiplications = (kernel_size ** 3) * (layer[0] * layer[1] * layer[2] * layer[3])\n",
    "        contracting_multiplications += layer_multiplications\n",
    "\n",
    "    # Expanding Path (Decoder)\n",
    "    expanding_layers = [\n",
    "        (32, 32, 32, 256),    # Layer 4\n",
    "        (64, 64, 64, 128),    # Layer 3\n",
    "        (128, 128, 128, 64),  # Layer 2\n",
    "        (256, 256, 256, 64)   # Layer 1\n",
    "    ]\n",
    "\n",
    "    expanding_multiplications = 0\n",
    "    for layer in expanding_layers:\n",
    "        kernel_size = 3\n",
    "        layer_multiplications = (kernel_size ** 3) * (layer[0] * layer[1] * layer[2] * layer[3])\n",
    "        expanding_multiplications += layer_multiplications\n",
    "\n",
    "    # Total number of multiplications\n",
    "    total_multiplications = contracting_multiplications + expanding_multiplications\n",
    "\n",
    "    return total_multiplications\n",
    "\n",
    "# Calculate the total number of multiplications\n",
    "total_multiplications = calculate_multiplications_3d_unet()\n",
    "print(\"Total number of multiplications in the U-Net architecture with 3D input:\", total_multiplications)\n"
   ]
  },
  {
   "cell_type": "code",
   "execution_count": 2,
   "metadata": {},
   "outputs": [
    {
     "name": "stdout",
     "output_type": "stream",
     "text": [
      "Total number of multiplications in the U-Net architecture with 2D input: 71958528\n"
     ]
    }
   ],
   "source": [
    "def calculate_multiplications_2d_unet():\n",
    "    # Contracting Path (Encoder)\n",
    "    contracting_layers = [\n",
    "        (128, 128, 64),  # Layer 1\n",
    "        (64, 64, 128),    # Layer 2\n",
    "        (32, 32, 256),    # Layer 3\n",
    "        (16, 16, 512)     # Layer 4\n",
    "    ]\n",
    "\n",
    "    contracting_multiplications = 0\n",
    "    for layer in contracting_layers:\n",
    "        kernel_size = 3\n",
    "        layer_multiplications = (kernel_size ** 2) * (layer[0] * layer[1] * layer[2])\n",
    "        contracting_multiplications += layer_multiplications\n",
    "\n",
    "    # Expanding Path (Decoder)\n",
    "    expanding_layers = [\n",
    "        (32, 32, 256),    # Layer 4\n",
    "        (64, 64, 128),    # Layer 3\n",
    "        (128, 128, 64),  # Layer 2\n",
    "        (256, 256, 64)   # Layer 1\n",
    "    ]\n",
    "\n",
    "    expanding_multiplications = 0\n",
    "    for layer in expanding_layers:\n",
    "        kernel_size = 3\n",
    "        layer_multiplications = (kernel_size ** 2) * (layer[0] * layer[1] * layer[2])\n",
    "        expanding_multiplications += layer_multiplications\n",
    "\n",
    "    # Total number of multiplications\n",
    "    total_multiplications = contracting_multiplications + expanding_multiplications\n",
    "\n",
    "    return total_multiplications\n",
    "\n",
    "# Calculate the total number of multiplications\n",
    "total_multiplications = calculate_multiplications_2d_unet()\n",
    "print(\"Total number of multiplications in the U-Net architecture with 2D input:\", total_multiplications)\n"
   ]
  },
  {
   "cell_type": "code",
   "execution_count": null,
   "metadata": {},
   "outputs": [],
   "source": []
  }
 ],
 "metadata": {
  "kernelspec": {
   "display_name": "msc",
   "language": "python",
   "name": "python3"
  },
  "language_info": {
   "codemirror_mode": {
    "name": "ipython",
    "version": 3
   },
   "file_extension": ".py",
   "mimetype": "text/x-python",
   "name": "python",
   "nbconvert_exporter": "python",
   "pygments_lexer": "ipython3",
   "version": "3.8.16"
  },
  "orig_nbformat": 4,
  "vscode": {
   "interpreter": {
    "hash": "2bfe5fc19ee440272b50e27189dca9d766ee16bd940e6c96fe401988e2293299"
   }
  }
 },
 "nbformat": 4,
 "nbformat_minor": 2
}
