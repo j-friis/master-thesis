{
 "cells": [
  {
   "cell_type": "code",
   "execution_count": 4,
   "metadata": {},
   "outputs": [],
   "source": [
    "## import the tools\n",
    "import torch\n",
    "import glob\n",
    "from pathlib import Path\n",
    "import os\n",
    "import numpy as np\n",
    "from sklearn.neighbors import NearestNeighbors as NN\n",
    "import glob\n",
    "import pandas as pd\n",
    "import ipdb\n",
    "import laspy\n",
    "import open3d as o3d\n",
    "from tqdm.notebook import tqdm\n",
    "import numpy as np\n",
    "\n",
    "\n",
    "import open3d as o3d\n",
    "import laspy\n"
   ]
  },
  {
   "cell_type": "code",
   "execution_count": 5,
   "metadata": {},
   "outputs": [],
   "source": [
    "### TEST DATA FILENAMES \n",
    "#VAL FILES\n",
    "filename = \"PUNKTSKY_00005_1km_6220_495\" # OKAY EVEN THO IT IS SRAIGHT LINE\n",
    "filename = \"PUNKTSKY_00005_1km_6221_452\" # REALLY BAD EVEN THO IT IS SRAIGHT LINE\n",
    "# TEST FILES\n",
    "filename = \"PUNKTSKY_00005_1km_6219_494\" \n",
    "filename = \"PUNKTSKY_00005_1km_6211_474\" \n"
   ]
  },
  {
   "cell_type": "code",
   "execution_count": 12,
   "metadata": {},
   "outputs": [],
   "source": [
    "# eval_file = \"/home/jfriis/msc_data/eval/\"+filename+\".laz\"\n",
    "# data_val_path_file = \"/home/jf/data/denmark/raw/val/\"+filename+\".laz\"\n",
    "path_to_file = \"/home/jf/data/denmark/raw/test/\"+filename+\".laz\"\n"
   ]
  },
  {
   "cell_type": "code",
   "execution_count": 13,
   "metadata": {},
   "outputs": [
    {
     "name": "stdout",
     "output_type": "stream",
     "text": [
      "4095\n",
      "(15599105, 3)\n"
     ]
    }
   ],
   "source": [
    "data = laspy.read(path_to_file, laz_backend=laspy.compression.LazBackend.LazrsParallel)\n",
    "all_point_data = np.stack([data.X, data.Y, data.Z], axis=0).transpose((1, 0))\n",
    "print(all_point_data.shape)"
   ]
  },
  {
   "cell_type": "code",
   "execution_count": 14,
   "metadata": {},
   "outputs": [],
   "source": [
    "import numpy as np\n",
    "\n",
    "def voxelization(point_cloud, voxel_size):\n",
    "    # Calculate the minimum and maximum coordinates of the point cloud\n",
    "    min_coord = np.min(point_cloud, axis=0)\n",
    "    max_coord = np.max(point_cloud, axis=0)\n",
    "\n",
    "    # Calculate the number of voxels in each dimension\n",
    "    voxel_counts = ((max_coord - min_coord) / voxel_size).astype(int) + 1\n",
    "\n",
    "    # Create an empty voxel grid\n",
    "    voxel_grid = np.zeros(voxel_counts, dtype=int)\n",
    "\n",
    "    # Assign points to their respective voxels\n",
    "    voxel_indices = ((point_cloud - min_coord) / voxel_size).astype(int)\n",
    "    voxel_grid[tuple(voxel_indices.T)] = 1\n",
    "\n",
    "    return voxel_grid\n"
   ]
  },
  {
   "cell_type": "code",
   "execution_count": 15,
   "metadata": {},
   "outputs": [],
   "source": [
    "def count_voxels(voxel_grid):\n",
    "    num_empty_voxels = np.count_nonzero(voxel_grid == 0)\n",
    "    num_occupied_voxels = np.count_nonzero(voxel_grid == 1)\n",
    "    \n",
    "    return num_empty_voxels, num_occupied_voxels\n"
   ]
  },
  {
   "cell_type": "code",
   "execution_count": 16,
   "metadata": {},
   "outputs": [],
   "source": [
    "def calculate_sparsity(voxel_grid):\n",
    "    num_empty_voxels, num_occupied_voxels = count_voxels(voxel_grid)\n",
    "    total_voxels = voxel_grid.size\n",
    "\n",
    "    sparsity = num_empty_voxels / total_voxels\n",
    "\n",
    "    return sparsity\n"
   ]
  },
  {
   "cell_type": "code",
   "execution_count": null,
   "metadata": {},
   "outputs": [],
   "source": []
  },
  {
   "cell_type": "code",
   "execution_count": 17,
   "metadata": {},
   "outputs": [
    {
     "ename": "MemoryError",
     "evalue": "Unable to allocate 1.00 EiB for an array with shape (1000001, 1000001, 144231) and data type int64",
     "output_type": "error",
     "traceback": [
      "\u001b[0;31m---------------------------------------------------------------------------\u001b[0m",
      "\u001b[0;31mMemoryError\u001b[0m                               Traceback (most recent call last)",
      "Cell \u001b[0;32mIn[17], line 6\u001b[0m\n\u001b[1;32m      4\u001b[0m \u001b[39m# Voxelization\u001b[39;00m\n\u001b[1;32m      5\u001b[0m voxel_size \u001b[39m=\u001b[39m \u001b[39m0.1\u001b[39m\n\u001b[0;32m----> 6\u001b[0m voxel_grid \u001b[39m=\u001b[39m voxelization(all_point_data, voxel_size)\n\u001b[1;32m      8\u001b[0m \u001b[39m# Calculate sparsity\u001b[39;00m\n\u001b[1;32m      9\u001b[0m sparsity \u001b[39m=\u001b[39m calculate_sparsity(voxel_grid)\n",
      "Cell \u001b[0;32mIn[14], line 12\u001b[0m, in \u001b[0;36mvoxelization\u001b[0;34m(point_cloud, voxel_size)\u001b[0m\n\u001b[1;32m      9\u001b[0m voxel_counts \u001b[39m=\u001b[39m ((max_coord \u001b[39m-\u001b[39m min_coord) \u001b[39m/\u001b[39m voxel_size)\u001b[39m.\u001b[39mastype(\u001b[39mint\u001b[39m) \u001b[39m+\u001b[39m \u001b[39m1\u001b[39m\n\u001b[1;32m     11\u001b[0m \u001b[39m# Create an empty voxel grid\u001b[39;00m\n\u001b[0;32m---> 12\u001b[0m voxel_grid \u001b[39m=\u001b[39m np\u001b[39m.\u001b[39;49mzeros(voxel_counts, dtype\u001b[39m=\u001b[39;49m\u001b[39mint\u001b[39;49m)\n\u001b[1;32m     14\u001b[0m \u001b[39m# Assign points to their respective voxels\u001b[39;00m\n\u001b[1;32m     15\u001b[0m voxel_indices \u001b[39m=\u001b[39m ((point_cloud \u001b[39m-\u001b[39m min_coord) \u001b[39m/\u001b[39m voxel_size)\u001b[39m.\u001b[39mastype(\u001b[39mint\u001b[39m)\n",
      "\u001b[0;31mMemoryError\u001b[0m: Unable to allocate 1.00 EiB for an array with shape (1000001, 1000001, 144231) and data type int64"
     ]
    }
   ],
   "source": [
    "# Assuming you have a point cloud represented as a numpy array\n",
    "point_cloud = np.array([[1.0, 2.0, 3.0], [4.0, 5.0, 6.0], [7.0, 8.0, 9.0]])\n",
    "\n",
    "# Voxelization\n",
    "voxel_size = 0.1\n",
    "voxel_grid = voxelization(all_point_data, voxel_size)\n",
    "\n",
    "# Calculate sparsity\n",
    "sparsity = calculate_sparsity(voxel_grid)\n",
    "print(\"Sparsity:\", sparsity)\n"
   ]
  },
  {
   "cell_type": "code",
   "execution_count": null,
   "metadata": {},
   "outputs": [],
   "source": []
  }
 ],
 "metadata": {
  "kernelspec": {
   "display_name": "msc",
   "language": "python",
   "name": "python3"
  },
  "language_info": {
   "codemirror_mode": {
    "name": "ipython",
    "version": 3
   },
   "file_extension": ".py",
   "mimetype": "text/x-python",
   "name": "python",
   "nbconvert_exporter": "python",
   "pygments_lexer": "ipython3",
   "version": "3.8.16"
  },
  "orig_nbformat": 4,
  "vscode": {
   "interpreter": {
    "hash": "2bfe5fc19ee440272b50e27189dca9d766ee16bd940e6c96fe401988e2293299"
   }
  }
 },
 "nbformat": 4,
 "nbformat_minor": 2
}
