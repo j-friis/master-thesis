{
 "cells": [
  {
   "cell_type": "code",
   "execution_count": 1,
   "id": "364f1978",
   "metadata": {},
   "outputs": [
    {
     "name": "stdout",
     "output_type": "stream",
     "text": [
      "Jupyter environment detected. Enabling Open3D WebVisualizer.\n",
      "[Open3D INFO] WebRTC GUI backend enabled.\n",
      "[Open3D INFO] WebRTCWindowSystem: HTTP handshake server disabled.\n"
     ]
    }
   ],
   "source": [
    "import pandas as pd\n",
    "import numpy as np\n",
    "import csv\n",
    "import re\n",
    "\n",
    "import matplotlib.pyplot as plt\n",
    "\n",
    "import matplotlib.pyplot as plt\n",
    "\n",
    "import numpy as np\n",
    "import pandas as pd\n",
    "import cv2\n",
    "import json\n",
    "\n",
    "import skimage.measure\n",
    "import glob\n",
    "\n",
    "import rasterio\n",
    "from rasterio.features import shapes\n",
    "\n",
    "import matplotlib.patches as mpatches\n",
    "from shapely.geometry import Point, Polygon, shape, mapping\n",
    "import shapely\n",
    "import geopandas as gpd\n",
    "\n",
    "from matplotlib.path import Path\n",
    "import laspy\n",
    "import open3d as o3d\n",
    "import os\n",
    "\n",
    "from skopt import BayesSearchCV\n",
    "from sklearn.neighbors import LocalOutlierFactor"
   ]
  },
  {
   "cell_type": "code",
   "execution_count": 2,
   "id": "2bfb7c0c",
   "metadata": {},
   "outputs": [],
   "source": [
    "\n",
    "cols = [\"file\", \"filepath\", \"pct_kept_datapoints\", \"pct_lost_powerline\", \"params\"]\n",
    "with open('/home/frederik/results_outliers_o3d_newscore.txt', 'r') as f:\n",
    "    lines = f.read()\n",
    "lines = lines.split('\\n')[:-1]\n",
    "\n",
    "results = []\n",
    "for line in lines:\n",
    "    match = re.search(\"\\{.*\\}\", line)\n",
    "    start, end = match.span()\n",
    "    params = line[start:end]\n",
    "    data = line[:start-1].split(',')\n",
    "    results.append(data+[params])\n",
    "    \n",
    "df = pd.DataFrame(results, columns=cols)\n",
    "\n",
    "df['pct_lost_powerline'] = df['pct_lost_powerline'].astype(float)\n",
    "df['pct_kept_datapoints'] = df['pct_kept_datapoints'].astype(float)\n",
    "\n",
    "runs = [] \n",
    "for i in df['params'].unique():\n",
    "    tmpDF = df[df['params'] == i]\n",
    "    runs.append(tmpDF)\n",
    "    "
   ]
  },
  {
   "cell_type": "code",
   "execution_count": 3,
   "id": "e2aacbd0",
   "metadata": {},
   "outputs": [],
   "source": [
    "alpha = 0.9\n",
    "best_score = 0\n",
    "best_run = None\n",
    "\n",
    "for run in runs:\n",
    "    mean_kept = np.mean(run['pct_kept_datapoints'])\n",
    "    mean_lost_powerline = np.mean(run['pct_lost_powerline']) \n",
    "    score = 1 - (1-alpha)*mean_kept - alpha*mean_lost_powerline\n",
    "    \n",
    "    if score > best_score:\n",
    "        best_score = score\n",
    "        best_run = run"
   ]
  },
  {
   "cell_type": "code",
   "execution_count": 5,
   "id": "f894be38",
   "metadata": {},
   "outputs": [
    {
     "data": {
      "text/plain": [
       "{'nb_neighbors': 19,\n",
       " 'path': '/home/nxw500/data/',\n",
       " 'std_ratio': 50,\n",
       " 'voxel_size': 0.7}"
      ]
     },
     "execution_count": 5,
     "metadata": {},
     "output_type": "execute_result"
    }
   ],
   "source": [
    "best_params = best_run.iloc[0].params.replace(\"'\", '\"')\n",
    "best_params = json.loads(best_params)\n",
    "best_params"
   ]
  },
  {
   "cell_type": "code",
   "execution_count": 19,
   "id": "7826568b",
   "metadata": {},
   "outputs": [],
   "source": [
    "# Other loss function\n",
    "best_run = None\n",
    "best_params = None\n",
    "best_kept = 1\n",
    "for r in runs:\n",
    "    if np.sum(r['pct_lost_powerline']) == 0:\n",
    "        mean_kept = np.mean(r['pct_kept_datapoints'])\n",
    "        if mean_kept < best_kept:\n",
    "            best_run = r\n",
    "\n",
    "best_params = best_run.iloc[0].params.replace(\"'\", '\"')\n",
    "best_params = json.loads(best_params)"
   ]
  },
  {
   "cell_type": "code",
   "execution_count": 6,
   "id": "c4a2f6bc",
   "metadata": {},
   "outputs": [
    {
     "name": "stdout",
     "output_type": "stream",
     "text": [
      "Points:  12909544\n",
      "Points lost:  309\n",
      "Powerline lost:  0\n",
      "Points:  10824872\n",
      "Points lost:  262\n",
      "Powerline lost:  0\n"
     ]
    },
    {
     "ename": "KeyboardInterrupt",
     "evalue": "",
     "output_type": "error",
     "traceback": [
      "\u001b[0;31m---------------------------------------------------------------------------\u001b[0m",
      "\u001b[0;31mKeyboardInterrupt\u001b[0m                         Traceback (most recent call last)",
      "\u001b[0;32m/tmp/ipykernel_5656/3893684486.py\u001b[0m in \u001b[0;36m<module>\u001b[0;34m\u001b[0m\n\u001b[1;32m      5\u001b[0m     \u001b[0;31m# Create o3d Point Cloud\u001b[0m\u001b[0;34m\u001b[0m\u001b[0;34m\u001b[0m\u001b[0;34m\u001b[0m\u001b[0m\n\u001b[1;32m      6\u001b[0m     \u001b[0mpcd\u001b[0m \u001b[0;34m=\u001b[0m \u001b[0mo3d\u001b[0m\u001b[0;34m.\u001b[0m\u001b[0mgeometry\u001b[0m\u001b[0;34m.\u001b[0m\u001b[0mPointCloud\u001b[0m\u001b[0;34m(\u001b[0m\u001b[0;34m)\u001b[0m\u001b[0;34m\u001b[0m\u001b[0;34m\u001b[0m\u001b[0m\n\u001b[0;32m----> 7\u001b[0;31m     \u001b[0mpcd\u001b[0m\u001b[0;34m.\u001b[0m\u001b[0mpoints\u001b[0m \u001b[0;34m=\u001b[0m \u001b[0mo3d\u001b[0m\u001b[0;34m.\u001b[0m\u001b[0mutility\u001b[0m\u001b[0;34m.\u001b[0m\u001b[0mVector3dVector\u001b[0m\u001b[0;34m(\u001b[0m\u001b[0mpoint_data\u001b[0m\u001b[0;34m)\u001b[0m\u001b[0;34m\u001b[0m\u001b[0;34m\u001b[0m\u001b[0m\n\u001b[0m\u001b[1;32m      8\u001b[0m     \u001b[0mvoxel_down_pcd\u001b[0m \u001b[0;34m=\u001b[0m \u001b[0mpcd\u001b[0m\u001b[0;34m.\u001b[0m\u001b[0mvoxel_down_sample\u001b[0m\u001b[0;34m(\u001b[0m\u001b[0mvoxel_size\u001b[0m\u001b[0;34m=\u001b[0m\u001b[0mbest_params\u001b[0m\u001b[0;34m[\u001b[0m\u001b[0;34m'voxel_size'\u001b[0m\u001b[0;34m]\u001b[0m\u001b[0;34m)\u001b[0m\u001b[0;34m\u001b[0m\u001b[0;34m\u001b[0m\u001b[0m\n\u001b[1;32m      9\u001b[0m \u001b[0;34m\u001b[0m\u001b[0m\n",
      "\u001b[0;31mKeyboardInterrupt\u001b[0m: "
     ]
    }
   ],
   "source": [
    "for path in glob.glob('/home/frederik/data/new_las/*'):\n",
    "    las = laspy.read(path, laz_backend=laspy.compression.LazBackend.LazrsParallel)\n",
    "    point_data = np.stack([las.X, las.Y, las.Z], axis=0).transpose((1, 0))\n",
    "\n",
    "    # Create o3d Point Cloud\n",
    "    pcd = o3d.geometry.PointCloud()\n",
    "    pcd.points = o3d.utility.Vector3dVector(point_data)\n",
    "    voxel_down_pcd = pcd.voxel_down_sample(voxel_size=best_params['voxel_size'])\n",
    "\n",
    "    new_pcd, ind = voxel_down_pcd.remove_statistical_outlier(nb_neighbors=best_params['nb_neighbors'],\n",
    "                                                                std_ratio=best_params['std_ratio'])\n",
    "    \n",
    "    print(\"Points: \", len(las))\n",
    "    print(\"Points lost: \", len(las)-len(ind))\n",
    "    print(\"Powerline lost: \", np.sum(las.classification == 14) - np.sum(las[ind].classification == 14))\n",
    "    \n",
    "    o3d.visualization.draw_geometries([new_pcd])\n",
    "    "
   ]
  },
  {
   "cell_type": "code",
   "execution_count": 42,
   "id": "2b74283d",
   "metadata": {},
   "outputs": [
    {
     "data": {
      "text/plain": [
       "['X',\n",
       " 'Y',\n",
       " 'Z',\n",
       " 'intensity',\n",
       " 'return_number',\n",
       " 'number_of_returns',\n",
       " 'scan_direction_flag',\n",
       " 'edge_of_flight_line',\n",
       " 'classification',\n",
       " 'synthetic',\n",
       " 'key_point',\n",
       " 'withheld',\n",
       " 'scan_angle_rank',\n",
       " 'user_data',\n",
       " 'point_source_id',\n",
       " 'gps_time',\n",
       " 'red',\n",
       " 'green',\n",
       " 'blue',\n",
       " 'HeightAboveGround']"
      ]
     },
     "execution_count": 42,
     "metadata": {},
     "output_type": "execute_result"
    }
   ],
   "source": [
    "list(las.point_format.dimension_names)"
   ]
  },
  {
   "cell_type": "code",
   "execution_count": 46,
   "id": "5f0ad5f2",
   "metadata": {},
   "outputs": [
    {
     "data": {
      "text/plain": [
       "26"
      ]
     },
     "execution_count": 46,
     "metadata": {},
     "output_type": "execute_result"
    }
   ],
   "source": [
    "np.sum(las.HeightAboveGround > 50)"
   ]
  },
  {
   "cell_type": "code",
   "execution_count": null,
   "id": "20dae063",
   "metadata": {},
   "outputs": [],
   "source": []
  }
 ],
 "metadata": {
  "kernelspec": {
   "display_name": "Python 3 (ipykernel)",
   "language": "python",
   "name": "python3"
  },
  "language_info": {
   "codemirror_mode": {
    "name": "ipython",
    "version": 3
   },
   "file_extension": ".py",
   "mimetype": "text/x-python",
   "name": "python",
   "nbconvert_exporter": "python",
   "pygments_lexer": "ipython3",
   "version": "3.8.16"
  }
 },
 "nbformat": 4,
 "nbformat_minor": 5
}
