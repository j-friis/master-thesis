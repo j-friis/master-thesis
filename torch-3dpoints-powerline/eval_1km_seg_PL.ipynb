{
 "cells": [
  {
   "cell_type": "code",
   "execution_count": 1,
   "id": "b0b8a0dc",
   "metadata": {
    "pycharm": {
     "name": "#%%\n"
    }
   },
   "outputs": [
    {
     "name": "stdout",
     "output_type": "stream",
     "text": [
      "Jupyter environment detected. Enabling Open3D WebVisualizer.\n",
      "[Open3D INFO] WebRTC GUI backend enabled.\n",
      "[Open3D INFO] WebRTCWindowSystem: HTTP handshake server disabled.\n"
     ]
    }
   ],
   "source": [
    "## import the tools\n",
    "import torch\n",
    "import glob\n",
    "from pathlib import Path\n",
    "import os\n",
    "import numpy as np\n",
    "from sklearn.neighbors import NearestNeighbors as NN\n",
    "import glob\n",
    "import pandas as pd\n",
    "import ipdb\n",
    "import laspy\n",
    "import open3d as o3d\n",
    "from tqdm.notebook import tqdm"
   ]
  },
  {
   "cell_type": "code",
   "execution_count": 2,
   "id": "76970f59",
   "metadata": {
    "pycharm": {
     "name": "#%%\n"
    }
   },
   "outputs": [],
   "source": [
    "## import the model tools\n",
    "from torch_geometric.transforms import Compose\n",
    "from torch_points3d.core.data_transform import MinPoints,XYZFeature, AddFeatsByKeys, GridSampling3D\n",
    "from torch_points3d.applications.pretrained_api import PretainedRegistry\n",
    "from torch_geometric.data import Batch, Dataset, Data ,DataLoader\n"
   ]
  },
  {
   "cell_type": "code",
   "execution_count": 3,
   "id": "89faedf7",
   "metadata": {
    "pycharm": {
     "name": "#%%\n"
    }
   },
   "outputs": [],
   "source": [
    "## to find the neighbor points prediction\n",
    "from sklearn.neighbors import BallTree, KDTree\n",
    "import numpy as np\n",
    "def get_nearest(src_points, candidates, k_neighbors=1):\n",
    "    \"\"\"Find nearest neighbors for all source points from a set of candidate points\"\"\"\n",
    "    # src : whole gt points in a file \n",
    "    tree = KDTree(candidates, leaf_size=20, metric='euclidean')\n",
    "\n",
    "    # Find closest points and distances\n",
    "    distances, indices = tree.query(src_points, k=k_neighbors)\n",
    "\n",
    "    # Transpose to get distances and indices into arrays\n",
    "    distances = distances.transpose()\n",
    "    indices = indices.transpose()\n",
    "\n",
    "    # Get closest indices and distances (i.e. array at index 0)\n",
    "    closest = np.squeeze(indices)\n",
    "    closest_dist = distances\n",
    "\n",
    "    return closest"
   ]
  },
  {
   "cell_type": "code",
   "execution_count": 4,
   "id": "036963b6",
   "metadata": {},
   "outputs": [],
   "source": [
    "model_folder = \"2023-03-29/13-31-16/\"\n",
    "root_path = \"/home/jf/Documents/msc/torch-3dpoints-powerline/\"\n",
    "pl_models_path = root_path+ \"outputs/\" + model_folder + \"SEUNet18.pt\" \n",
    "model = torch.load(pl_models_path)\n",
    "model['run_config']['data']['dataroot'] = '/home/jf/msc_data'\n",
    "torch.save(model, root_path+ \"outputs/\" + model_folder + \"SEUNet18.pt\")"
   ]
  },
  {
   "cell_type": "code",
   "execution_count": 5,
   "id": "f40db7e7",
   "metadata": {},
   "outputs": [
    {
     "data": {
      "text/plain": [
       "[{'transform': 'MinPoints', 'lparams': [512]},\n",
       " {'transform': 'XYZFeature',\n",
       "  'params': {'add_x': False, 'add_y': False, 'add_z': True}},\n",
       " {'transform': 'AddFeatsByKeys',\n",
       "  'params': {'list_add_to_x': [True],\n",
       "   'feat_names': ['pos_z'],\n",
       "   'delete_feats': [True]}},\n",
       " {'transform': 'GridSampling3D',\n",
       "  'params': {'size': '${data.first_subsampling}',\n",
       "   'quantize_coords': True,\n",
       "   'mode': 'last'}}]"
      ]
     },
     "execution_count": 5,
     "metadata": {},
     "output_type": "execute_result"
    }
   ],
   "source": [
    "model['run_config'][\"data\"][\"train_transform\"]"
   ]
  },
  {
   "cell_type": "code",
   "execution_count": 6,
   "id": "58575c73",
   "metadata": {},
   "outputs": [],
   "source": [
    "## transformer\n",
    "pos_z = [ \"pos_z\" ]\n",
    "list_add_to_x = [ True ]\n",
    "delete_feats = [ True ]\n",
    "lparams = ['512']\n",
    "\n",
    "first_subsampling = model['run_config'][\"data\"][\"first_subsampling\"]\n",
    "transform_test = Compose([MinPoints(512),\n",
    "                     XYZFeature(add_x=False, add_y=False, add_z= True),\n",
    "                     AddFeatsByKeys(list_add_to_x=list_add_to_x, feat_names= pos_z,delete_feats=delete_feats),\n",
    "                     GridSampling3D(mode='last', size=first_subsampling, quantize_coords=True)\n",
    "                     ])"
   ]
  },
  {
   "cell_type": "code",
   "execution_count": 7,
   "id": "884b2ee5",
   "metadata": {
    "pycharm": {
     "name": "#%%\n"
    }
   },
   "outputs": [
    {
     "name": "stderr",
     "output_type": "stream",
     "text": [
      "INFO - 2023-04-07 11:22:13,180 - model_checkpoint - Loading checkpoint from /home/jf/Documents/msc/torch-3dpoints-powerline/outputs/2023-03-29/13-31-16/SEUNet18.pt\n"
     ]
    },
    {
     "name": "stdout",
     "output_type": "stream",
     "text": [
      "loading processed train split\n",
      "Total of 1516 samples in train set.\n",
      "loading processed val split\n",
      "Total of 100 samples in val set.\n",
      "Processing...\n",
      "processing test split\n"
     ]
    },
    {
     "data": {
      "application/vnd.jupyter.widget-view+json": {
       "model_id": "af3c5c0ade2345e4b8e695d8cb20c97a",
       "version_major": 2,
       "version_minor": 0
      },
      "text/plain": [
       "0it [00:00, ?it/s]"
      ]
     },
     "metadata": {},
     "output_type": "display_data"
    },
    {
     "name": "stdout",
     "output_type": "stream",
     "text": [
      "4095\n",
      "saving processed test split\n"
     ]
    },
    {
     "data": {
      "application/vnd.jupyter.widget-view+json": {
       "model_id": "4ab8acfa9f224830ae711296c8b06bc9",
       "version_major": 2,
       "version_minor": 0
      },
      "text/plain": [
       "  0%|          | 0/1 [00:00<?, ?it/s]"
      ]
     },
     "metadata": {},
     "output_type": "display_data"
    },
    {
     "data": {
      "application/vnd.jupyter.widget-view+json": {
       "model_id": "4ec88af21acc4fc8a7212d1ecd6436ef",
       "version_major": 2,
       "version_minor": 0
      },
      "text/plain": [
       "0it [00:00, ?it/s]"
      ]
     },
     "metadata": {},
     "output_type": "display_data"
    },
    {
     "name": "stdout",
     "output_type": "stream",
     "text": [
      "Done!\n",
      "loading processed test split\n",
      "Total of 55 samples in test set.\n"
     ]
    },
    {
     "name": "stderr",
     "output_type": "stream",
     "text": [
      "INFO - 2023-04-07 11:22:19,978 - model_checkpoint - Available weights : ['latest', 'loss_seg', 'acc', 'macc', 'miou']\n",
      "INFO - 2023-04-07 11:22:19,978 - model_checkpoint - Model loaded from SEUNet18.pt:latest\n",
      "INFO - 2023-04-07 11:22:20,070 - bn_schedulers - Setting batchnorm momentum at 0.1\n"
     ]
    }
   ],
   "source": [
    "## powerline model\n",
    "model_folder = \"2023-03-29/13-31-16/\"\n",
    "root_path = \"/home/jf/Documents/msc/torch-3dpoints-powerline/\"\n",
    "pl_models_path = root_path+ \"outputs/\" + model_folder + \"SEUNet18\" \n",
    "\n",
    "model_pl = PretainedRegistry.from_file(pl_models_path).cuda()"
   ]
  },
  {
   "cell_type": "markdown",
   "id": "f366fb27",
   "metadata": {
    "pycharm": {
     "name": "#%% md\n"
    }
   },
   "source": [
    "## Process with the normalize data"
   ]
  },
  {
   "cell_type": "code",
   "execution_count": 8,
   "id": "465bd2ea",
   "metadata": {
    "pycharm": {
     "name": "#%%\n"
    }
   },
   "outputs": [],
   "source": [
    "## load test pt with normalized\n",
    "\n",
    "## load transform pt pre\n",
    "processed_folder_name = model['run_config']['data'][\"processed_folder\"] # \"processed_hough\"\n",
    "data_root_path = \"/home/jf/msc_data/denmark\"\n",
    "processed_data_root_path = os.path.join(data_root_path, processed_folder_name)#\"/home/jf/msc_data/denmark/processed_hough\"\n",
    "test_fold = processed_data_root_path + \"/test_0_(0.1, 0.1)/\"\n",
    "\n",
    "pre_trans_path = test_fold + \"/stats.pt\"\n",
    "vis_out_folder = processed_data_root_path + '/vis/'\n",
    "\n",
    "pre_transform = torch.load(pre_trans_path)"
   ]
  },
  {
   "cell_type": "code",
   "execution_count": 9,
   "id": "505fbc39",
   "metadata": {},
   "outputs": [
    {
     "name": "stdout",
     "output_type": "stream",
     "text": [
      "pre_transform={'room_names': ['PUNKTSKY_00005_1km_6219_494'], 'room_coord_min': [array([ 4.9406794e+07,  6.2190000e+08, -2.6480000e+03])], 'room_coord_max': [array([4.94999990e+07, 6.21971228e+08, 1.39850000e+04])], 'room_coord_scale': [array([ 9320.5,  7122.8, 16633. ])], 'global_z': (-2648.0, 13985.0)}\n"
     ]
    }
   ],
   "source": [
    "print(f\"{pre_transform=}\")\n"
   ]
  },
  {
   "cell_type": "code",
   "execution_count": 10,
   "id": "588f7976",
   "metadata": {},
   "outputs": [
    {
     "name": "stdout",
     "output_type": "stream",
     "text": [
      "/home/jf/msc_data/denmark/processed_hough/test_0_(0.1, 0.1)/PUNKTSKY_00005_1km_6219_494_cloud_19.pt\n",
      "Batch(batch=[1], coords=[1, 3], grid_size=[1], pos=[1, 3], x=[1, 1], y=[1])\n",
      "save finished\n"
     ]
    }
   ],
   "source": [
    "## loop for every files\n",
    "## delete files\n",
    "#count = 0\n",
    "global_z = pre_transform['global_z']\n",
    "# for i in range(count_list):\n",
    "room_names = pre_transform['room_names']\n",
    "room_coord_mins = pre_transform['room_coord_min']\n",
    "room_coord_maxs = pre_transform['room_coord_max']\n",
    "room_coord_scales = pre_transform['room_coord_scale']\n",
    "#count = 0\n",
    "# files = list(glob.glob(test_fold + \"PUNKTSKY_00005_1km_6219_494*cloud*pt\"))\n",
    "files = list(glob.glob(test_fold + \"*cloud*pt\"))\n",
    "for file in files:\n",
    "#for file in glob.glob(test_fold + \"*cloud*pt\"):\n",
    "    # print(file)\n",
    "    sample = os.path.join(test_fold, file)\n",
    "    pt_data = torch.load(sample)\n",
    "    room_index = pt_data['room_idx']\n",
    "    room_name = room_names[room_index]\n",
    "    vis_out = os.path.join(vis_out_folder, room_name)\n",
    "    Path(vis_out_folder).mkdir(exist_ok=True, parents=True)\n",
    "    # print(vis_out)\n",
    "    # ipdb.set_trace()\n",
    "    # print(f\"{pos_=}\")\n",
    "\n",
    "    room_coord_scale = room_coord_scales[room_index]\n",
    "    pos_ = pt_data['points']\n",
    "    pt_ori = pos_ * room_coord_scale + pt_data['coord_min']\n",
    "    data_s = transform_test(Batch(pos=torch.from_numpy(pos_).float(), batch=torch.zeros(pos_.shape[0]).long()))\n",
    "    # data_s = transform_test(Batch(pos=torch.from_numpy(pos_).float(), batch=torch.zeros(1).long()))\n",
    "    data_s.y = torch.zeros(data_s.batch.shape).long()\n",
    "    f = get_nearest(pos_, data_s.pos)\n",
    "    # print(f\"{room_index =}\")\n",
    "    # print(f\"{room_name =}\")\n",
    "    # print(f\"{vis_out =}\")\n",
    "    # print(f\"{room_coord_scale =}\")\n",
    "    # print(f\"{pos_ =}\")\n",
    "    # print(f\"{data_s.pos =}\")\n",
    "    # print(f\"{f =}\")\n",
    "\n",
    "\n",
    "    with torch.no_grad():\n",
    "        model_pl.eval()\n",
    "        model_pl.set_input(data_s, \"cuda\")\n",
    "        model_pl.forward(data_s)\n",
    "    \n",
    "    pre = model_pl.output.cpu().numpy()\n",
    "    m = torch.nn.functional.softmax(torch.tensor(pre), dim=1)\n",
    "    cla_pre = np.argmax(m, axis=1)\n",
    "    pre_ori = np.arange(len(pos_))\n",
    "    if len(pos_) == 1:\n",
    "        print(file)\n",
    "        print(data_s)\n",
    "        pre_ori[0] = cla_pre[0]\n",
    "    else:\n",
    "        for i in pre_ori:\n",
    "            #print(i)\n",
    "            # print(f\"{pre_ori[i] = }\")\n",
    "            # print(f\"{cla_pre[f[i]] = }\")\n",
    "            # print(f\"{f[i] = }\")\n",
    "            pre_ori[i] = cla_pre[f[i]]\n",
    "    combine_pre = np.column_stack((pt_ori, pre_ori.T))\n",
    "#     import ipdb;ipdb.set_trace()\n",
    "    vis_out = vis_out_folder + room_name +'pre.txt'\n",
    "    if os.path.exists(vis_out):\n",
    "        file_save = open(vis_out, 'a')\n",
    "    else:\n",
    "        file_save = open(vis_out, 'w')\n",
    "\n",
    "    file_save = open(vis_out_folder + room_name +'pre.txt', 'a')\n",
    "    np.savetxt(file_save, combine_pre, fmt = '%1.5f')\n",
    "#     file_save.write(\"\\n\")    \n",
    "#     break\n",
    "print(\"save finished\")"
   ]
  },
  {
   "cell_type": "code",
   "execution_count": 11,
   "id": "d55ec1a8",
   "metadata": {},
   "outputs": [],
   "source": [
    "# file not working\n",
    "# /home/jf/msc_data/denmark/processed_hough/test_0_(0.1, 0.1)/PUNKTSKY_00005_1km_6219_494_cloud_19.pt\n"
   ]
  },
  {
   "cell_type": "code",
   "execution_count": 12,
   "id": "95aa11ec",
   "metadata": {},
   "outputs": [],
   "source": [
    "# not_working_pos_ = pos_.copy()"
   ]
  },
  {
   "cell_type": "code",
   "execution_count": 13,
   "id": "a874b6c5",
   "metadata": {},
   "outputs": [],
   "source": [
    "# not_working_data_s = data_s.clone()"
   ]
  },
  {
   "cell_type": "code",
   "execution_count": 14,
   "id": "d81b1cfb",
   "metadata": {},
   "outputs": [],
   "source": [
    "# print(working_pos_.shape)\n",
    "# print(working_pos_)\n",
    "# print(working_data_s.pos)\n",
    "# working_f = get_nearest(working_pos_,working_data_s.pos)\n",
    "# print(working_f)\n",
    "# print(type(working_f))\n",
    "# print(working_f.size)\n",
    "# print(len(working_f))"
   ]
  },
  {
   "cell_type": "code",
   "execution_count": 15,
   "id": "a3c5737e",
   "metadata": {},
   "outputs": [],
   "source": [
    "# print(not_working_pos_)\n",
    "# print(type(not_working_pos_))\n",
    "# print(not_working_data_s.pos)\n",
    "# not_working_f = get_nearest(not_working_pos_, not_working_data_s.pos)\n",
    "# print(not_working_f)\n",
    "# print(type(not_working_f))\n",
    "# print((not_working_f.size))\n",
    "# #print(len(not_working_f))\n",
    "# print(len(not_working_pos_))"
   ]
  },
  {
   "cell_type": "code",
   "execution_count": 16,
   "id": "17a7c236",
   "metadata": {},
   "outputs": [],
   "source": [
    "# pos_test = np.array([[5.00069739, 2.00061773, 0.50123249]])\n",
    "# data_s_test = torch.tensor([[5.0007, 2.0006, 0.5012]])\n",
    "# f = get_nearest(pos_test, data_s_test)\n",
    "# # print(f)\n",
    "# # print(type(f))\n",
    "# # print((f.size))\n",
    "# # print(len(f))"
   ]
  },
  {
   "cell_type": "markdown",
   "id": "a66e07e3",
   "metadata": {
    "pycharm": {
     "name": "#%% md\n"
    }
   },
   "source": [
    "### Simple vis"
   ]
  },
  {
   "cell_type": "code",
   "execution_count": 18,
   "id": "fb2043fa",
   "metadata": {
    "pycharm": {
     "name": "#%%\n"
    }
   },
   "outputs": [
    {
     "data": {
      "text/plain": [
       "(array([[4.94504490e+07, 6.21904102e+08, 5.78300000e+03, 1.00000000e+00],\n",
       "        [4.94504790e+07, 6.21904100e+08, 5.78500000e+03, 1.00000000e+00],\n",
       "        [4.94504300e+07, 6.21904135e+08, 5.78000000e+03, 1.00000000e+00],\n",
       "        ...,\n",
       "        [4.94274950e+07, 6.21928478e+08, 5.87500000e+03, 1.00000000e+00],\n",
       "        [4.94275240e+07, 6.21928475e+08, 5.87500000e+03, 1.00000000e+00],\n",
       "        [4.94275510e+07, 6.21928472e+08, 5.87300000e+03, 1.00000000e+00]]),\n",
       " (4359245, 4))"
      ]
     },
     "execution_count": 18,
     "metadata": {},
     "output_type": "execute_result"
    }
   ],
   "source": [
    "## read path\n",
    "filename = \"PUNKTSKY_00005_1km_6219_494\"\n",
    "vis_out_folder\n",
    "pred_path = os.path.join(vis_out_folder, filename+\"pre.txt\")\n",
    "pred_data = pd.read_csv(pred_path, sep=\" \", header=None).values\n",
    "pred_data, pred_data.shape"
   ]
  },
  {
   "cell_type": "code",
   "execution_count": 21,
   "id": "cd727bd8",
   "metadata": {},
   "outputs": [],
   "source": [
    "## vis\n",
    "import matplotlib.pyplot as plt\n",
    "import matplotlib\n",
    "#%matplotlib notebook"
   ]
  },
  {
   "cell_type": "code",
   "execution_count": 22,
   "id": "20040075",
   "metadata": {
    "pycharm": {
     "name": "#%%\n"
    }
   },
   "outputs": [],
   "source": [
    "idx = np.arange(len(pred_data))\n",
    "np.random.shuffle(idx)\n",
    "idx = idx[:30000]\n",
    "\n",
    "vmin = pred_data[idx, -1].min()\n",
    "vmax = pred_data[idx, -1].max()\n",
    "cm = plt.colormaps['RdYlBu']"
   ]
  },
  {
   "cell_type": "code",
   "execution_count": 23,
   "id": "68a95949",
   "metadata": {},
   "outputs": [
    {
     "data": {
      "text/plain": [
       "<matplotlib.colorbar.Colorbar at 0x7f0e91974fd0>"
      ]
     },
     "execution_count": 23,
     "metadata": {},
     "output_type": "execute_result"
    },
    {
     "data": {
      "image/png": "[encoded data removed]",
      "text/plain": [
       "<Figure size 640x480 with 2 Axes>"
      ]
     },
     "metadata": {},
     "output_type": "display_data"
    }
   ],
   "source": [
    "plt.figure()\n",
    "sc = plt.scatter(pred_data[idx, 0], pred_data[idx, 1], c =pred_data[idx, -1],\n",
    "                cmap=cm, vmin=vmin, vmax=vmax, s=5\n",
    "            )\n",
    "plt.colorbar(sc)"
   ]
  },
  {
   "cell_type": "code",
   "execution_count": null,
   "id": "ed662723",
   "metadata": {},
   "outputs": [
    {
     "data": {
      "text/plain": [
       "30000"
      ]
     },
     "execution_count": 16,
     "metadata": {},
     "output_type": "execute_result"
    }
   ],
   "source": [
    "len(pred_data[idx, 0])"
   ]
  },
  {
   "cell_type": "code",
   "execution_count": null,
   "id": "88435ace",
   "metadata": {},
   "outputs": [],
   "source": [
    "\n"
   ]
  },
  {
   "cell_type": "code",
   "execution_count": 24,
   "id": "0202508c",
   "metadata": {},
   "outputs": [
    {
     "name": "stdout",
     "output_type": "stream",
     "text": [
      "/home/jf/msc_data/denmark/raw/test/PUNKTSKY_00005_1km_6219_494.laz\n",
      "/home/jf/msc_data/denmark/raw/test/NewLaz/PUNKTSKY_00005_1km_6219_494.laz\n",
      "4095\n",
      "4095\n",
      "19684629\n",
      "4364059\n"
     ]
    }
   ],
   "source": [
    "normal_laz_file = os.path.join(data_root_path, \"raw\", \"test\",filename+\".laz\")\n",
    "processed_laz_file = os.path.join(data_root_path, \"raw\", \"test\", \"NewLaz\", filename+\".laz\")\n",
    "print(normal_laz_file)\n",
    "print(processed_laz_file)\n",
    "non_processed_laz = laspy.read(normal_laz_file, laz_backend=laspy.compression.LazBackend.LazrsParallel)\n",
    "processed_laz = laspy.read(processed_laz_file, laz_backend=laspy.compression.LazBackend.LazrsParallel)\n",
    "non_processed_point_data = np.stack([non_processed_laz.X, non_processed_laz.Y, non_processed_laz.Z], axis=0).transpose((1, 0))\n",
    "processed_point_data = np.stack([processed_laz.X, processed_laz.Y, processed_laz.Z], axis=0).transpose((1, 0))\n",
    "print(len(non_processed_point_data))\n",
    "print(len(processed_point_data))\n"
   ]
  },
  {
   "cell_type": "code",
   "execution_count": null,
   "id": "016635e1",
   "metadata": {},
   "outputs": [],
   "source": []
  },
  {
   "cell_type": "code",
   "execution_count": 25,
   "id": "9a29b59a",
   "metadata": {},
   "outputs": [
    {
     "name": "stdout",
     "output_type": "stream",
     "text": [
      "18363\n"
     ]
    }
   ],
   "source": [
    "# Visualise all data\n",
    "geom = o3d.geometry.PointCloud()\n",
    "geom.points = o3d.utility.Vector3dVector(non_processed_point_data)\n",
    "o3d.visualization.draw_geometries([geom])\n",
    "print(np.sum(non_processed_laz.classification == 14))"
   ]
  },
  {
   "cell_type": "code",
   "execution_count": 49,
   "id": "4acb4dfd",
   "metadata": {},
   "outputs": [
    {
     "name": "stdout",
     "output_type": "stream",
     "text": [
      "18363\n"
     ]
    }
   ],
   "source": [
    "# Visualise all data after removal of points\n",
    "geom = o3d.geometry.PointCloud()\n",
    "geom.points = o3d.utility.Vector3dVector(processed_point_data)\n",
    "o3d.visualization.draw_geometries([geom])\n",
    "print(np.sum(processed_laz.classification == 14))"
   ]
  },
  {
   "cell_type": "code",
   "execution_count": 27,
   "id": "6e3e54fc",
   "metadata": {},
   "outputs": [
    {
     "name": "stdout",
     "output_type": "stream",
     "text": [
      "['X', 'Y', 'Z', 'intensity', 'return_number', 'number_of_returns', 'scan_direction_flag', 'edge_of_flight_line', 'classification', 'synthetic', 'key_point', 'withheld', 'scan_angle_rank', 'user_data', 'point_source_id', 'gps_time', 'red', 'green', 'blue', 'HeightAboveGround']\n"
     ]
    }
   ],
   "source": [
    "print(list(processed_laz.point_format.dimension_names))"
   ]
  },
  {
   "cell_type": "code",
   "execution_count": 34,
   "id": "c36990c3",
   "metadata": {},
   "outputs": [
    {
     "data": {
      "text/plain": [
       "array([[ 49450449, 621904102,      5783,         1],\n",
       "       [ 49450479, 621904100,      5785,         1],\n",
       "       [ 49450430, 621904135,      5780,         1],\n",
       "       ...,\n",
       "       [ 49427495, 621928478,      5875,         1],\n",
       "       [ 49427524, 621928475,      5875,         1],\n",
       "       [ 49427551, 621928472,      5873,         1]])"
      ]
     },
     "execution_count": 34,
     "metadata": {},
     "output_type": "execute_result"
    }
   ],
   "source": [
    "pred_data.astype(int)"
   ]
  },
  {
   "cell_type": "code",
   "execution_count": 28,
   "id": "d02a29c7",
   "metadata": {},
   "outputs": [],
   "source": [
    "powerline_pts = pred_data[np.where(pred_data[:,3] == 1)].copy()\n",
    "powerline_pts_coord = powerline_pts[:,:-1].astype(np.int32)\n",
    "# powerline_pts_coord = powerline_pts_coord*100\n",
    "# powerline_pts_coord = np.int64(powerline_pts_coord)"
   ]
  },
  {
   "cell_type": "code",
   "execution_count": 32,
   "id": "cabf6e22",
   "metadata": {},
   "outputs": [
    {
     "name": "stdout",
     "output_type": "stream",
     "text": [
      "[[ 49450449 621904102      5783]\n",
      " [ 49450479 621904100      5785]\n",
      " [ 49450430 621904135      5780]\n",
      " [ 49450421 621904132      6121]\n",
      " [ 49450448 621904128      6253]\n",
      " [ 49450485 621904129      5782]\n",
      " [ 49450474 621904126      6207]\n",
      " [ 49450468 621904124      6425]\n",
      " [ 49450495 621904121      6464]\n",
      " [ 49450524 621904119      6383]]\n",
      "[[ 49420222 621902558      6254]\n",
      " [ 49420260 621902563      6253]\n",
      " [ 49420132 621902577      6256]\n",
      " [ 49420171 621902583      6254]\n",
      " [ 49420211 621902588      6255]\n",
      " [ 49420244 621902592      6255]\n",
      " [ 49420016 621902596      6255]\n",
      " [ 49420050 621902600      6255]\n",
      " [ 49420085 621902605      6255]\n",
      " [ 49420121 621902610      6258]]\n"
     ]
    }
   ],
   "source": [
    "print(powerline_pts_coord[:10])\n",
    "print(processed_point_data[:10])\n"
   ]
  },
  {
   "cell_type": "code",
   "execution_count": 36,
   "id": "0196d663",
   "metadata": {},
   "outputs": [],
   "source": [
    "idx = get_nearest(powerline_pts_coord,processed_point_data)"
   ]
  },
  {
   "cell_type": "code",
   "execution_count": 39,
   "id": "fbbde213",
   "metadata": {},
   "outputs": [],
   "source": [
    "pred = np.zeros(len(processed_point_data))\n",
    "pred[idx] = 1"
   ]
  },
  {
   "cell_type": "code",
   "execution_count": 41,
   "id": "be2bd4d9",
   "metadata": {},
   "outputs": [],
   "source": [
    "processed_laz.add_extra_dim(laspy.ExtraBytesParams(\n",
    "    name=\"prediction\",\n",
    "    type=np.uint8,\n",
    "    description=\"The prediction of the model\"\n",
    "))"
   ]
  },
  {
   "cell_type": "code",
   "execution_count": 42,
   "id": "a256a9d0",
   "metadata": {},
   "outputs": [],
   "source": [
    "processed_laz.prediction = pred"
   ]
  },
  {
   "cell_type": "code",
   "execution_count": 47,
   "id": "97f139d1",
   "metadata": {},
   "outputs": [],
   "source": [
    "powerline_las = processed_laz[processed_laz.prediction == 1]\n",
    "powerline_points_data = np.stack([powerline_las.X, powerline_las.Y, powerline_las.Z], axis=0).transpose((1, 0))\n",
    "\n"
   ]
  },
  {
   "cell_type": "code",
   "execution_count": 48,
   "id": "f21b4945",
   "metadata": {},
   "outputs": [],
   "source": [
    "geom = o3d.geometry.PointCloud()\n",
    "geom.points = o3d.utility.Vector3dVector(powerline_points_data)\n",
    "o3d.visualization.draw_geometries([geom])"
   ]
  },
  {
   "cell_type": "code",
   "execution_count": 30,
   "id": "d767752f",
   "metadata": {},
   "outputs": [
    {
     "name": "stdout",
     "output_type": "stream",
     "text": [
      "laz data x max 49499999\n",
      "pt x max 49499998\n",
      "laz data y max 621971228\n",
      "pt y max 621971227\n",
      "laz data z max 17597\n",
      "pt z max 9717\n"
     ]
    }
   ],
   "source": [
    "print(f\"laz data x max {np.max(processed_point_data[:,0])}\")\n",
    "print(f\"pt x max {np.max(powerline_pts_coord[:,0])}\")\n",
    "print(f\"laz data y max {np.max(processed_point_data[:,1])}\")\n",
    "print(f\"pt y max {np.max(powerline_pts_coord[:,1])}\")\n",
    "print(f\"laz data z max {np.max(processed_point_data[:,2])}\")\n",
    "print(f\"pt z max {np.max(powerline_pts_coord[:,2])}\")"
   ]
  },
  {
   "cell_type": "code",
   "execution_count": null,
   "id": "220f8823",
   "metadata": {},
   "outputs": [
    {
     "name": "stdout",
     "output_type": "stream",
     "text": [
      "(array([], dtype=int64),)\n"
     ]
    },
    {
     "name": "stderr",
     "output_type": "stream",
     "text": [
      "/tmp/ipykernel_5212/4011684562.py:1: DeprecationWarning: elementwise comparison failed; this will raise an error in the future.\n",
      "  idx = np.where(np.all(non_processed_point_data == powerline_pts_coord[:,None,:], axis=-1))\n"
     ]
    }
   ],
   "source": [
    "idx = np.where(np.all(non_processed_point_data == powerline_pts_coord[:,None,:], axis=-1))\n",
    "print(idx)"
   ]
  },
  {
   "cell_type": "code",
   "execution_count": null,
   "id": "f9949bf4",
   "metadata": {},
   "outputs": [
    {
     "data": {
      "text/plain": [
       "array([[[ 47491674, 621100046,      4181]],\n",
       "\n",
       "       [[ 47491705, 621100043,      4189]],\n",
       "\n",
       "       [[ 47491822, 621100035,      4141]],\n",
       "\n",
       "       ...,\n",
       "\n",
       "       [[ 47420804, 621187840,      5701]],\n",
       "\n",
       "       [[ 47420776, 621187836,      5700]],\n",
       "\n",
       "       [[ 47420749, 621187833,      5695]]])"
      ]
     },
     "execution_count": 31,
     "metadata": {},
     "output_type": "execute_result"
    }
   ],
   "source": [
    "powerline_pts_coord[:,None,:]"
   ]
  },
  {
   "cell_type": "code",
   "execution_count": null,
   "id": "43eb8094",
   "metadata": {},
   "outputs": [
    {
     "name": "stdout",
     "output_type": "stream",
     "text": [
      "[2502082 2557307 2617178 2646975 2674098 2683501 2683509 2735824 2741014\n",
      " 2752864]\n",
      "[ 19549  26636  26637  29293  34141  40944 204373 208391 224984 224988]\n",
      "[ 7591 13605 16267 18707 19225 33897 36656 40683 61222 65597]\n",
      "[[ 47491662 621119895      4391]\n",
      " [ 47491662 621119354      4240]\n",
      " [ 47491662 621118820      4212]\n",
      " [ 47491662 621135122      6519]\n",
      " [ 47491662 621135495      6301]\n",
      " [ 47491662 621135627      5862]\n",
      " [ 47491662 621135658      4788]\n",
      " [ 47491662 621136268      6262]\n",
      " [ 47491662 621136309      6361]\n",
      " [ 47491662 621136439      6676]]\n",
      "[[ 47491662 621119895      4391]]\n",
      "[2502082]\n",
      "[[ 47491662 621119895      4391]]\n"
     ]
    }
   ],
   "source": [
    "x, y, z = 47491662, 621119895, 4391\n",
    "processed_x_idx = np.where(processed_point_data[:,0] == x)[0]\n",
    "processed_y_idx = np.where(processed_point_data[:,1] == y)[0]\n",
    "processed_z_idx = np.where(processed_point_data[:,2] == z)[0]\n",
    "print(processed_x_idx[:10])\n",
    "print(processed_y_idx[:10])\n",
    "print(processed_z_idx[:10])\n",
    "print(processed_point_data[processed_x_idx][:10])\n",
    "processed_xy_idx = processed_x_idx[np.isin(processed_x_idx,processed_y_idx)]\n",
    "print(processed_point_data[processed_xy_idx][:10])\n",
    "processed_xyz_idx = processed_z_idx[np.isin(processed_z_idx,processed_xy_idx)]\n",
    "print(processed_xyz_idx[:10])\n",
    "print(processed_point_data[processed_xyz_idx])\n"
   ]
  },
  {
   "cell_type": "code",
   "execution_count": null,
   "id": "ba9b1c9d",
   "metadata": {},
   "outputs": [
    {
     "name": "stdout",
     "output_type": "stream",
     "text": [
      "[1330451 1330700 1333696 1740165 1742065 1742680 1742686 1746431 1746763\n",
      " 1747579]\n",
      "[1216109 1216113 1216116 1216131 1216264 1216408 1216581 1216583 1216753\n",
      " 1216754]\n",
      "[179 180 247 250 252 257 264 326 330 333]\n",
      "[[ 47491662 621181700      5483]\n",
      " [ 47491662 621181767      5481]\n",
      " [ 47491662 621182424      5468]\n",
      " [ 47491662 621135122      6519]\n",
      " [ 47491662 621135495      6301]\n",
      " [ 47491662 621135627      5862]\n",
      " [ 47491662 621135658      4788]\n",
      " [ 47491662 621136268      6262]\n",
      " [ 47491662 621136309      6361]\n",
      " [ 47491662 621136439      6676]]\n",
      "[]\n",
      "[]\n",
      "[]\n"
     ]
    }
   ],
   "source": [
    "powerline_x_idx = np.where(powerline_pts_coord[:,0] == x)[0]\n",
    "powerline_y_idx = np.where(powerline_pts_coord[:,1] == y)[0]\n",
    "powerline_z_idx = np.where(powerline_pts_coord[:,2] == z)[0]\n",
    "print(powerline_x_idx[:10])\n",
    "print(powerline_y_idx[:10])\n",
    "print(powerline_z_idx[:10])\n",
    "print(powerline_pts_coord[powerline_x_idx][:10])\n",
    "powerline_xy_idx = powerline_x_idx[np.isin(powerline_x_idx,powerline_y_idx)]\n",
    "print(powerline_pts_coord[powerline_xy_idx][:10])\n",
    "powerline_xyz_idx = powerline_z_idx[np.isin(powerline_z_idx,powerline_xy_idx)]\n",
    "print(powerline_xyz_idx[:10])\n",
    "print(powerline_pts_coord[powerline_xyz_idx])"
   ]
  },
  {
   "cell_type": "code",
   "execution_count": null,
   "id": "e692d897",
   "metadata": {},
   "outputs": [
    {
     "name": "stdout",
     "output_type": "stream",
     "text": [
      "powerline_pts_coord[1496068]=array([ 47491660, 621119093,      4222])\n",
      "processed_point_data[2502082]=array([ 47491662, 621119895,      4391], dtype=int32)\n",
      "(array([2587596]),)\n",
      "[2587596]\n",
      "[[ 47491660 621119093      4222]]\n"
     ]
    }
   ],
   "source": [
    "print(f\"{powerline_pts_coord[1496068]=}\")\n",
    "print(f\"{processed_point_data[2502082]=}\")\n",
    "idx = np.where(np.all(processed_point_data == powerline_pts_coord[1496068], axis=-1))\n",
    "print(idx)\n",
    "\n",
    "print(idx[0])\n",
    "print(processed_point_data[idx[0]])\n"
   ]
  },
  {
   "cell_type": "code",
   "execution_count": null,
   "id": "8b804b01",
   "metadata": {},
   "outputs": [
    {
     "data": {
      "application/vnd.jupyter.widget-view+json": {
       "model_id": "5a6d6456591a4b668172962c24d53d0b",
       "version_major": 2,
       "version_minor": 0
      },
      "text/plain": [
       "  0%|          | 0/3977108 [00:00<?, ?it/s]"
      ]
     },
     "metadata": {},
     "output_type": "display_data"
    },
    {
     "ename": "KeyboardInterrupt",
     "evalue": "",
     "output_type": "error",
     "traceback": [
      "\u001b[0;31m---------------------------------------------------------------------------\u001b[0m",
      "\u001b[0;31mKeyboardInterrupt\u001b[0m                         Traceback (most recent call last)",
      "Cell \u001b[0;32mIn[37], line 1\u001b[0m\n\u001b[0;32m----> 1\u001b[0m ababs \u001b[39m=\u001b[39m [np\u001b[39m.\u001b[39mwhere(np\u001b[39m.\u001b[39mall(processed_point_data \u001b[39m==\u001b[39m coords, axis\u001b[39m=\u001b[39m\u001b[39m-\u001b[39m\u001b[39m1\u001b[39m))[\u001b[39m0\u001b[39m] \u001b[39mfor\u001b[39;00m coords \u001b[39min\u001b[39;00m tqdm(powerline_pts_coord)]\n",
      "Cell \u001b[0;32mIn[37], line 1\u001b[0m, in \u001b[0;36m<listcomp>\u001b[0;34m(.0)\u001b[0m\n\u001b[0;32m----> 1\u001b[0m ababs \u001b[39m=\u001b[39m [np\u001b[39m.\u001b[39mwhere(np\u001b[39m.\u001b[39mall(processed_point_data \u001b[39m==\u001b[39;49m coords, axis\u001b[39m=\u001b[39m\u001b[39m-\u001b[39m\u001b[39m1\u001b[39m))[\u001b[39m0\u001b[39m] \u001b[39mfor\u001b[39;00m coords \u001b[39min\u001b[39;00m tqdm(powerline_pts_coord)]\n",
      "\u001b[0;31mKeyboardInterrupt\u001b[0m: "
     ]
    }
   ],
   "source": [
    "ababs = [np.where(np.all(processed_point_data == coords, axis=-1))[0] for coords in tqdm(powerline_pts_coord)]"
   ]
  },
  {
   "cell_type": "code",
   "execution_count": null,
   "id": "a0dc3576",
   "metadata": {},
   "outputs": [
    {
     "name": "stdout",
     "output_type": "stream",
     "text": [
      "(4, 3)\n",
      "(2, 3)\n"
     ]
    }
   ],
   "source": [
    "test_ = np.array([[1,1,1],[4,2,3],[2,2,2],[1,2,3]])\n",
    "print(test_.shape)\n",
    "h = np.array([[1,1,1],[2,2,2]])\n",
    "print(h.shape)\n"
   ]
  },
  {
   "cell_type": "code",
   "execution_count": null,
   "id": "701ca886",
   "metadata": {},
   "outputs": [
    {
     "ename": "NameError",
     "evalue": "name 'test_' is not defined",
     "output_type": "error",
     "traceback": [
      "\u001b[0;31m---------------------------------------------------------------------------\u001b[0m",
      "\u001b[0;31mNameError\u001b[0m                                 Traceback (most recent call last)",
      "Cell \u001b[0;32mIn[143], line 1\u001b[0m\n\u001b[0;32m----> 1\u001b[0m idx \u001b[39m=\u001b[39m np\u001b[39m.\u001b[39mwhere(np\u001b[39m.\u001b[39mall(test_ \u001b[39m==\u001b[39m h[:,\u001b[39mNone\u001b[39;00m,:], axis\u001b[39m=\u001b[39m\u001b[39m1\u001b[39m))[\u001b[39m1\u001b[39m]\n\u001b[1;32m      2\u001b[0m \u001b[39mprint\u001b[39m(idx)\n",
      "\u001b[0;31mNameError\u001b[0m: name 'test_' is not defined"
     ]
    }
   ],
   "source": [
    "idx = np.where(np.all(test_ == h[:,None,:], axis=1))[1]\n",
    "print(idx)"
   ]
  },
  {
   "cell_type": "code",
   "execution_count": null,
   "id": "2585f77e",
   "metadata": {},
   "outputs": [],
   "source": [
    "idx = np.where(np.all(test_ == h[:,None,:], axis=-1))[1]\n",
    "print(idx)"
   ]
  },
  {
   "cell_type": "markdown",
   "id": "de9e487b",
   "metadata": {},
   "source": [
    "### check the individual pt\n"
   ]
  },
  {
   "cell_type": "code",
   "execution_count": null,
   "id": "5c95df9c",
   "metadata": {
    "pycharm": {
     "name": "#%%\n"
    }
   },
   "outputs": [],
   "source": [
    "onesample = test_fold + \"PUNKTSKY_00005_1km_6211_474_cloud_56.pt\"\n",
    "#onesample = \"/home/dmn774/data/Deep1/SegmentationDenmark/Lidar_tiles_KU/Powerlines/test_some/denmark/processed/test_0_(0.05, 0.05)/PUNKTSKY_00005_1km_6090_507_cloud_335.pt\"\n",
    "pt_data = torch.load(onesample)\n",
    "pt_data['points'].shape, pt_data['points']\n",
    "data_s = transform_test(Batch(pos=torch.from_numpy(pos_).float(), batch=torch.zeros(pos_.shape[0]).long()))\n",
    "# data_s = transform_test(Batch(pos=torch.from_numpy(pos_).float(), batch=torch.zeros(1).long()))\n",
    "data_s.y = torch.zeros(data_s.batch.shape).long()\n"
   ]
  },
  {
   "cell_type": "code",
   "execution_count": null,
   "id": "c09acb17",
   "metadata": {
    "pycharm": {
     "name": "#%%\n"
    }
   },
   "outputs": [],
   "source": [
    "### check the individual pt\n",
    "\n",
    "# pos_ = pt_data['points']\n",
    "# data_s = transform_test(Batch(pos=torch.from_numpy(pos_).float(), batch=torch.zeros(pos_.shape[0]).long()))\n",
    "# # data_s = transform_test(Batch(pos=torch.from_numpy(pos_).float(), batch=torch.zeros(1).long()))\n",
    "# data_s.y = torch.zeros(data_s.batch.shape).long()\n",
    "# f = get_nearest(pos_, data_s.pos)\n",
    "# f.shape, f\n",
    "# f.max(), data_s.pos.shape\n",
    "\n",
    "# with torch.no_grad():\n",
    "#     model_pl.set_input(data_s, \"cuda\")\n",
    "#     model_pl.forward(data_s)\n",
    "\n",
    "# pre = model_pl.output.cpu().numpy()\n",
    "# pre.shape"
   ]
  },
  {
   "cell_type": "code",
   "execution_count": null,
   "id": "795106d0",
   "metadata": {
    "pycharm": {
     "name": "#%%\n"
    }
   },
   "outputs": [],
   "source": [
    "## change the model config path\n",
    "# model_path = \"./outputs/2022-02-16/11-00-40/PointNet_old.pt\"\n",
    "# model = torch.load(model_path)\n",
    "# model['run_config']['data']['dataroot'] = '/home/dmn774/data/Deep1/SegmentationDenmark/Lidar_tiles_KU_one/'\n",
    "# torch.save(model, \"./outputs/2022-02-16/11-00-40/PointNet_modified.pt\")"
   ]
  },
  {
   "cell_type": "code",
   "execution_count": null,
   "id": "5989cfd2",
   "metadata": {
    "pycharm": {
     "name": "#%%\n"
    }
   },
   "outputs": [],
   "source": [
    "processed_split_folder = \"/home/dmn774/data/Deep1/SegmentationDenmark/Lidar_tiles_KU_for_exp_allClasses/denmark/processed/\"\n",
    "processed_split_folder = \"/home/dmn774/data/Deep1/SegmentationDenmark/Lidar_tiles_KU_one/denmark/processed/\"\n",
    "\n",
    "processed_split_folder = \"/home/dmn774/data/Deep1/SegmentationDenmark/Lidar_tiles_KU/Powerlines/test_some/denmark/processed\"\n",
    "\n",
    "test_fold = processed_split_folder + \"test_0_(0.05, 0.05)/\"\n",
    "processed_file_names = list(Path(test_fold).glob(\"*cloud_*.pt\"))\n",
    "len(processed_file_names)\n"
   ]
  }
 ],
 "metadata": {
  "kernelspec": {
   "display_name": "Python 3 (ipykernel)",
   "language": "python",
   "name": "python3"
  },
  "language_info": {
   "codemirror_mode": {
    "name": "ipython",
    "version": 3
   },
   "file_extension": ".py",
   "mimetype": "text/x-python",
   "name": "python",
   "nbconvert_exporter": "python",
   "pygments_lexer": "ipython3",
   "version": "3.8.16"
  },
  "vscode": {
   "interpreter": {
    "hash": "2bfe5fc19ee440272b50e27189dca9d766ee16bd940e6c96fe401988e2293299"
   }
  }
 },
 "nbformat": 4,
 "nbformat_minor": 5
}
