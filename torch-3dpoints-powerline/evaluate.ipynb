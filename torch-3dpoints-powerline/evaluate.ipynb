{
 "cells": [
  {
   "cell_type": "code",
   "execution_count": 1,
   "id": "b0b8a0dc",
   "metadata": {
    "pycharm": {
     "name": "#%%\n"
    }
   },
   "outputs": [],
   "source": [
    "## import the tools\n",
    "import torch\n",
    "import glob\n",
    "from pathlib import Path\n",
    "import os\n",
    "import numpy as np\n",
    "from sklearn.neighbors import NearestNeighbors as NN\n",
    "import glob\n",
    "import pandas as pd\n",
    "import ipdb\n",
    "import laspy"
   ]
  },
  {
   "cell_type": "code",
   "execution_count": 2,
   "id": "76970f59",
   "metadata": {
    "pycharm": {
     "name": "#%%\n"
    }
   },
   "outputs": [],
   "source": [
    "## import the model tools\n",
    "from torch_geometric.transforms import Compose\n",
    "from torch_points3d.core.data_transform import GridSampling3D, MinPoints, XYZFeature, AddFeatsByKeys\n",
    "from torch_points3d.applications.pretrained_api import PretainedRegistry\n",
    "from torch_geometric.data import Batch,Dataset, Data ,DataLoader"
   ]
  },
  {
   "cell_type": "code",
   "execution_count": null,
   "id": "b38aebf9",
   "metadata": {
    "scrolled": false
   },
   "outputs": [],
   "source": []
  },
  {
   "cell_type": "code",
   "execution_count": 3,
   "id": "1341bddf",
   "metadata": {
    "pycharm": {
     "name": "#%%\n"
    }
   },
   "outputs": [],
   "source": [
    "## Load Powerline Model and change config\n",
    "pl_models_path = \"SEUNet18.pt\"\n",
    "model = torch.load(pl_models_path)\n",
    "model['run_config']['data']['dataroot'] = '/home/frederik/data/'\n",
    "model['run_config']['data']['processed_folder'] = 'processed'\n",
    "torch.save(model, \"SEUNet18_modified.pt\")\n",
    "model_pl = PretainedRegistry.from_file(\"SEUNet18_modified\").cuda()\n",
    "\n",
    "## transformer\n",
    "pos_z = [ \"pos_z\" ]\n",
    "list_add_to_x = [ True ]\n",
    "delete_feats = [ True ]\n",
    "lparams = ['512']\n",
    "first_subsampling = model['run_config']['data']['first_subsampling']\n",
    "\n",
    "transform_test = Compose([MinPoints(512),\n",
    "                     XYZFeature(add_x=False, add_y=False, add_z= True),\n",
    "                     AddFeatsByKeys(list_add_to_x=list_add_to_x, feat_names= pos_z,delete_feats=delete_feats),\n",
    "                     GridSampling3D(mode='last', size=first_subsampling, quantize_coords=True)])"
   ]
  },
  {
   "cell_type": "code",
   "execution_count": 4,
   "id": "89faedf7",
   "metadata": {
    "pycharm": {
     "name": "#%%\n"
    }
   },
   "outputs": [],
   "source": [
    "## to find the neighbor points prediction\n",
    "from sklearn.neighbors import BallTree, KDTree\n",
    "import numpy as np\n",
    "def get_nearest(src_points, candidates, k_neighbors=1):\n",
    "    \"\"\"Find nearest neighbors for all source points from a set of candidate points\"\"\"\n",
    "    # src : whole gt points in a file \n",
    "    tree = KDTree(candidates, leaf_size=20, metric='euclidean')\n",
    "\n",
    "    # Find closest points and distances\n",
    "    distances, indices = tree.query(src_points, k=k_neighbors)\n",
    "\n",
    "    # Transpose to get distances and indices into arrays\n",
    "    distances = distances.transpose()\n",
    "    indices = indices.transpose()\n",
    "\n",
    "    # Get closest indices and distances (i.e. array at index 0)\n",
    "    closest = np.squeeze(indices)\n",
    "    closest_dist = distances\n",
    "    return closest"
   ]
  },
  {
   "cell_type": "code",
   "execution_count": 5,
   "id": "884b2ee5",
   "metadata": {
    "pycharm": {
     "name": "#%%\n"
    }
   },
   "outputs": [
    {
     "name": "stdout",
     "output_type": "stream",
     "text": [
      "Jupyter environment detected. Enabling Open3D WebVisualizer.\n",
      "[Open3D INFO] WebRTC GUI backend enabled.\n",
      "[Open3D INFO] WebRTCWindowSystem: HTTP handshake server disabled.\n",
      "loading processed train split\n",
      "Total of 135 samples in train set.\n",
      "loading processed val split\n",
      "Total of 59 samples in val set.\n",
      "loading processed test split\n",
      "Total of 154 samples in test set.\n"
     ]
    }
   ],
   "source": []
  },
  {
   "cell_type": "code",
   "execution_count": 6,
   "id": "e949399e",
   "metadata": {},
   "outputs": [],
   "source": [
    "#model_pl = PretainedRegistry.from_file(\"SEUNet18_modified\").cuda()\n",
    "#PretainedRegistry.from_pretrained(model_tag, download=True, out_file=None, weight_name=\"latest\", mock_dataset=True)"
   ]
  },
  {
   "cell_type": "code",
   "execution_count": null,
   "id": "3d35051b",
   "metadata": {
    "scrolled": false
   },
   "outputs": [],
   "source": []
  },
  {
   "cell_type": "markdown",
   "id": "f366fb27",
   "metadata": {
    "pycharm": {
     "name": "#%% md\n"
    }
   },
   "source": [
    "## Process with the normalize data"
   ]
  },
  {
   "cell_type": "code",
   "execution_count": 13,
   "id": "465bd2ea",
   "metadata": {
    "pycharm": {
     "name": "#%%\n"
    }
   },
   "outputs": [],
   "source": [
    "## load test pt with normalized\n",
    "\n",
    "## load transform pt pre\n",
    "# root_path = \"/home/dmn774/data/Deep1/SegmentationDenmark/Lidar_tiles_KU/Powerlines/denmark/processed/\"\n",
    "# root_path = \"/home/dmn774/data/Deep1/SegmentationDenmark/Lidar_tiles_KU/Powerlines/test_some/denmark/processed/\"\n",
    "\n",
    "process_file_name_path = test_fold + \"/processed_file_names.pt\"\n",
    "vis_out_folder = data_root_path + 'vis/'\n",
    "\n",
    "pre_transform = torch.load(pre_trans_path)\n",
    "process_file_name = torch.load(process_file_name_path)"
   ]
  },
  {
   "cell_type": "code",
   "execution_count": 14,
   "id": "89484585",
   "metadata": {},
   "outputs": [
    {
     "name": "stdout",
     "output_type": "stream",
     "text": [
      "{'room_names': ['PUNKTSKY_00005_1km_6162_472', 'PUNKTSKY_00005_1km_6161_465'], 'room_coord_min': [array([4.7200001e+05, 6.1620000e+06, 2.3660000e+01]), array([4.6500001e+05, 6.1610000e+06, 2.3660000e+01])], 'room_coord_max': [array([4.72999920e+05, 6.16299999e+06, 1.20160000e+02]), array([4.65999990e+05, 6.16199999e+06, 1.20160000e+02])], 'room_coord_scale': [array([99.991, 99.999, 96.5  ]), array([99.998, 99.999, 96.5  ])], 'global_z': (23.66, 120.16)}\n"
     ]
    }
   ],
   "source": [
    "print(pre_transform)"
   ]
  },
  {
   "cell_type": "code",
   "execution_count": 15,
   "id": "588f7976",
   "metadata": {},
   "outputs": [
    {
     "ename": "AttributeError",
     "evalue": "'int' object has no attribute 'unsqueeze'",
     "output_type": "error",
     "traceback": [
      "\u001b[0;31m---------------------------------------------------------------------------\u001b[0m",
      "\u001b[0;31mAttributeError\u001b[0m                            Traceback (most recent call last)",
      "\u001b[0;32m/tmp/ipykernel_3957/3482360045.py\u001b[0m in \u001b[0;36m<module>\u001b[0;34m\u001b[0m\n\u001b[1;32m     21\u001b[0m     \u001b[0mpos_\u001b[0m \u001b[0;34m=\u001b[0m \u001b[0mpt_data\u001b[0m\u001b[0;34m[\u001b[0m\u001b[0;34m'points'\u001b[0m\u001b[0;34m]\u001b[0m\u001b[0;34m\u001b[0m\u001b[0;34m\u001b[0m\u001b[0m\n\u001b[1;32m     22\u001b[0m     \u001b[0mpt_ori\u001b[0m \u001b[0;34m=\u001b[0m \u001b[0mpt_data\u001b[0m\u001b[0;34m[\u001b[0m\u001b[0;34m'points'\u001b[0m\u001b[0;34m]\u001b[0m \u001b[0;34m*\u001b[0m \u001b[0mroom_coord_scale\u001b[0m \u001b[0;34m+\u001b[0m \u001b[0mpt_data\u001b[0m\u001b[0;34m[\u001b[0m\u001b[0;34m'coord_min'\u001b[0m\u001b[0;34m]\u001b[0m\u001b[0;34m\u001b[0m\u001b[0;34m\u001b[0m\u001b[0m\n\u001b[0;32m---> 23\u001b[0;31m     \u001b[0mdata_s\u001b[0m \u001b[0;34m=\u001b[0m \u001b[0mtransform_test\u001b[0m\u001b[0;34m(\u001b[0m\u001b[0mBatch\u001b[0m\u001b[0;34m(\u001b[0m\u001b[0mpos\u001b[0m\u001b[0;34m=\u001b[0m\u001b[0mtorch\u001b[0m\u001b[0;34m.\u001b[0m\u001b[0mfrom_numpy\u001b[0m\u001b[0;34m(\u001b[0m\u001b[0mpos_\u001b[0m\u001b[0;34m)\u001b[0m\u001b[0;34m.\u001b[0m\u001b[0mfloat\u001b[0m\u001b[0;34m(\u001b[0m\u001b[0;34m)\u001b[0m\u001b[0;34m,\u001b[0m \u001b[0mbatch\u001b[0m\u001b[0;34m=\u001b[0m\u001b[0mtorch\u001b[0m\u001b[0;34m.\u001b[0m\u001b[0mzeros\u001b[0m\u001b[0;34m(\u001b[0m\u001b[0mpos_\u001b[0m\u001b[0;34m.\u001b[0m\u001b[0mshape\u001b[0m\u001b[0;34m[\u001b[0m\u001b[0;36m0\u001b[0m\u001b[0;34m]\u001b[0m\u001b[0;34m)\u001b[0m\u001b[0;34m.\u001b[0m\u001b[0mlong\u001b[0m\u001b[0;34m(\u001b[0m\u001b[0;34m)\u001b[0m\u001b[0;34m)\u001b[0m\u001b[0;34m)\u001b[0m\u001b[0;34m\u001b[0m\u001b[0;34m\u001b[0m\u001b[0m\n\u001b[0m\u001b[1;32m     24\u001b[0m     \u001b[0;31m# data_s = transform_test(Batch(pos=torch.from_numpy(pos_).float(), batch=torch.zeros(1).long()))\u001b[0m\u001b[0;34m\u001b[0m\u001b[0;34m\u001b[0m\u001b[0;34m\u001b[0m\u001b[0m\n\u001b[1;32m     25\u001b[0m     \u001b[0mdata_s\u001b[0m\u001b[0;34m.\u001b[0m\u001b[0my\u001b[0m \u001b[0;34m=\u001b[0m \u001b[0mtorch\u001b[0m\u001b[0;34m.\u001b[0m\u001b[0mzeros\u001b[0m\u001b[0;34m(\u001b[0m\u001b[0mdata_s\u001b[0m\u001b[0;34m.\u001b[0m\u001b[0mbatch\u001b[0m\u001b[0;34m.\u001b[0m\u001b[0mshape\u001b[0m\u001b[0;34m)\u001b[0m\u001b[0;34m.\u001b[0m\u001b[0mlong\u001b[0m\u001b[0;34m(\u001b[0m\u001b[0;34m)\u001b[0m\u001b[0;34m\u001b[0m\u001b[0;34m\u001b[0m\u001b[0m\n",
      "\u001b[0;32m~/anaconda3/envs/py38/lib/python3.8/site-packages/torch_geometric/transforms/compose.py\u001b[0m in \u001b[0;36m__call__\u001b[0;34m(self, data)\u001b[0m\n\u001b[1;32m     22\u001b[0m                 \u001b[0mdata\u001b[0m \u001b[0;34m=\u001b[0m \u001b[0;34m[\u001b[0m\u001b[0mtransform\u001b[0m\u001b[0;34m(\u001b[0m\u001b[0md\u001b[0m\u001b[0;34m)\u001b[0m \u001b[0;32mfor\u001b[0m \u001b[0md\u001b[0m \u001b[0;32min\u001b[0m \u001b[0mdata\u001b[0m\u001b[0;34m]\u001b[0m\u001b[0;34m\u001b[0m\u001b[0;34m\u001b[0m\u001b[0m\n\u001b[1;32m     23\u001b[0m             \u001b[0;32melse\u001b[0m\u001b[0;34m:\u001b[0m\u001b[0;34m\u001b[0m\u001b[0;34m\u001b[0m\u001b[0m\n\u001b[0;32m---> 24\u001b[0;31m                 \u001b[0mdata\u001b[0m \u001b[0;34m=\u001b[0m \u001b[0mtransform\u001b[0m\u001b[0;34m(\u001b[0m\u001b[0mdata\u001b[0m\u001b[0;34m)\u001b[0m\u001b[0;34m\u001b[0m\u001b[0;34m\u001b[0m\u001b[0m\n\u001b[0m\u001b[1;32m     25\u001b[0m         \u001b[0;32mreturn\u001b[0m \u001b[0mdata\u001b[0m\u001b[0;34m\u001b[0m\u001b[0;34m\u001b[0m\u001b[0m\n\u001b[1;32m     26\u001b[0m \u001b[0;34m\u001b[0m\u001b[0m\n",
      "\u001b[0;32m~/master-thesis/torch-3dpoints-powerline/torch_points3d/core/data_transform/grid_transform.py\u001b[0m in \u001b[0;36m__call__\u001b[0;34m(self, data)\u001b[0m\n\u001b[1;32m    133\u001b[0m             \u001b[0mdata\u001b[0m \u001b[0;34m=\u001b[0m \u001b[0;34m[\u001b[0m\u001b[0mself\u001b[0m\u001b[0;34m.\u001b[0m\u001b[0m_process\u001b[0m\u001b[0;34m(\u001b[0m\u001b[0md\u001b[0m\u001b[0;34m)\u001b[0m \u001b[0;32mfor\u001b[0m \u001b[0md\u001b[0m \u001b[0;32min\u001b[0m \u001b[0mdata\u001b[0m\u001b[0;34m]\u001b[0m\u001b[0;34m\u001b[0m\u001b[0;34m\u001b[0m\u001b[0m\n\u001b[1;32m    134\u001b[0m         \u001b[0;32melse\u001b[0m\u001b[0;34m:\u001b[0m\u001b[0;34m\u001b[0m\u001b[0;34m\u001b[0m\u001b[0m\n\u001b[0;32m--> 135\u001b[0;31m             \u001b[0mdata\u001b[0m \u001b[0;34m=\u001b[0m \u001b[0mself\u001b[0m\u001b[0;34m.\u001b[0m\u001b[0m_process\u001b[0m\u001b[0;34m(\u001b[0m\u001b[0mdata\u001b[0m\u001b[0;34m)\u001b[0m\u001b[0;34m\u001b[0m\u001b[0;34m\u001b[0m\u001b[0m\n\u001b[0m\u001b[1;32m    136\u001b[0m         \u001b[0;32mreturn\u001b[0m \u001b[0mdata\u001b[0m\u001b[0;34m\u001b[0m\u001b[0;34m\u001b[0m\u001b[0m\n\u001b[1;32m    137\u001b[0m \u001b[0;34m\u001b[0m\u001b[0m\n",
      "\u001b[0;32m~/master-thesis/torch-3dpoints-powerline/torch_points3d/core/data_transform/grid_transform.py\u001b[0m in \u001b[0;36m_process\u001b[0;34m(self, data)\u001b[0m\n\u001b[1;32m    119\u001b[0m             \u001b[0mcluster\u001b[0m \u001b[0;34m=\u001b[0m \u001b[0mgrid_cluster\u001b[0m\u001b[0;34m(\u001b[0m\u001b[0mcoords\u001b[0m\u001b[0;34m,\u001b[0m \u001b[0mtorch\u001b[0m\u001b[0;34m.\u001b[0m\u001b[0mtensor\u001b[0m\u001b[0;34m(\u001b[0m\u001b[0;34m[\u001b[0m\u001b[0;36m1\u001b[0m\u001b[0;34m,\u001b[0m \u001b[0;36m1\u001b[0m\u001b[0;34m,\u001b[0m \u001b[0;36m1\u001b[0m\u001b[0;34m]\u001b[0m\u001b[0;34m)\u001b[0m\u001b[0;34m)\u001b[0m\u001b[0;34m\u001b[0m\u001b[0;34m\u001b[0m\u001b[0m\n\u001b[1;32m    120\u001b[0m         \u001b[0;32melse\u001b[0m\u001b[0;34m:\u001b[0m\u001b[0;34m\u001b[0m\u001b[0;34m\u001b[0m\u001b[0m\n\u001b[0;32m--> 121\u001b[0;31m             \u001b[0mcluster\u001b[0m \u001b[0;34m=\u001b[0m \u001b[0mvoxel_grid\u001b[0m\u001b[0;34m(\u001b[0m\u001b[0mcoords\u001b[0m\u001b[0;34m,\u001b[0m \u001b[0mdata\u001b[0m\u001b[0;34m.\u001b[0m\u001b[0mbatch\u001b[0m\u001b[0;34m,\u001b[0m \u001b[0;36m1\u001b[0m\u001b[0;34m)\u001b[0m\u001b[0;34m\u001b[0m\u001b[0;34m\u001b[0m\u001b[0m\n\u001b[0m\u001b[1;32m    122\u001b[0m         \u001b[0mcluster\u001b[0m\u001b[0;34m,\u001b[0m \u001b[0munique_pos_indices\u001b[0m \u001b[0;34m=\u001b[0m \u001b[0mconsecutive_cluster\u001b[0m\u001b[0;34m(\u001b[0m\u001b[0mcluster\u001b[0m\u001b[0;34m)\u001b[0m\u001b[0;34m\u001b[0m\u001b[0;34m\u001b[0m\u001b[0m\n\u001b[1;32m    123\u001b[0m \u001b[0;34m\u001b[0m\u001b[0m\n",
      "\u001b[0;32m~/anaconda3/envs/py38/lib/python3.8/site-packages/torch_geometric/nn/pool/voxel_grid.py\u001b[0m in \u001b[0;36mvoxel_grid\u001b[0;34m(pos, size, batch, start, end)\u001b[0m\n\u001b[1;32m     56\u001b[0m         \u001b[0mbatch\u001b[0m \u001b[0;34m=\u001b[0m \u001b[0mtorch\u001b[0m\u001b[0;34m.\u001b[0m\u001b[0mzeros\u001b[0m\u001b[0;34m(\u001b[0m\u001b[0mpos\u001b[0m\u001b[0;34m.\u001b[0m\u001b[0mshape\u001b[0m\u001b[0;34m[\u001b[0m\u001b[0;36m0\u001b[0m\u001b[0;34m]\u001b[0m\u001b[0;34m,\u001b[0m \u001b[0mdtype\u001b[0m\u001b[0;34m=\u001b[0m\u001b[0mtorch\u001b[0m\u001b[0;34m.\u001b[0m\u001b[0mlong\u001b[0m\u001b[0;34m)\u001b[0m\u001b[0;34m\u001b[0m\u001b[0;34m\u001b[0m\u001b[0m\n\u001b[1;32m     57\u001b[0m \u001b[0;34m\u001b[0m\u001b[0m\n\u001b[0;32m---> 58\u001b[0;31m     \u001b[0mpos\u001b[0m \u001b[0;34m=\u001b[0m \u001b[0mtorch\u001b[0m\u001b[0;34m.\u001b[0m\u001b[0mcat\u001b[0m\u001b[0;34m(\u001b[0m\u001b[0;34m[\u001b[0m\u001b[0mpos\u001b[0m\u001b[0;34m,\u001b[0m \u001b[0mbatch\u001b[0m\u001b[0;34m.\u001b[0m\u001b[0munsqueeze\u001b[0m\u001b[0;34m(\u001b[0m\u001b[0;34m-\u001b[0m\u001b[0;36m1\u001b[0m\u001b[0;34m)\u001b[0m\u001b[0;34m.\u001b[0m\u001b[0mtype_as\u001b[0m\u001b[0;34m(\u001b[0m\u001b[0mpos\u001b[0m\u001b[0;34m)\u001b[0m\u001b[0;34m]\u001b[0m\u001b[0;34m,\u001b[0m \u001b[0mdim\u001b[0m\u001b[0;34m=\u001b[0m\u001b[0;34m-\u001b[0m\u001b[0;36m1\u001b[0m\u001b[0;34m)\u001b[0m\u001b[0;34m\u001b[0m\u001b[0;34m\u001b[0m\u001b[0m\n\u001b[0m\u001b[1;32m     59\u001b[0m     \u001b[0msize\u001b[0m \u001b[0;34m=\u001b[0m \u001b[0msize\u001b[0m \u001b[0;34m+\u001b[0m \u001b[0;34m[\u001b[0m\u001b[0;36m1\u001b[0m\u001b[0;34m]\u001b[0m\u001b[0;34m\u001b[0m\u001b[0;34m\u001b[0m\u001b[0m\n\u001b[1;32m     60\u001b[0m     \u001b[0mstart\u001b[0m \u001b[0;34m=\u001b[0m \u001b[0;32mNone\u001b[0m \u001b[0;32mif\u001b[0m \u001b[0mstart\u001b[0m \u001b[0;32mis\u001b[0m \u001b[0;32mNone\u001b[0m \u001b[0;32melse\u001b[0m \u001b[0mstart\u001b[0m \u001b[0;34m+\u001b[0m \u001b[0;34m[\u001b[0m\u001b[0;36m0\u001b[0m\u001b[0;34m]\u001b[0m\u001b[0;34m\u001b[0m\u001b[0;34m\u001b[0m\u001b[0m\n",
      "\u001b[0;31mAttributeError\u001b[0m: 'int' object has no attribute 'unsqueeze'"
     ]
    }
   ],
   "source": [
    "## loop for every files\n",
    "## delete files\n",
    "count = 0\n",
    "global_z = pre_transform['global_z']\n",
    "# for i in range(count_list):\n",
    "room_names = pre_transform['room_names']\n",
    "room_coord_mins = pre_transform['room_coord_min']\n",
    "room_coord_maxs = pre_transform['room_coord_max']\n",
    "room_coord_scales = pre_transform['room_coord_scale']\n",
    "count = 0\n",
    "for file in glob.glob(test_fold + \"*_cloud*pt\"):\n",
    "#     print(file)\n",
    "    sample = os.path.join(test_fold, file)\n",
    "    pt_data = torch.load(sample)\n",
    "    room_index = pt_data['room_idx']\n",
    "    room_name = room_names[room_index]\n",
    "    vis_out = os.path.join(vis_out_folder, room_name)\n",
    "#     ipdb.set_trace()\n",
    "\n",
    "    room_coord_scale = room_coord_scales[room_index]\n",
    "    pos_ = pt_data['points']\n",
    "    pt_ori = pt_data['points'] * room_coord_scale + pt_data['coord_min']\n",
    "    \n",
    "    data_s = transform_test(Batch(pos=torch.from_numpy(pos_).float(), batch=torch.zeros(pos_.shape[0]).long()))\n",
    "    # data_s = transform_test(Batch(pos=torch.from_numpy(pos_).float(), batch=torch.zeros(1).long()))\n",
    "    data_s.y = torch.zeros(data_s.batch.shape).long()\n",
    "    f = get_nearest(pos_, data_s.pos)\n",
    "\n",
    "    with torch.no_grad():\n",
    "        model_pl.set_input(data_s, \"cuda\")\n",
    "        model_pl.forward(data_s)\n",
    "    \n",
    "    pre = model_pl.output.cpu().numpy()\n",
    "    m= torch.nn.functional.softmax(torch.tensor(pre), dim=1)\n",
    "    cla_pre = np.argmax(m, axis=1)\n",
    "    pre_ori = np.arange(len(pos_))\n",
    "    for i in pre_ori:\n",
    "#         print(i)\n",
    "        pre_ori[i] = cla_pre[f[i]]\n",
    "    combine_pre = np.column_stack((pt_ori, pre_ori.T))\n",
    "#     import ipdb;ipdb.set_trace()\n",
    "    vis_out = vis_out_folder + room_name +'pre.txt'\n",
    "    if os.path.exists(vis_out):\n",
    "        file_save = open(vis_out, 'a')\n",
    "    else:\n",
    "        file_save = open(vis_out, 'w')\n",
    "\n",
    "    file_save = open(vis_out_folder + room_name +'pre.txt', 'a')\n",
    "    np.savetxt(file_save, combine_pre, fmt = '%1.5f')\n",
    "#     file_save.write(\"\\n\")    \n",
    "#     break\n",
    "print(\"save finished\")"
   ]
  },
  {
   "cell_type": "markdown",
   "id": "a66e07e3",
   "metadata": {
    "pycharm": {
     "name": "#%% md\n"
    }
   },
   "source": [
    "### Simple vis"
   ]
  },
  {
   "cell_type": "code",
   "execution_count": null,
   "id": "fb2043fa",
   "metadata": {
    "pycharm": {
     "name": "#%%\n"
    }
   },
   "outputs": [],
   "source": [
    "## read path\n",
    "vis_out_folder\n",
    "pred_path = os.path.join(vis_out_folder, \"PUNKTSKY_00005_1km_6084_519pre.txt\")\n",
    "pred_data = pd.read_csv(pred_path, sep=\" \", header=None).values\n",
    "pred_data, pred_data.shape"
   ]
  },
  {
   "cell_type": "code",
   "execution_count": null,
   "id": "20040075",
   "metadata": {
    "pycharm": {
     "name": "#%%\n"
    }
   },
   "outputs": [],
   "source": [
    "idx = np.arange(len(pred_data))\n",
    "np.random.shuffle(idx)\n",
    "idx = idx[:30000]\n",
    "\n",
    "vmin = pred_data[idx, -1].min()\n",
    "vmax = pred_data[idx, -1].max()\n",
    "cm = plt.cm.get_cmap('RdYlBu')"
   ]
  },
  {
   "cell_type": "code",
   "execution_count": null,
   "id": "9b51cda8",
   "metadata": {
    "pycharm": {
     "name": "#%%\n"
    }
   },
   "outputs": [],
   "source": [
    "## vis\n",
    "import matplotlib.pyplot as plt\n",
    "%matplotlib notebook"
   ]
  },
  {
   "cell_type": "code",
   "execution_count": null,
   "id": "4c9dd340",
   "metadata": {
    "pycharm": {
     "name": "#%%\n"
    }
   },
   "outputs": [],
   "source": [
    "plt.figure()\n",
    "sc = plt.scatter(pred_data[idx, 0], pred_data[idx, 1], c =pred_data[idx, -1],\n",
    "                cmap=cm, vmin=vmin, vmax=vmax, s=5\n",
    "            )\n",
    "plt.colorbar(sc)"
   ]
  },
  {
   "cell_type": "markdown",
   "id": "de9e487b",
   "metadata": {},
   "source": [
    "### check the individual pt\n"
   ]
  },
  {
   "cell_type": "code",
   "execution_count": null,
   "id": "5c95df9c",
   "metadata": {
    "pycharm": {
     "name": "#%%\n"
    }
   },
   "outputs": [],
   "source": []
  },
  {
   "cell_type": "code",
   "execution_count": null,
   "id": "461bc87f",
   "metadata": {},
   "outputs": [],
   "source": []
  },
  {
   "cell_type": "code",
   "execution_count": 251,
   "id": "c09acb17",
   "metadata": {
    "pycharm": {
     "name": "#%%\n"
    }
   },
   "outputs": [],
   "source": [
    "### check the individual pt\n",
    "data_root_path = \"/home/frederik/data/denmark/processed/\"\n",
    "test_fold = data_root_path + \"test_0_(0.1, 0.1)/\"\n",
    "pre_trans_path = test_fold + \"/stats.pt\"\n",
    "pre_transform = torch.load(pre_trans_path)\n",
    "\n",
    "# Define global variables\n",
    "global_z = pre_transform['global_z']\n",
    "room_names = pre_transform['room_names']\n",
    "room_coord_mins = pre_transform['room_coord_min']\n",
    "room_coord_maxs = pre_transform['room_coord_max']\n",
    "room_coord_scales = pre_transform['room_coord_scale']\n",
    "\n",
    "# Load 1 Sample\n",
    "onesample = r\"/home/frederik/data/denmark/processed/test_0_(0.1, 0.1)/PUNKTSKY_00005_1km_6161_465_cloud_50.pt\"\n",
    "pt_data = torch.load(onesample)\n",
    "\n",
    "# Define Local Variables\n",
    "points = pt_data['points']\n",
    "room_index = pt_data['room_idx']\n",
    "room_coord_min = pt_data['coord_min']\n",
    "room_coord_scale = room_coord_scales[room_index]\n",
    "room_name = room_names[room_index]\n",
    "pt_ori = points * room_coord_scale + room_coord_min\n",
    "\n",
    "# Transform data corresponding to the \n",
    "data_s = transform_test(Batch(pos=torch.from_numpy(points).float()))\n",
    "data_s.batch = torch.zeros(len(data_s.pos))\n",
    "data_s.y = torch.zeros(data_s.pos.shape[0]).long()\n",
    "\n",
    "# Apply Model\n",
    "with torch.no_grad():\n",
    "    model_pl.set_input(data_s, \"cuda\")\n",
    "    model_pl.forward(data_s)\n",
    "\n",
    "# Use scores\n",
    "scores = model_pl.output.cpu().numpy()\n",
    "probabilities = torch.nn.functional.softmax(torch.tensor(scores), dim=1)\n",
    "predictions = np.argmax(probabilities, axis=1)\n",
    "\n",
    "# Map indexes from x,y,z to the voxelized data and their predictions\n",
    "indexes = get_nearest(points, data_s.pos)\n",
    "\n",
    "points_predictions = torch.tensor([predictions[index] for _, index in enumerate(indexes)])\n"
   ]
  },
  {
   "cell_type": "code",
   "execution_count": 7,
   "id": "c3b59db2",
   "metadata": {},
   "outputs": [],
   "source": [
    "# points = np.array([[5.00069739, 2.00061773, 0.50123249]])\n",
    "\n",
    "# data_s = transform_test(Batch(pos=torch.from_numpy(points).float()))\n",
    "# data_s.batch = torch.zeros(len(data_s.pos))\n",
    "# data_s.y = torch.zeros(data_s.pos.shape[0]).long()\n",
    "\n",
    "\n",
    "# # Apply Model\n",
    "# with torch.no_grad():\n",
    "#     model_pl.set_input(data_s, \"cuda\")\n",
    "#     model_pl.forward(data_s)\n",
    "\n",
    "#f = get_nearest(points, data_s.pos)\n",
    "\n",
    "\n",
    "\n",
    "#print(f)\n",
    "#print(type(f))\n",
    "#print((f.size))\n",
    "#print(len(f))"
   ]
  },
  {
   "cell_type": "code",
   "execution_count": 68,
   "id": "795106d0",
   "metadata": {
    "pycharm": {
     "name": "#%%\n"
    }
   },
   "outputs": [
    {
     "name": "stdout",
     "output_type": "stream",
     "text": [
      "4095\n"
     ]
    }
   ],
   "source": [
    "# Load 1 Sample\n",
    "\n",
    "model_pl.eval()\n",
    "points_list = []\n",
    "preds_list = []\n",
    "\n",
    "### check the individual pt\n",
    "data_root_path = \"/home/frederik/data/denmark/processed/\"\n",
    "test_fold = data_root_path + \"test_0_(0.1, 0.1)/\"\n",
    "pre_trans_path = test_fold + \"/stats.pt\"\n",
    "pre_transform = torch.load(pre_trans_path)\n",
    "\n",
    "# Define global variables\n",
    "global_z = pre_transform['global_z']\n",
    "room_names = pre_transform['room_names']\n",
    "room_coord_mins = pre_transform['room_coord_min']\n",
    "room_coord_maxs = pre_transform['room_coord_max']\n",
    "room_coord_scales = pre_transform['room_coord_scale']\n",
    "\n",
    "\n",
    "for i in range(79, 154):\n",
    "    onesample = r\"/home/frederik/data/denmark/processed/test_0_(0.1, 0.1)/\"+\"PUNKTSKY_00005_1km_6161_465_\"+str(i)+\"_cloud_\"+str(i)+\".pt\"\n",
    "    pt_data = torch.load(onesample)\n",
    "    \n",
    "    # Define Local Variables\n",
    "    points = pt_data['points']\n",
    "    room_index = pt_data['room_idx']\n",
    "    room_coord_min = pt_data['coord_min']\n",
    "    room_coord_max = pt_data['coord_max']\n",
    "    \n",
    "    room_coord_scale = room_coord_scales[room_index]\n",
    "    room_name = room_names[room_index]\n",
    "    \n",
    "    pt_ori = points * (room_coord_scale + room_coord_min)\n",
    "    \n",
    "    # Transform data corresponding to the \n",
    "    data_s = transform_test(Batch(pos=torch.from_numpy(points).float()))\n",
    "    data_s.batch = torch.zeros(len(data_s.pos))\n",
    "    data_s.y = torch.zeros(data_s.pos.shape[0]).long()\n",
    "    \n",
    "    # Apply Model\n",
    "    with torch.no_grad():\n",
    "        model_pl.set_input(data_s, \"cuda\")\n",
    "        model_pl.forward(data_s)\n",
    "\n",
    "    # Use scores\n",
    "    scores = model_pl.output.cpu().numpy()\n",
    "    probabilities = torch.nn.functional.softmax(torch.tensor(scores), dim=1)\n",
    "    predictions = np.argmax(probabilities, axis=1)\n",
    "    \n",
    "    # Map indexes from x,y,z to the voxelized data and their predictions\n",
    "    indexes = get_nearest(points, data_s.pos)\n",
    "    \n",
    "    points_predictions = [predictions[index].numpy() for _, index in enumerate(indexes)]\n",
    "    \n",
    "    preds_list.append(points_predictions)\n",
    "    points_list.append(pt_ori)\n",
    "    \n",
    "preds_list = np.array([item for sublist in preds_list for item in sublist])\n",
    "points_list = np.array([item for sublist in points_list for item in sublist])\n",
    "\n",
    "\n",
    "    "
   ]
  },
  {
   "cell_type": "code",
   "execution_count": null,
   "id": "5989cfd2",
   "metadata": {
    "pycharm": {
     "name": "#%%\n"
    }
   },
   "outputs": [],
   "source": [
    "indexes = get_nearest(points_list, points_data)"
   ]
  },
  {
   "cell_type": "code",
   "execution_count": 69,
   "id": "1de9604b",
   "metadata": {},
   "outputs": [
    {
     "data": {
      "text/plain": [
       "array([[  10278, 5341727,     -21],\n",
       "       [   9767, 5344807,     -19],\n",
       "       [   8930, 5340494,     -21],\n",
       "       [   7627, 5339878,     -21],\n",
       "       [   7162, 5342959,     -19],\n",
       "       [   6185, 5338646,     -21],\n",
       "       [   4930, 5337414,     -21],\n",
       "       [   3581, 5336182,     -21],\n",
       "       [   2186, 5334949,     -21],\n",
       "       [   1488, 5336798,     -20]])"
      ]
     },
     "execution_count": 69,
     "metadata": {},
     "output_type": "execute_result"
    }
   ],
   "source": [
    "points_list[:10].astype(int)"
   ]
  },
  {
   "cell_type": "code",
   "execution_count": 72,
   "id": "3a8e9c02",
   "metadata": {},
   "outputs": [
    {
     "name": "stdout",
     "output_type": "stream",
     "text": [
      "4095\n"
     ]
    },
    {
     "data": {
      "text/plain": [
       "array([[ 47204681, 616295176,      2529],\n",
       "       [ 47204653, 616295183,      2531],\n",
       "       [ 47204619, 616295192,      2529],\n",
       "       [ 47204591, 616295200,      2529],\n",
       "       [ 47204561, 616295208,      2529],\n",
       "       [ 47204528, 616295216,      2530],\n",
       "       [ 47204499, 616295224,      2535],\n",
       "       [ 47204465, 616295233,      2528],\n",
       "       [ 47204434, 616295241,      2532],\n",
       "       [ 47204404, 616295249,      2529]])"
      ]
     },
     "execution_count": 72,
     "metadata": {},
     "output_type": "execute_result"
    }
   ],
   "source": [
    "las = laspy.read(\"/home/frederik/data/denmark/raw/test/LazFilesWithHeightParam/PUNKTSKY_00005_1km_6162_472_hag_nn.laz\", laz_backend=laspy.compression.LazBackend.LazrsParallel)\n",
    "points_data = np.stack([las.X, las.Y, las.Z], axis=0).transpose((1, 0))\n",
    "points_data[:10].astype(int)"
   ]
  },
  {
   "cell_type": "code",
   "execution_count": null,
   "id": "bd4bb535",
   "metadata": {},
   "outputs": [],
   "source": []
  },
  {
   "cell_type": "code",
   "execution_count": 61,
   "id": "c006fb0e",
   "metadata": {},
   "outputs": [
    {
     "data": {
      "text/plain": [
       "(array([[ 9.08228165,  9.14299143, -0.11792746],\n",
       "        [ 9.0850817 ,  9.14309143, -0.12196891],\n",
       "        [ 9.08778176,  9.14279143, -0.1211399 ],\n",
       "        ...,\n",
       "        [ 9.71859437,  9.83229832, -0.08165803],\n",
       "        [ 9.72169443,  9.83449834, -0.11243523],\n",
       "        [ 9.7247945 ,  9.83669837, -0.14373057]]),\n",
       " tensor([[ 9.5332,  9.8011, -0.1501],\n",
       "         [ 9.5105,  9.8232, -0.1501],\n",
       "         [ 9.5416,  9.8213, -0.1502],\n",
       "         ...,\n",
       "         [ 9.6701,  9.2714,  0.0138],\n",
       "         [ 9.6379,  9.1803,  0.0309],\n",
       "         [ 9.6833,  9.1938,  0.0338]]))"
      ]
     },
     "execution_count": 61,
     "metadata": {},
     "output_type": "execute_result"
    }
   ],
   "source": [
    "points, data_s.pos"
   ]
  },
  {
   "cell_type": "code",
   "execution_count": null,
   "id": "3baa4b6c",
   "metadata": {},
   "outputs": [],
   "source": []
  },
  {
   "cell_type": "code",
   "execution_count": 34,
   "id": "ab3b18ea",
   "metadata": {},
   "outputs": [
    {
     "name": "stdout",
     "output_type": "stream",
     "text": [
      "4095\n"
     ]
    },
    {
     "data": {
      "text/plain": [
       "array([47230767, 47230733, 47230698, ..., 47261096, 47261067, 47261169],\n",
       "      dtype=int32)"
      ]
     },
     "execution_count": 34,
     "metadata": {},
     "output_type": "execute_result"
    }
   ],
   "source": [
    "new_las = laspy.read(\"/home/frederik/data/denmark/raw/test/NewLaz/PUNKTSKY_00005_1km_6162_472.laz\", laz_backend=laspy.compression.LazBackend.LazrsParallel)\n",
    "new_las.X"
   ]
  },
  {
   "cell_type": "code",
   "execution_count": null,
   "id": "a225225b",
   "metadata": {},
   "outputs": [],
   "source": []
  },
  {
   "cell_type": "code",
   "execution_count": null,
   "id": "01ce3de3",
   "metadata": {},
   "outputs": [],
   "source": []
  },
  {
   "cell_type": "code",
   "execution_count": null,
   "id": "54353f7f",
   "metadata": {},
   "outputs": [],
   "source": []
  }
 ],
 "metadata": {
  "kernelspec": {
   "display_name": "Python 3 (ipykernel)",
   "language": "python",
   "name": "python3"
  },
  "language_info": {
   "codemirror_mode": {
    "name": "ipython",
    "version": 3
   },
   "file_extension": ".py",
   "mimetype": "text/x-python",
   "name": "python",
   "nbconvert_exporter": "python",
   "pygments_lexer": "ipython3",
   "version": "3.8.16"
  },
  "vscode": {
   "interpreter": {
    "hash": "916dbcbb3f70747c44a77c7bcd40155683ae19c65e1c03b4aa3499c5328201f1"
   }
  }
 },
 "nbformat": 4,
 "nbformat_minor": 5
}
