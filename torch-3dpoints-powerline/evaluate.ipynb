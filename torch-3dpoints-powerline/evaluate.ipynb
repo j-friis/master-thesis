{
 "cells": [
  {
   "cell_type": "code",
   "execution_count": 6,
   "id": "b0b8a0dc",
   "metadata": {
    "pycharm": {
     "name": "#%%\n"
    }
   },
   "outputs": [],
   "source": [
    "## import the tools\n",
    "import torch\n",
    "import glob\n",
    "from pathlib import Path\n",
    "import os\n",
    "import numpy as np\n",
    "from sklearn.neighbors import NearestNeighbors as NN\n",
    "import glob\n",
    "import pandas as pd\n",
    "import ipdb\n",
    "import laspy\n",
    "import open3d as o3d"
   ]
  },
  {
   "cell_type": "code",
   "execution_count": 7,
   "id": "76970f59",
   "metadata": {
    "pycharm": {
     "name": "#%%\n"
    }
   },
   "outputs": [],
   "source": [
    "## import the model tools\n",
    "from torch_geometric.transforms import Compose\n",
    "from torch_points3d.core.data_transform import GridSampling3D, MinPoints, XYZFeature, AddFeatsByKeys\n",
    "from torch_points3d.applications.pretrained_api import PretainedRegistry\n",
    "from torch_geometric.data import Batch,Dataset, Data ,DataLoader"
   ]
  },
  {
   "cell_type": "code",
   "execution_count": null,
   "id": "b38aebf9",
   "metadata": {
    "scrolled": true
   },
   "outputs": [],
   "source": [
    "from sklearn.neighbors import BallTree, KDTree\n",
    "import numpy as np"
   ]
  },
  {
   "cell_type": "code",
   "execution_count": 8,
   "id": "1341bddf",
   "metadata": {
    "pycharm": {
     "name": "#%%\n"
    }
   },
   "outputs": [],
   "source": [
    "model_folder = \"2023-04-10/11-10-04/\"\n",
    "root_path = \"/home/frederik/Desktop/torch-3dpoints-powerline/\"\n",
    "pl_models_path = root_path+ \"outputs/\" + model_folder + \"SEUNet18.pt\" \n",
    "model = torch.load(pl_models_path)\n",
    "model['run_config']['data']['dataroot'] = '/home/frederik/data'\n",
    "torch.save(model, root_path+ \"outputs/\" + model_folder + \"SEUNet18.pt\")\n",
    "#print(model['run_config'][\"data\"][\"train_transform\"])\n",
    "\n",
    "## transformer\n",
    "pos_z = [ \"pos_z\" ]\n",
    "list_add_to_x = [ True ]\n",
    "delete_feats = [ True ]\n",
    "lparams = ['512']\n",
    "first_subsampling = model['run_config']['data']['first_subsampling']\n",
    "\n",
    "transform_test = Compose([MinPoints(512),\n",
    "                     XYZFeature(add_x=False, add_y=False, add_z= True),\n",
    "                     AddFeatsByKeys(list_add_to_x=list_add_to_x, feat_names= pos_z,delete_feats=delete_feats),\n",
    "                     GridSampling3D(mode='last', size=first_subsampling, quantize_coords=True)])"
   ]
  },
  {
   "cell_type": "code",
   "execution_count": 9,
   "id": "08c07abe",
   "metadata": {},
   "outputs": [
    {
     "name": "stdout",
     "output_type": "stream",
     "text": [
      "loading processed train split\n",
      "Total of 383 samples in train set.\n",
      "loading processed val split\n",
      "Total of 154 samples in val set.\n",
      "loading processed test split\n",
      "Total of 464 samples in test set.\n"
     ]
    }
   ],
   "source": [
    "model_pl = PretainedRegistry.from_file(pl_models_path).cuda()"
   ]
  },
  {
   "cell_type": "code",
   "execution_count": 10,
   "id": "89faedf7",
   "metadata": {
    "pycharm": {
     "name": "#%%\n"
    }
   },
   "outputs": [],
   "source": [
    "## to find the neighbor points prediction\n",
    "\n",
    "def get_nearest(src_points, candidates, k_neighbors=1):\n",
    "    \"\"\"Find nearest neighbors for all source points from a set of candidate points\"\"\"\n",
    "    # src : whole gt points in a file \n",
    "    tree = KDTree(candidates, leaf_size=20, metric='euclidean')\n",
    "\n",
    "    # Find closest points and distances\n",
    "    distances, indices = tree.query(src_points, k=k_neighbors)\n",
    "\n",
    "    # Transpose to get distances and indices into arrays\n",
    "    distances = distances.transpose()\n",
    "    indices = indices.transpose()\n",
    "\n",
    "    # Get closest indices and distances (i.e. array at index 0)\n",
    "    closest = np.squeeze(indices)\n",
    "    closest_dist = distances\n",
    "    return closest"
   ]
  },
  {
   "cell_type": "code",
   "execution_count": null,
   "id": "ceee26ef",
   "metadata": {
    "pycharm": {
     "name": "#%%\n"
    }
   },
   "outputs": [],
   "source": []
  },
  {
   "cell_type": "code",
   "execution_count": 11,
   "id": "884b2ee5",
   "metadata": {
    "pycharm": {
     "name": "#%%\n"
    }
   },
   "outputs": [
    {
     "name": "stdout",
     "output_type": "stream",
     "text": [
      "pre_transform={'room_names': ['PUNKTSKY_00005_1km_6162_472', 'PUNKTSKY_00005_1km_6161_465'], 'room_coord_min': [array([4.7200001e+07, 6.1620000e+08, 2.3660000e+03]), array([4.6500001e+07, 6.1610000e+08, 2.3660000e+03])], 'room_coord_max': [array([4.72999920e+07, 6.16299999e+08, 1.20160000e+04]), array([4.65999990e+07, 6.16199999e+08, 1.20160000e+04])], 'room_coord_scale': [array([4999.55, 4999.95, 9650.  ]), array([4999.9 , 4999.95, 9650.  ])], 'global_z': (2366.0, 12016.0)}\n",
      "\n",
      "4095\n",
      "Predicted Powerline Points:  66351\n",
      "Powerline Accuracy:  0.9815091492729398\n",
      "4095\n",
      "Predicted Powerline Points:  4684\n",
      "Powerline Accuracy:  0.6328874476422105\n"
     ]
    }
   ],
   "source": [
    "## load test pt with normalized\n",
    "processed_folder_name = model['run_config']['data'][\"processed_folder\"]\n",
    "data_root_path = \"/home/frederik/data/denmark\"\n",
    "processed_data_root_path = os.path.join(data_root_path, processed_folder_name)#\"/home/jf/msc_data/denmark/processed_hough\"\n",
    "test_fold = processed_data_root_path + \"/test_0_(0.05, 0.05)/\"\n",
    "pre_trans_path = test_fold + \"/stats.pt\"\n",
    "pre_transform = torch.load(pre_trans_path)\n",
    "\n",
    "print(f\"{pre_transform=}\\n\")\n",
    "\n",
    "\n",
    "# Define global variables\n",
    "global_z = pre_transform['global_z']\n",
    "room_names = pre_transform['room_names']\n",
    "room_coord_mins = pre_transform['room_coord_min']\n",
    "room_coord_maxs = pre_transform['room_coord_max']\n",
    "room_coord_scales = pre_transform['room_coord_scale']\n",
    "\n",
    "\n",
    "for file in room_names:\n",
    "    \n",
    "    points_list = []\n",
    "    preds_list = []\n",
    "    pt_files = glob.glob(test_fold + file + \"_cloud*pt\")\n",
    "    for pt_file in pt_files:\n",
    "        \n",
    "        pt_data = torch.load(pt_file)\n",
    "                \n",
    "        # Define Local Variables\n",
    "        points = pt_data['points']\n",
    "        room_index = pt_data['room_idx']\n",
    "        room_coord_scale = room_coord_scales[room_index]\n",
    "        pt_ori = points * room_coord_scale + room_coord_mins[room_index]\n",
    "\n",
    "        # Transform data corresponding to the \n",
    "        data_s = transform_test(Batch(pos=torch.from_numpy(points).float()))\n",
    "        data_s.batch = torch.zeros(len(data_s.pos))\n",
    "        data_s.y = torch.zeros(data_s.pos.shape[0]).long()\n",
    "\n",
    "        # Apply Model\n",
    "        with torch.no_grad():\n",
    "            model_pl.eval()\n",
    "            model_pl.set_input(data_s, \"cuda\")\n",
    "            model_pl.forward(data_s)\n",
    "\n",
    "        # Use scores\n",
    "        scores = model_pl.output.cpu().numpy()\n",
    "        probabilities = torch.nn.functional.softmax(torch.tensor(scores), dim=1)\n",
    "        predictions = np.argmax(probabilities, axis=1)\n",
    "\n",
    "        # Map indexes from x,y,z to the voxelized data and their predictions\n",
    "        indexes = get_nearest(points, data_s.pos)\n",
    "\n",
    "        points_predictions = [predictions[index].numpy() for _, index in enumerate(indexes)]\n",
    "\n",
    "        preds_list.append(points_predictions)\n",
    "        points_list.append(pt_ori)\n",
    "\n",
    "    preds_list = np.array([item for sublist in preds_list for item in sublist])\n",
    "    points_list = np.array([item for sublist in points_list for item in sublist])\n",
    "    \n",
    "    las = laspy.read(\"/home/frederik/data/denmark/raw/test/LazFilesWithHeightParam/\" +file +\"_hag_nn.laz\", laz_backend=laspy.compression.LazBackend.LazrsParallel)\n",
    "    points_data = np.stack([las.X, las.Y, las.Z], axis=0).transpose((1, 0))\n",
    "\n",
    "    las.add_extra_dim(laspy.ExtraBytesParams(\n",
    "        name=\"prediction\",\n",
    "        type=np.uint8,\n",
    "        description=\"The prediction of the model\"\n",
    "    ))\n",
    "    \n",
    "    indexes = get_nearest(points_list, points_data)\n",
    "    \n",
    "    \n",
    "    final_las_preds = np.zeros(len(las.prediction))\n",
    "    for i, index in enumerate(indexes):\n",
    "        if preds_list[i]:\n",
    "            final_las_preds[index] = preds_list[i]\n",
    "    las.prediction = final_las_preds\n",
    "    \n",
    "    powerline_las = las[las.prediction == 1]\n",
    "    powerline_points_data = np.stack([powerline_las.X, powerline_las.Y, powerline_las.Z], axis=0).transpose((1, 0))\n",
    "    \n",
    "    geom = o3d.geometry.PointCloud()\n",
    "    geom.points = o3d.utility.Vector3dVector(powerline_points_data)\n",
    "    o3d.visualization.draw_geometries([geom])\n",
    "    \n",
    "    succesfully_predicted_powerline_points = np.sum((las.classification == 14) & (las.prediction == 1))\n",
    "    percentage = succesfully_predicted_powerline_points/np.sum(las.classification == 14)\n",
    "\n",
    "    print(\"Predicted Powerline Points: \", succesfully_predicted_powerline_points)\n",
    "    print(\"Powerline Accuracy: \", percentage)"
   ]
  },
  {
   "cell_type": "code",
   "execution_count": null,
   "id": "e949399e",
   "metadata": {},
   "outputs": [],
   "source": []
  },
  {
   "cell_type": "code",
   "execution_count": null,
   "id": "3d35051b",
   "metadata": {
    "scrolled": false
   },
   "outputs": [],
   "source": []
  },
  {
   "cell_type": "code",
   "execution_count": null,
   "id": "e5acf44b",
   "metadata": {
    "pycharm": {
     "name": "#%% md\n"
    }
   },
   "outputs": [],
   "source": []
  },
  {
   "cell_type": "code",
   "execution_count": null,
   "id": "465bd2ea",
   "metadata": {
    "pycharm": {
     "name": "#%%\n"
    }
   },
   "outputs": [],
   "source": []
  },
  {
   "cell_type": "code",
   "execution_count": null,
   "id": "89484585",
   "metadata": {},
   "outputs": [],
   "source": []
  },
  {
   "cell_type": "code",
   "execution_count": null,
   "id": "588f7976",
   "metadata": {},
   "outputs": [],
   "source": []
  },
  {
   "cell_type": "code",
   "execution_count": null,
   "id": "36ba4989",
   "metadata": {
    "pycharm": {
     "name": "#%% md\n"
    }
   },
   "outputs": [],
   "source": []
  },
  {
   "cell_type": "code",
   "execution_count": null,
   "id": "fb2043fa",
   "metadata": {
    "pycharm": {
     "name": "#%%\n"
    }
   },
   "outputs": [],
   "source": []
  },
  {
   "cell_type": "code",
   "execution_count": null,
   "id": "20040075",
   "metadata": {
    "pycharm": {
     "name": "#%%\n"
    }
   },
   "outputs": [],
   "source": []
  },
  {
   "cell_type": "code",
   "execution_count": null,
   "id": "9b51cda8",
   "metadata": {
    "pycharm": {
     "name": "#%%\n"
    }
   },
   "outputs": [],
   "source": []
  },
  {
   "cell_type": "code",
   "execution_count": null,
   "id": "4c9dd340",
   "metadata": {
    "pycharm": {
     "name": "#%%\n"
    }
   },
   "outputs": [],
   "source": []
  },
  {
   "cell_type": "code",
   "execution_count": null,
   "id": "e1c6ee84",
   "metadata": {},
   "outputs": [],
   "source": []
  },
  {
   "cell_type": "code",
   "execution_count": null,
   "id": "5c95df9c",
   "metadata": {
    "pycharm": {
     "name": "#%%\n"
    }
   },
   "outputs": [],
   "source": []
  },
  {
   "cell_type": "code",
   "execution_count": null,
   "id": "461bc87f",
   "metadata": {},
   "outputs": [],
   "source": []
  },
  {
   "cell_type": "code",
   "execution_count": 21,
   "id": "c09acb17",
   "metadata": {
    "pycharm": {
     "name": "#%%\n"
    }
   },
   "outputs": [],
   "source": []
  },
  {
   "cell_type": "code",
   "execution_count": null,
   "id": "c3b59db2",
   "metadata": {},
   "outputs": [],
   "source": []
  },
  {
   "cell_type": "code",
   "execution_count": null,
   "id": "795106d0",
   "metadata": {
    "pycharm": {
     "name": "#%%\n"
    }
   },
   "outputs": [],
   "source": []
  },
  {
   "cell_type": "code",
   "execution_count": null,
   "id": "5989cfd2",
   "metadata": {
    "pycharm": {
     "name": "#%%\n"
    }
   },
   "outputs": [],
   "source": []
  },
  {
   "cell_type": "code",
   "execution_count": null,
   "id": "1de9604b",
   "metadata": {},
   "outputs": [],
   "source": []
  },
  {
   "cell_type": "code",
   "execution_count": 12,
   "id": "3a8e9c02",
   "metadata": {
    "scrolled": true
   },
   "outputs": [
    {
     "name": "stdout",
     "output_type": "stream",
     "text": [
      "46500001.0\n",
      "46599999.0\n",
      "616100000.0\n",
      "616199999.0\n",
      "170.0\n",
      "13080.999999999998\n"
     ]
    }
   ],
   "source": [
    "print(np.min(points_list[:,0]))\n",
    "print(np.max(points_list[:,0]))\n",
    "\n",
    "print(np.min(points_list[:,1]))\n",
    "print(np.max(points_list[:,1]))\n",
    "\n",
    "print(np.min(points_list[:,2]))\n",
    "print(np.max(points_list[:,2]))"
   ]
  },
  {
   "cell_type": "code",
   "execution_count": 13,
   "id": "dc78d33d",
   "metadata": {},
   "outputs": [
    {
     "name": "stdout",
     "output_type": "stream",
     "text": [
      "46500000\n",
      "46600000\n",
      "616100000\n",
      "616200000\n",
      "170\n",
      "13081\n"
     ]
    }
   ],
   "source": [
    "print(np.min(points_data[:,0]))\n",
    "print(np.max(points_data[:,0]))\n",
    "\n",
    "print(np.min(points_data[:,1]))\n",
    "print(np.max(points_data[:,1]))\n",
    "\n",
    "print(np.min(points_data[:,2]))\n",
    "print(np.max(points_data[:,2]))"
   ]
  },
  {
   "cell_type": "code",
   "execution_count": null,
   "id": "bd4bb535",
   "metadata": {
    "scrolled": false
   },
   "outputs": [],
   "source": []
  },
  {
   "cell_type": "code",
   "execution_count": null,
   "id": "c006fb0e",
   "metadata": {},
   "outputs": [],
   "source": []
  },
  {
   "cell_type": "code",
   "execution_count": null,
   "id": "3baa4b6c",
   "metadata": {},
   "outputs": [],
   "source": []
  },
  {
   "cell_type": "code",
   "execution_count": null,
   "id": "ab3b18ea",
   "metadata": {
    "scrolled": true
   },
   "outputs": [],
   "source": []
  },
  {
   "cell_type": "code",
   "execution_count": null,
   "id": "a225225b",
   "metadata": {},
   "outputs": [],
   "source": []
  },
  {
   "cell_type": "code",
   "execution_count": null,
   "id": "01ce3de3",
   "metadata": {},
   "outputs": [],
   "source": []
  },
  {
   "cell_type": "code",
   "execution_count": null,
   "id": "54353f7f",
   "metadata": {},
   "outputs": [],
   "source": []
  },
  {
   "cell_type": "code",
   "execution_count": null,
   "id": "bd6e139a",
   "metadata": {},
   "outputs": [],
   "source": []
  },
  {
   "cell_type": "code",
   "execution_count": null,
   "id": "85fcbe8e",
   "metadata": {},
   "outputs": [],
   "source": []
  },
  {
   "cell_type": "code",
   "execution_count": null,
   "id": "8b005903",
   "metadata": {
    "scrolled": true
   },
   "outputs": [],
   "source": []
  },
  {
   "cell_type": "code",
   "execution_count": null,
   "id": "e76bc130",
   "metadata": {},
   "outputs": [],
   "source": []
  },
  {
   "cell_type": "code",
   "execution_count": null,
   "id": "d273ea5b",
   "metadata": {},
   "outputs": [],
   "source": []
  }
 ],
 "metadata": {
  "kernelspec": {
   "display_name": "Python 3 (ipykernel)",
   "language": "python",
   "name": "python3"
  },
  "language_info": {
   "codemirror_mode": {
    "name": "ipython",
    "version": 3
   },
   "file_extension": ".py",
   "mimetype": "text/x-python",
   "name": "python",
   "nbconvert_exporter": "python",
   "pygments_lexer": "ipython3",
   "version": "3.8.16"
  },
  "vscode": {
   "interpreter": {
    "hash": "916dbcbb3f70747c44a77c7bcd40155683ae19c65e1c03b4aa3499c5328201f1"
   }
  }
 },
 "nbformat": 4,
 "nbformat_minor": 5
}
